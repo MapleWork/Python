{
 "cells": [
  {
   "cell_type": "code",
   "execution_count": 5,
   "metadata": {},
   "outputs": [],
   "source": [
    "# 導入套件\n",
    "import pandas as pd\n",
    "import tensorflow as tf\n",
    "import numpy as np\n",
    "import pandas as pd\n",
    "import keras\n",
    "import matplotlib as plt\n",
    "import math\n",
    "\n",
    "from sklearn.metrics import mean_squared_error\n",
    "from sklearn.preprocessing import MinMaxScaler\n",
    "from sklearn.model_selection import train_test_split\n",
    "from matplotlib import pyplot as plt\n",
    "\n",
    "from keras import layers\n",
    "from keras import models\n",
    "\n",
    "from keras.models import Sequential\n",
    "from keras.layers import Dense\n",
    "from keras.layers import Dropout\n",
    "from keras.layers import LSTM"
   ]
  },
  {
   "cell_type": "code",
   "execution_count": 6,
   "metadata": {},
   "outputs": [
    {
     "data": {
      "text/html": [
       "<div>\n",
       "<style scoped>\n",
       "    .dataframe tbody tr th:only-of-type {\n",
       "        vertical-align: middle;\n",
       "    }\n",
       "\n",
       "    .dataframe tbody tr th {\n",
       "        vertical-align: top;\n",
       "    }\n",
       "\n",
       "    .dataframe thead th {\n",
       "        text-align: right;\n",
       "    }\n",
       "</style>\n",
       "<table border=\"1\" class=\"dataframe\">\n",
       "  <thead>\n",
       "    <tr style=\"text-align: right;\">\n",
       "      <th></th>\n",
       "      <th>Date</th>\n",
       "      <th>Open</th>\n",
       "      <th>High</th>\n",
       "      <th>Low</th>\n",
       "      <th>Close</th>\n",
       "      <th>Adj Close</th>\n",
       "      <th>Volume</th>\n",
       "    </tr>\n",
       "  </thead>\n",
       "  <tbody>\n",
       "    <tr>\n",
       "      <th>0</th>\n",
       "      <td>2016-03-24</td>\n",
       "      <td>202.000000</td>\n",
       "      <td>203.160004</td>\n",
       "      <td>201.740005</td>\n",
       "      <td>203.119995</td>\n",
       "      <td>184.766357</td>\n",
       "      <td>84360900</td>\n",
       "    </tr>\n",
       "    <tr>\n",
       "      <th>1</th>\n",
       "      <td>2016-03-28</td>\n",
       "      <td>203.610001</td>\n",
       "      <td>203.860001</td>\n",
       "      <td>202.710007</td>\n",
       "      <td>203.240005</td>\n",
       "      <td>184.875488</td>\n",
       "      <td>62408200</td>\n",
       "    </tr>\n",
       "    <tr>\n",
       "      <th>2</th>\n",
       "      <td>2016-03-29</td>\n",
       "      <td>202.759995</td>\n",
       "      <td>205.250000</td>\n",
       "      <td>202.399994</td>\n",
       "      <td>205.119995</td>\n",
       "      <td>186.585632</td>\n",
       "      <td>92922900</td>\n",
       "    </tr>\n",
       "    <tr>\n",
       "      <th>3</th>\n",
       "      <td>2016-03-30</td>\n",
       "      <td>206.300003</td>\n",
       "      <td>206.869995</td>\n",
       "      <td>205.589996</td>\n",
       "      <td>206.020004</td>\n",
       "      <td>187.404327</td>\n",
       "      <td>86365300</td>\n",
       "    </tr>\n",
       "    <tr>\n",
       "      <th>4</th>\n",
       "      <td>2016-03-31</td>\n",
       "      <td>205.910004</td>\n",
       "      <td>206.410004</td>\n",
       "      <td>205.330002</td>\n",
       "      <td>205.520004</td>\n",
       "      <td>186.949509</td>\n",
       "      <td>94584100</td>\n",
       "    </tr>\n",
       "    <tr>\n",
       "      <th>...</th>\n",
       "      <td>...</td>\n",
       "      <td>...</td>\n",
       "      <td>...</td>\n",
       "      <td>...</td>\n",
       "      <td>...</td>\n",
       "      <td>...</td>\n",
       "      <td>...</td>\n",
       "    </tr>\n",
       "    <tr>\n",
       "      <th>1253</th>\n",
       "      <td>2021-03-17</td>\n",
       "      <td>394.529999</td>\n",
       "      <td>398.119995</td>\n",
       "      <td>393.299988</td>\n",
       "      <td>397.260010</td>\n",
       "      <td>395.963135</td>\n",
       "      <td>91822000</td>\n",
       "    </tr>\n",
       "    <tr>\n",
       "      <th>1254</th>\n",
       "      <td>2021-03-18</td>\n",
       "      <td>394.480011</td>\n",
       "      <td>396.720001</td>\n",
       "      <td>390.750000</td>\n",
       "      <td>391.480011</td>\n",
       "      <td>390.201996</td>\n",
       "      <td>115112500</td>\n",
       "    </tr>\n",
       "    <tr>\n",
       "      <th>1255</th>\n",
       "      <td>2021-03-19</td>\n",
       "      <td>389.880005</td>\n",
       "      <td>391.570007</td>\n",
       "      <td>387.149994</td>\n",
       "      <td>389.480011</td>\n",
       "      <td>389.480011</td>\n",
       "      <td>112777800</td>\n",
       "    </tr>\n",
       "    <tr>\n",
       "      <th>1256</th>\n",
       "      <td>2021-03-22</td>\n",
       "      <td>390.029999</td>\n",
       "      <td>394.070007</td>\n",
       "      <td>389.970001</td>\n",
       "      <td>392.589996</td>\n",
       "      <td>392.589996</td>\n",
       "      <td>73778600</td>\n",
       "    </tr>\n",
       "    <tr>\n",
       "      <th>1257</th>\n",
       "      <td>2021-03-23</td>\n",
       "      <td>391.910004</td>\n",
       "      <td>393.459991</td>\n",
       "      <td>388.660004</td>\n",
       "      <td>389.500000</td>\n",
       "      <td>389.500000</td>\n",
       "      <td>90339200</td>\n",
       "    </tr>\n",
       "  </tbody>\n",
       "</table>\n",
       "<p>1258 rows × 7 columns</p>\n",
       "</div>"
      ],
      "text/plain": [
       "            Date        Open        High         Low       Close   Adj Close  \\\n",
       "0     2016-03-24  202.000000  203.160004  201.740005  203.119995  184.766357   \n",
       "1     2016-03-28  203.610001  203.860001  202.710007  203.240005  184.875488   \n",
       "2     2016-03-29  202.759995  205.250000  202.399994  205.119995  186.585632   \n",
       "3     2016-03-30  206.300003  206.869995  205.589996  206.020004  187.404327   \n",
       "4     2016-03-31  205.910004  206.410004  205.330002  205.520004  186.949509   \n",
       "...          ...         ...         ...         ...         ...         ...   \n",
       "1253  2021-03-17  394.529999  398.119995  393.299988  397.260010  395.963135   \n",
       "1254  2021-03-18  394.480011  396.720001  390.750000  391.480011  390.201996   \n",
       "1255  2021-03-19  389.880005  391.570007  387.149994  389.480011  389.480011   \n",
       "1256  2021-03-22  390.029999  394.070007  389.970001  392.589996  392.589996   \n",
       "1257  2021-03-23  391.910004  393.459991  388.660004  389.500000  389.500000   \n",
       "\n",
       "         Volume  \n",
       "0      84360900  \n",
       "1      62408200  \n",
       "2      92922900  \n",
       "3      86365300  \n",
       "4      94584100  \n",
       "...         ...  \n",
       "1253   91822000  \n",
       "1254  115112500  \n",
       "1255  112777800  \n",
       "1256   73778600  \n",
       "1257   90339200  \n",
       "\n",
       "[1258 rows x 7 columns]"
      ]
     },
     "execution_count": 6,
     "metadata": {},
     "output_type": "execute_result"
    }
   ],
   "source": [
    "# 從 D槽導入資料\n",
    "training_dataset = pd.read_csv('D:\\\\Crawler\\\\DownloadData\\\\SPY.csv')\n",
    "training_dataset # 顯示資料"
   ]
  },
  {
   "cell_type": "code",
   "execution_count": 7,
   "metadata": {},
   "outputs": [
    {
     "name": "stdout",
     "output_type": "stream",
     "text": [
      "Date         0\n",
      "Open         0\n",
      "High         0\n",
      "Low          0\n",
      "Close        0\n",
      "Adj Close    0\n",
      "Volume       0\n",
      "dtype: int64\n"
     ]
    }
   ],
   "source": [
    "print(training_dataset.isnull().sum()) #檢查空值，避免圖形改變"
   ]
  },
  {
   "cell_type": "code",
   "execution_count": 8,
   "metadata": {},
   "outputs": [],
   "source": [
    "# 刪除除了 Open、High、Low 的資料\n",
    "training_dataset.drop(['Date','Close','Adj Close','Volume'], axis = 1, inplace = True) "
   ]
  },
  {
   "cell_type": "code",
   "execution_count": 9,
   "metadata": {},
   "outputs": [
    {
     "data": {
      "text/plain": [
       "<AxesSubplot:title={'center':'SPY Stock'}>"
      ]
     },
     "execution_count": 9,
     "metadata": {},
     "output_type": "execute_result"
    },
    {
     "data": {
      "image/png": "[encoded data removed]",
      "text/plain": [
       "<Figure size 432x288 with 3 Axes>"
      ]
     },
     "metadata": {
      "needs_background": "light"
     },
     "output_type": "display_data"
    },
    {
     "data": {
      "image/png": "[encoded data removed]",
      "text/plain": [
       "<Figure size 432x288 with 1 Axes>"
      ]
     },
     "metadata": {
      "needs_background": "light"
     },
     "output_type": "display_data"
    }
   ],
   "source": [
    "# 可視化數據\n",
    "training_dataset.plot.line(subplots = True, title='SPY Stock')\n",
    "training_dataset.plot(title = 'SPY Stock')"
   ]
  },
  {
   "cell_type": "code",
   "execution_count": 11,
   "metadata": {},
   "outputs": [
    {
     "name": "stdout",
     "output_type": "stream",
     "text": [
      "            Open\n",
      "0     202.000000\n",
      "1     203.610001\n",
      "2     202.759995\n",
      "3     206.300003\n",
      "4     205.910004\n",
      "...          ...\n",
      "1251  394.329987\n",
      "1252  397.070007\n",
      "1253  394.529999\n",
      "1254  394.480011\n",
      "1255  389.880005\n",
      "\n",
      "[1256 rows x 1 columns]\n",
      "(1256, 1)\n"
     ]
    }
   ],
   "source": [
    "training_dataset.drop(['High','Low'], axis=1, inplace = True) # 刪除 High、Low的資料\n",
    "training_dataset.drop(training_dataset.tail(2).index,inplace=True) # 刪除最下面的兩行資料，獲得更乾淨的數字\n",
    "print(training_dataset)\n",
    "print(training_dataset.shape)"
   ]
  },
  {
   "cell_type": "code",
   "execution_count": 12,
   "metadata": {},
   "outputs": [
    {
     "data": {
      "text/plain": [
       "array([[202.      ],\n",
       "       [203.610001],\n",
       "       [202.759995],\n",
       "       ...,\n",
       "       [394.529999],\n",
       "       [394.480011],\n",
       "       [389.880005]])"
      ]
     },
     "execution_count": 12,
     "metadata": {},
     "output_type": "execute_result"
    }
   ],
   "source": [
    "train_data = training_dataset.to_numpy() # 使數據轉成numpy數據\n",
    "train_data"
   ]
  },
  {
   "cell_type": "code",
   "execution_count": 13,
   "metadata": {},
   "outputs": [
    {
     "name": "stdout",
     "output_type": "stream",
     "text": [
      "(1004, 1)\n",
      "(252, 1)\n"
     ]
    }
   ],
   "source": [
    "dataset_train = np.array(train_data[:int(train_data.shape[0]*0.8)]) \n",
    "dataset_test = np.array(train_data[int(train_data.shape[0]*0.8):])\n",
    "print(dataset_train.shape)\n",
    "print(dataset_test.shape)"
   ]
  },
  {
   "cell_type": "code",
   "execution_count": 14,
   "metadata": {},
   "outputs": [
    {
     "data": {
      "text/plain": [
       "(1004, 1)"
      ]
     },
     "execution_count": 14,
     "metadata": {},
     "output_type": "execute_result"
    }
   ],
   "source": [
    "# 將數據縮小到 0 ~ 1之間\n",
    "scalar = MinMaxScaler(feature_range = (0,1))\n",
    "train_data = scalar.fit_transform(dataset_train) \n",
    "train_data.shape"
   ]
  },
  {
   "cell_type": "code",
   "execution_count": 15,
   "metadata": {},
   "outputs": [
    {
     "data": {
      "text/plain": [
       "(1003, 1, 1)"
      ]
     },
     "execution_count": 15,
     "metadata": {},
     "output_type": "execute_result"
    }
   ],
   "source": [
    "x_train = train_data[0:1003]\n",
    "y_train = train_data[1:1004]\n",
    "\n",
    "x_train = np.reshape(x_train, (1003,1,1))\n",
    "x_train.shape"
   ]
  },
  {
   "cell_type": "code",
   "execution_count": null,
   "metadata": {},
   "outputs": [],
   "source": []
  }
 ],
 "metadata": {
  "kernelspec": {
   "display_name": "Python 3",
   "language": "python",
   "name": "python3"
  },
  "language_info": {
   "codemirror_mode": {
    "name": "ipython",
    "version": 3
   },
   "file_extension": ".py",
   "mimetype": "text/x-python",
   "name": "python",
   "nbconvert_exporter": "python",
   "pygments_lexer": "ipython3",
   "version": "3.8.5"
  }
 },
 "nbformat": 4,
 "nbformat_minor": 4
}
