{
 "cells": [
  {
   "cell_type": "code",
   "execution_count": 2,
   "id": "9ffa9343",
   "metadata": {},
   "outputs": [],
   "source": [
    "import qrcode"
   ]
  },
  {
   "cell_type": "code",
   "execution_count": 3,
   "id": "6f6b5efd",
   "metadata": {},
   "outputs": [],
   "source": [
    "url = \"https://github.com/Mapleyoyo\"\n",
    "\n",
    "img = qrcode.make(url)\n",
    "\n",
    "img.save(\"Github.jpg\")"
   ]
  },
  {
   "cell_type": "code",
   "execution_count": null,
   "id": "bdf0ab6e",
   "metadata": {},
   "outputs": [],
   "source": []
  }
 ],
 "metadata": {
  "kernelspec": {
   "display_name": "Python 3 (ipykernel)",
   "language": "python",
   "name": "python3"
  },
  "language_info": {
   "codemirror_mode": {
    "name": "ipython",
    "version": 3
   },
   "file_extension": ".py",
   "mimetype": "text/x-python",
   "name": "python",
   "nbconvert_exporter": "python",
   "pygments_lexer": "ipython3",
   "version": "3.8.12"
  }
 },
 "nbformat": 4,
 "nbformat_minor": 5
}
