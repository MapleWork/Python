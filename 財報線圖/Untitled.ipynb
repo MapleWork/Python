{
 "cells": [
  {
   "cell_type": "code",
   "execution_count": 1,
   "id": "d9e4bdd8",
   "metadata": {},
   "outputs": [],
   "source": [
    "import plotly\n",
    "import plotly.offline as pof\n",
    "import plotly.graph_objs as go\n",
    "import pandas as pd"
   ]
  },
  {
   "cell_type": "code",
   "execution_count": 2,
   "id": "1ba59971",
   "metadata": {},
   "outputs": [
    {
     "data": {
      "text/html": [
       "        <script type=\"text/javascript\">\n",
       "        window.PlotlyConfig = {MathJaxConfig: 'local'};\n",
       "        if (window.MathJax) {MathJax.Hub.Config({SVG: {font: \"STIX-Web\"}});}\n",
       "        if (typeof require !== 'undefined') {\n",
       "        require.undef(\"plotly\");\n",
       "        requirejs.config({\n",
       "            paths: {\n",
       "                'plotly': ['https://cdn.plot.ly/plotly-2.8.3.min']\n",
       "            }\n",
       "        });\n",
       "        require(['plotly'], function(Plotly) {\n",
       "            window._Plotly = Plotly;\n",
       "        });\n",
       "        }\n",
       "        </script>\n",
       "        "
      ]
     },
     "metadata": {},
     "output_type": "display_data"
    },
    {
     "data": {
      "text/html": [
       "<div>\n",
       "<style scoped>\n",
       "    .dataframe tbody tr th:only-of-type {\n",
       "        vertical-align: middle;\n",
       "    }\n",
       "\n",
       "    .dataframe tbody tr th {\n",
       "        vertical-align: top;\n",
       "    }\n",
       "\n",
       "    .dataframe thead th {\n",
       "        text-align: right;\n",
       "    }\n",
       "</style>\n",
       "<table border=\"1\" class=\"dataframe\">\n",
       "  <thead>\n",
       "    <tr style=\"text-align: right;\">\n",
       "      <th></th>\n",
       "      <th>存貨</th>\n",
       "      <th>流動資產合計</th>\n",
       "      <th>不動產、廠房及設備</th>\n",
       "      <th>資產總計</th>\n",
       "      <th>流動負債合計</th>\n",
       "      <th>負債總計</th>\n",
       "      <th>營業收入合計</th>\n",
       "      <th>本期淨利（淨損）</th>\n",
       "      <th>本期稅前淨利（淨損）</th>\n",
       "      <th>利息費用</th>\n",
       "      <th>營業活動之淨現金流入（流出）</th>\n",
       "      <th>股票代碼</th>\n",
       "      <th>股票名稱</th>\n",
       "      <th>季</th>\n",
       "    </tr>\n",
       "  </thead>\n",
       "  <tbody>\n",
       "    <tr>\n",
       "      <th>0</th>\n",
       "      <td>82981196</td>\n",
       "      <td>822613914</td>\n",
       "      <td>1352377405</td>\n",
       "      <td>2264805032</td>\n",
       "      <td>590735701</td>\n",
       "      <td>642709606</td>\n",
       "      <td>1069985448</td>\n",
       "      <td>345343809</td>\n",
       "      <td>389845336</td>\n",
       "      <td>3250847</td>\n",
       "      <td>615138744</td>\n",
       "      <td>2330</td>\n",
       "      <td>台積電</td>\n",
       "      <td>2019Q4</td>\n",
       "    </tr>\n",
       "    <tr>\n",
       "      <th>1</th>\n",
       "      <td>78277834</td>\n",
       "      <td>802470040</td>\n",
       "      <td>1438215285</td>\n",
       "      <td>2343295696</td>\n",
       "      <td>589468059</td>\n",
       "      <td>666267165</td>\n",
       "      <td>310597183</td>\n",
       "      <td>117062893</td>\n",
       "      <td>132147178</td>\n",
       "      <td>530564</td>\n",
       "      <td>203029442</td>\n",
       "      <td>2330</td>\n",
       "      <td>台積電</td>\n",
       "      <td>2020Q1</td>\n",
       "    </tr>\n",
       "    <tr>\n",
       "      <th>2</th>\n",
       "      <td>85788094</td>\n",
       "      <td>860031580</td>\n",
       "      <td>1493560950</td>\n",
       "      <td>2448664522</td>\n",
       "      <td>614795728</td>\n",
       "      <td>727451140</td>\n",
       "      <td>310698367</td>\n",
       "      <td>120892514</td>\n",
       "      <td>268545816</td>\n",
       "      <td>939709</td>\n",
       "      <td>373364401</td>\n",
       "      <td>2330</td>\n",
       "      <td>台積電</td>\n",
       "      <td>2020Q2</td>\n",
       "    </tr>\n",
       "    <tr>\n",
       "      <th>3</th>\n",
       "      <td>109509486</td>\n",
       "      <td>1029673918</td>\n",
       "      <td>1504438119</td>\n",
       "      <td>2635572214</td>\n",
       "      <td>588241723</td>\n",
       "      <td>847305839</td>\n",
       "      <td>356426204</td>\n",
       "      <td>137378151</td>\n",
       "      <td>423669819</td>\n",
       "      <td>1312873</td>\n",
       "      <td>563535628</td>\n",
       "      <td>2330</td>\n",
       "      <td>台積電</td>\n",
       "      <td>2020Q3</td>\n",
       "    </tr>\n",
       "    <tr>\n",
       "      <th>4</th>\n",
       "      <td>137353407</td>\n",
       "      <td>1092185308</td>\n",
       "      <td>1555589120</td>\n",
       "      <td>2760711405</td>\n",
       "      <td>617151048</td>\n",
       "      <td>910089406</td>\n",
       "      <td>1339254811</td>\n",
       "      <td>518158082</td>\n",
       "      <td>584777180</td>\n",
       "      <td>2081455</td>\n",
       "      <td>822666212</td>\n",
       "      <td>2330</td>\n",
       "      <td>台積電</td>\n",
       "      <td>2020Q4</td>\n",
       "    </tr>\n",
       "  </tbody>\n",
       "</table>\n",
       "</div>"
      ],
      "text/plain": [
       "          存貨      流動資產合計   不動產、廠房及設備        資產總計     流動負債合計       負債總計  \\\n",
       "0   82981196   822613914  1352377405  2264805032  590735701  642709606   \n",
       "1   78277834   802470040  1438215285  2343295696  589468059  666267165   \n",
       "2   85788094   860031580  1493560950  2448664522  614795728  727451140   \n",
       "3  109509486  1029673918  1504438119  2635572214  588241723  847305839   \n",
       "4  137353407  1092185308  1555589120  2760711405  617151048  910089406   \n",
       "\n",
       "       營業收入合計   本期淨利（淨損）  本期稅前淨利（淨損）     利息費用  營業活動之淨現金流入（流出）  股票代碼 股票名稱  \\\n",
       "0  1069985448  345343809   389845336  3250847       615138744  2330  台積電   \n",
       "1   310597183  117062893   132147178   530564       203029442  2330  台積電   \n",
       "2   310698367  120892514   268545816   939709       373364401  2330  台積電   \n",
       "3   356426204  137378151   423669819  1312873       563535628  2330  台積電   \n",
       "4  1339254811  518158082   584777180  2081455       822666212  2330  台積電   \n",
       "\n",
       "        季  \n",
       "0  2019Q4  \n",
       "1  2020Q1  \n",
       "2  2020Q2  \n",
       "3  2020Q3  \n",
       "4  2020Q4  "
      ]
     },
     "execution_count": 2,
     "metadata": {},
     "output_type": "execute_result"
    }
   ],
   "source": [
    "pof.init_notebook_mode(connected = True)\n",
    "df = pd.read_csv(\"D:\\\\資料庫\\\\台股\\\\個股\\\\2330.csv\")\n",
    "\n",
    "df"
   ]
  },
  {
   "cell_type": "code",
   "execution_count": 3,
   "id": "b733cb35",
   "metadata": {},
   "outputs": [
    {
     "data": {
      "application/vnd.plotly.v1+json": {
       "config": {
        "linkText": "Plotly Links",
        "plotlyServerURL": "https://plot.ly",
        "showLink": true
       },
       "data": [
        {
         "mode": "lines",
         "name": "存貨",
         "type": "scatter",
         "x": [
          "2019Q4",
          "2020Q1",
          "2020Q2",
          "2020Q3",
          "2020Q4"
         ],
         "y": [
          82981196,
          78277834,
          85788094,
          109509486,
          137353407
         ]
        },
        {
         "mode": "lines",
         "name": "流動資產合計",
         "type": "scatter",
         "x": [
          "2019Q4",
          "2020Q1",
          "2020Q2",
          "2020Q3",
          "2020Q4"
         ],
         "y": [
          822613914,
          802470040,
          860031580,
          1029673918,
          1092185308
         ]
        },
        {
         "mode": "lines",
         "name": "不動產、廠房及設備",
         "type": "scatter",
         "x": [
          "2019Q4",
          "2020Q1",
          "2020Q2",
          "2020Q3",
          "2020Q4"
         ],
         "y": [
          1352377405,
          1438215285,
          1493560950,
          1504438119,
          1555589120
         ]
        },
        {
         "mode": "lines",
         "name": "資產總計",
         "type": "scatter",
         "x": [
          "2019Q4",
          "2020Q1",
          "2020Q2",
          "2020Q3",
          "2020Q4"
         ],
         "y": [
          2264805032,
          2343295696,
          2448664522,
          2635572214,
          2760711405
         ]
        },
        {
         "mode": "lines",
         "name": "流動負債合計",
         "type": "scatter",
         "x": [
          "2019Q4",
          "2020Q1",
          "2020Q2",
          "2020Q3",
          "2020Q4"
         ],
         "y": [
          590735701,
          589468059,
          614795728,
          588241723,
          617151048
         ]
        },
        {
         "mode": "lines",
         "name": "負債總計",
         "type": "scatter",
         "x": [
          "2019Q4",
          "2020Q1",
          "2020Q2",
          "2020Q3",
          "2020Q4"
         ],
         "y": [
          642709606,
          666267165,
          727451140,
          847305839,
          910089406
         ]
        },
        {
         "mode": "lines",
         "name": "營業收入合計",
         "type": "scatter",
         "x": [
          "2019Q4",
          "2020Q1",
          "2020Q2",
          "2020Q3",
          "2020Q4"
         ],
         "y": [
          1069985448,
          310597183,
          310698367,
          356426204,
          1339254811
         ]
        },
        {
         "mode": "lines",
         "name": "本期淨利（淨損）",
         "type": "scatter",
         "x": [
          "2019Q4",
          "2020Q1",
          "2020Q2",
          "2020Q3",
          "2020Q4"
         ],
         "y": [
          345343809,
          117062893,
          120892514,
          137378151,
          518158082
         ]
        },
        {
         "mode": "lines",
         "name": "本期稅前淨利（淨損）",
         "type": "scatter",
         "x": [
          "2019Q4",
          "2020Q1",
          "2020Q2",
          "2020Q3",
          "2020Q4"
         ],
         "y": [
          389845336,
          132147178,
          268545816,
          423669819,
          584777180
         ]
        },
        {
         "mode": "lines",
         "name": "利息費用",
         "type": "scatter",
         "x": [
          "2019Q4",
          "2020Q1",
          "2020Q2",
          "2020Q3",
          "2020Q4"
         ],
         "y": [
          3250847,
          530564,
          939709,
          1312873,
          2081455
         ]
        },
        {
         "mode": "lines",
         "name": "營業活動之淨現金流入（流出）",
         "type": "scatter",
         "x": [
          "2019Q4",
          "2020Q1",
          "2020Q2",
          "2020Q3",
          "2020Q4"
         ],
         "y": [
          615138744,
          203029442,
          373364401,
          563535628,
          822666212
         ]
        }
       ],
       "layout": {
        "font": {
         "color": "#34ec28",
         "family": "fantasy",
         "size": 30
        },
        "paper_bgcolor": "#23bcff",
        "plot_bgcolor": "#000000",
        "showlegend": true,
        "template": {
         "data": {
          "bar": [
           {
            "error_x": {
             "color": "#2a3f5f"
            },
            "error_y": {
             "color": "#2a3f5f"
            },
            "marker": {
             "line": {
              "color": "#E5ECF6",
              "width": 0.5
             },
             "pattern": {
              "fillmode": "overlay",
              "size": 10,
              "solidity": 0.2
             }
            },
            "type": "bar"
           }
          ],
          "barpolar": [
           {
            "marker": {
             "line": {
              "color": "#E5ECF6",
              "width": 0.5
             },
             "pattern": {
              "fillmode": "overlay",
              "size": 10,
              "solidity": 0.2
             }
            },
            "type": "barpolar"
           }
          ],
          "carpet": [
           {
            "aaxis": {
             "endlinecolor": "#2a3f5f",
             "gridcolor": "white",
             "linecolor": "white",
             "minorgridcolor": "white",
             "startlinecolor": "#2a3f5f"
            },
            "baxis": {
             "endlinecolor": "#2a3f5f",
             "gridcolor": "white",
             "linecolor": "white",
             "minorgridcolor": "white",
             "startlinecolor": "#2a3f5f"
            },
            "type": "carpet"
           }
          ],
          "choropleth": [
           {
            "colorbar": {
             "outlinewidth": 0,
             "ticks": ""
            },
            "type": "choropleth"
           }
          ],
          "contour": [
           {
            "colorbar": {
             "outlinewidth": 0,
             "ticks": ""
            },
            "colorscale": [
             [
              0,
              "#0d0887"
             ],
             [
              0.1111111111111111,
              "#46039f"
             ],
             [
              0.2222222222222222,
              "#7201a8"
             ],
             [
              0.3333333333333333,
              "#9c179e"
             ],
             [
              0.4444444444444444,
              "#bd3786"
             ],
             [
              0.5555555555555556,
              "#d8576b"
             ],
             [
              0.6666666666666666,
              "#ed7953"
             ],
             [
              0.7777777777777778,
              "#fb9f3a"
             ],
             [
              0.8888888888888888,
              "#fdca26"
             ],
             [
              1,
              "#f0f921"
             ]
            ],
            "type": "contour"
           }
          ],
          "contourcarpet": [
           {
            "colorbar": {
             "outlinewidth": 0,
             "ticks": ""
            },
            "type": "contourcarpet"
           }
          ],
          "heatmap": [
           {
            "colorbar": {
             "outlinewidth": 0,
             "ticks": ""
            },
            "colorscale": [
             [
              0,
              "#0d0887"
             ],
             [
              0.1111111111111111,
              "#46039f"
             ],
             [
              0.2222222222222222,
              "#7201a8"
             ],
             [
              0.3333333333333333,
              "#9c179e"
             ],
             [
              0.4444444444444444,
              "#bd3786"
             ],
             [
              0.5555555555555556,
              "#d8576b"
             ],
             [
              0.6666666666666666,
              "#ed7953"
             ],
             [
              0.7777777777777778,
              "#fb9f3a"
             ],
             [
              0.8888888888888888,
              "#fdca26"
             ],
             [
              1,
              "#f0f921"
             ]
            ],
            "type": "heatmap"
           }
          ],
          "heatmapgl": [
           {
            "colorbar": {
             "outlinewidth": 0,
             "ticks": ""
            },
            "colorscale": [
             [
              0,
              "#0d0887"
             ],
             [
              0.1111111111111111,
              "#46039f"
             ],
             [
              0.2222222222222222,
              "#7201a8"
             ],
             [
              0.3333333333333333,
              "#9c179e"
             ],
             [
              0.4444444444444444,
              "#bd3786"
             ],
             [
              0.5555555555555556,
              "#d8576b"
             ],
             [
              0.6666666666666666,
              "#ed7953"
             ],
             [
              0.7777777777777778,
              "#fb9f3a"
             ],
             [
              0.8888888888888888,
              "#fdca26"
             ],
             [
              1,
              "#f0f921"
             ]
            ],
            "type": "heatmapgl"
           }
          ],
          "histogram": [
           {
            "marker": {
             "pattern": {
              "fillmode": "overlay",
              "size": 10,
              "solidity": 0.2
             }
            },
            "type": "histogram"
           }
          ],
          "histogram2d": [
           {
            "colorbar": {
             "outlinewidth": 0,
             "ticks": ""
            },
            "colorscale": [
             [
              0,
              "#0d0887"
             ],
             [
              0.1111111111111111,
              "#46039f"
             ],
             [
              0.2222222222222222,
              "#7201a8"
             ],
             [
              0.3333333333333333,
              "#9c179e"
             ],
             [
              0.4444444444444444,
              "#bd3786"
             ],
             [
              0.5555555555555556,
              "#d8576b"
             ],
             [
              0.6666666666666666,
              "#ed7953"
             ],
             [
              0.7777777777777778,
              "#fb9f3a"
             ],
             [
              0.8888888888888888,
              "#fdca26"
             ],
             [
              1,
              "#f0f921"
             ]
            ],
            "type": "histogram2d"
           }
          ],
          "histogram2dcontour": [
           {
            "colorbar": {
             "outlinewidth": 0,
             "ticks": ""
            },
            "colorscale": [
             [
              0,
              "#0d0887"
             ],
             [
              0.1111111111111111,
              "#46039f"
             ],
             [
              0.2222222222222222,
              "#7201a8"
             ],
             [
              0.3333333333333333,
              "#9c179e"
             ],
             [
              0.4444444444444444,
              "#bd3786"
             ],
             [
              0.5555555555555556,
              "#d8576b"
             ],
             [
              0.6666666666666666,
              "#ed7953"
             ],
             [
              0.7777777777777778,
              "#fb9f3a"
             ],
             [
              0.8888888888888888,
              "#fdca26"
             ],
             [
              1,
              "#f0f921"
             ]
            ],
            "type": "histogram2dcontour"
           }
          ],
          "mesh3d": [
           {
            "colorbar": {
             "outlinewidth": 0,
             "ticks": ""
            },
            "type": "mesh3d"
           }
          ],
          "parcoords": [
           {
            "line": {
             "colorbar": {
              "outlinewidth": 0,
              "ticks": ""
             }
            },
            "type": "parcoords"
           }
          ],
          "pie": [
           {
            "automargin": true,
            "type": "pie"
           }
          ],
          "scatter": [
           {
            "marker": {
             "colorbar": {
              "outlinewidth": 0,
              "ticks": ""
             }
            },
            "type": "scatter"
           }
          ],
          "scatter3d": [
           {
            "line": {
             "colorbar": {
              "outlinewidth": 0,
              "ticks": ""
             }
            },
            "marker": {
             "colorbar": {
              "outlinewidth": 0,
              "ticks": ""
             }
            },
            "type": "scatter3d"
           }
          ],
          "scattercarpet": [
           {
            "marker": {
             "colorbar": {
              "outlinewidth": 0,
              "ticks": ""
             }
            },
            "type": "scattercarpet"
           }
          ],
          "scattergeo": [
           {
            "marker": {
             "colorbar": {
              "outlinewidth": 0,
              "ticks": ""
             }
            },
            "type": "scattergeo"
           }
          ],
          "scattergl": [
           {
            "marker": {
             "colorbar": {
              "outlinewidth": 0,
              "ticks": ""
             }
            },
            "type": "scattergl"
           }
          ],
          "scattermapbox": [
           {
            "marker": {
             "colorbar": {
              "outlinewidth": 0,
              "ticks": ""
             }
            },
            "type": "scattermapbox"
           }
          ],
          "scatterpolar": [
           {
            "marker": {
             "colorbar": {
              "outlinewidth": 0,
              "ticks": ""
             }
            },
            "type": "scatterpolar"
           }
          ],
          "scatterpolargl": [
           {
            "marker": {
             "colorbar": {
              "outlinewidth": 0,
              "ticks": ""
             }
            },
            "type": "scatterpolargl"
           }
          ],
          "scatterternary": [
           {
            "marker": {
             "colorbar": {
              "outlinewidth": 0,
              "ticks": ""
             }
            },
            "type": "scatterternary"
           }
          ],
          "surface": [
           {
            "colorbar": {
             "outlinewidth": 0,
             "ticks": ""
            },
            "colorscale": [
             [
              0,
              "#0d0887"
             ],
             [
              0.1111111111111111,
              "#46039f"
             ],
             [
              0.2222222222222222,
              "#7201a8"
             ],
             [
              0.3333333333333333,
              "#9c179e"
             ],
             [
              0.4444444444444444,
              "#bd3786"
             ],
             [
              0.5555555555555556,
              "#d8576b"
             ],
             [
              0.6666666666666666,
              "#ed7953"
             ],
             [
              0.7777777777777778,
              "#fb9f3a"
             ],
             [
              0.8888888888888888,
              "#fdca26"
             ],
             [
              1,
              "#f0f921"
             ]
            ],
            "type": "surface"
           }
          ],
          "table": [
           {
            "cells": {
             "fill": {
              "color": "#EBF0F8"
             },
             "line": {
              "color": "white"
             }
            },
            "header": {
             "fill": {
              "color": "#C8D4E3"
             },
             "line": {
              "color": "white"
             }
            },
            "type": "table"
           }
          ]
         },
         "layout": {
          "annotationdefaults": {
           "arrowcolor": "#2a3f5f",
           "arrowhead": 0,
           "arrowwidth": 1
          },
          "autotypenumbers": "strict",
          "coloraxis": {
           "colorbar": {
            "outlinewidth": 0,
            "ticks": ""
           }
          },
          "colorscale": {
           "diverging": [
            [
             0,
             "#8e0152"
            ],
            [
             0.1,
             "#c51b7d"
            ],
            [
             0.2,
             "#de77ae"
            ],
            [
             0.3,
             "#f1b6da"
            ],
            [
             0.4,
             "#fde0ef"
            ],
            [
             0.5,
             "#f7f7f7"
            ],
            [
             0.6,
             "#e6f5d0"
            ],
            [
             0.7,
             "#b8e186"
            ],
            [
             0.8,
             "#7fbc41"
            ],
            [
             0.9,
             "#4d9221"
            ],
            [
             1,
             "#276419"
            ]
           ],
           "sequential": [
            [
             0,
             "#0d0887"
            ],
            [
             0.1111111111111111,
             "#46039f"
            ],
            [
             0.2222222222222222,
             "#7201a8"
            ],
            [
             0.3333333333333333,
             "#9c179e"
            ],
            [
             0.4444444444444444,
             "#bd3786"
            ],
            [
             0.5555555555555556,
             "#d8576b"
            ],
            [
             0.6666666666666666,
             "#ed7953"
            ],
            [
             0.7777777777777778,
             "#fb9f3a"
            ],
            [
             0.8888888888888888,
             "#fdca26"
            ],
            [
             1,
             "#f0f921"
            ]
           ],
           "sequentialminus": [
            [
             0,
             "#0d0887"
            ],
            [
             0.1111111111111111,
             "#46039f"
            ],
            [
             0.2222222222222222,
             "#7201a8"
            ],
            [
             0.3333333333333333,
             "#9c179e"
            ],
            [
             0.4444444444444444,
             "#bd3786"
            ],
            [
             0.5555555555555556,
             "#d8576b"
            ],
            [
             0.6666666666666666,
             "#ed7953"
            ],
            [
             0.7777777777777778,
             "#fb9f3a"
            ],
            [
             0.8888888888888888,
             "#fdca26"
            ],
            [
             1,
             "#f0f921"
            ]
           ]
          },
          "colorway": [
           "#636efa",
           "#EF553B",
           "#00cc96",
           "#ab63fa",
           "#FFA15A",
           "#19d3f3",
           "#FF6692",
           "#B6E880",
           "#FF97FF",
           "#FECB52"
          ],
          "font": {
           "color": "#2a3f5f"
          },
          "geo": {
           "bgcolor": "white",
           "lakecolor": "white",
           "landcolor": "#E5ECF6",
           "showlakes": true,
           "showland": true,
           "subunitcolor": "white"
          },
          "hoverlabel": {
           "align": "left"
          },
          "hovermode": "closest",
          "mapbox": {
           "style": "light"
          },
          "paper_bgcolor": "white",
          "plot_bgcolor": "#E5ECF6",
          "polar": {
           "angularaxis": {
            "gridcolor": "white",
            "linecolor": "white",
            "ticks": ""
           },
           "bgcolor": "#E5ECF6",
           "radialaxis": {
            "gridcolor": "white",
            "linecolor": "white",
            "ticks": ""
           }
          },
          "scene": {
           "xaxis": {
            "backgroundcolor": "#E5ECF6",
            "gridcolor": "white",
            "gridwidth": 2,
            "linecolor": "white",
            "showbackground": true,
            "ticks": "",
            "zerolinecolor": "white"
           },
           "yaxis": {
            "backgroundcolor": "#E5ECF6",
            "gridcolor": "white",
            "gridwidth": 2,
            "linecolor": "white",
            "showbackground": true,
            "ticks": "",
            "zerolinecolor": "white"
           },
           "zaxis": {
            "backgroundcolor": "#E5ECF6",
            "gridcolor": "white",
            "gridwidth": 2,
            "linecolor": "white",
            "showbackground": true,
            "ticks": "",
            "zerolinecolor": "white"
           }
          },
          "shapedefaults": {
           "line": {
            "color": "#2a3f5f"
           }
          },
          "ternary": {
           "aaxis": {
            "gridcolor": "white",
            "linecolor": "white",
            "ticks": ""
           },
           "baxis": {
            "gridcolor": "white",
            "linecolor": "white",
            "ticks": ""
           },
           "bgcolor": "#E5ECF6",
           "caxis": {
            "gridcolor": "white",
            "linecolor": "white",
            "ticks": ""
           }
          },
          "title": {
           "x": 0.05
          },
          "xaxis": {
           "automargin": true,
           "gridcolor": "white",
           "linecolor": "white",
           "ticks": "",
           "title": {
            "standoff": 15
           },
           "zerolinecolor": "white",
           "zerolinewidth": 2
          },
          "yaxis": {
           "automargin": true,
           "gridcolor": "white",
           "linecolor": "white",
           "ticks": "",
           "title": {
            "standoff": 15
           },
           "zerolinecolor": "white",
           "zerolinewidth": 2
          }
         }
        },
        "title": {
         "text": "2330"
        },
        "xaxis": {
         "title": {
          "text": "Season"
         }
        },
        "yaxis": {
         "title": {
          "text": "Price"
         }
        }
       }
      },
      "text/html": [
       "<div>                            <div id=\"b95ba204-6e44-4f9a-b88c-f184a55b5477\" class=\"plotly-graph-div\" style=\"height:525px; width:100%;\"></div>            <script type=\"text/javascript\">                require([\"plotly\"], function(Plotly) {                    window.PLOTLYENV=window.PLOTLYENV || {};\n",
       "                    window.PLOTLYENV.BASE_URL='https://plot.ly';                                    if (document.getElementById(\"b95ba204-6e44-4f9a-b88c-f184a55b5477\")) {                    Plotly.newPlot(                        \"b95ba204-6e44-4f9a-b88c-f184a55b5477\",                        [{\"mode\":\"lines\",\"name\":\"存貨\",\"x\":[\"2019Q4\",\"2020Q1\",\"2020Q2\",\"2020Q3\",\"2020Q4\"],\"y\":[82981196,78277834,85788094,109509486,137353407],\"type\":\"scatter\"},{\"mode\":\"lines\",\"name\":\"流動資產合計\",\"x\":[\"2019Q4\",\"2020Q1\",\"2020Q2\",\"2020Q3\",\"2020Q4\"],\"y\":[822613914,802470040,860031580,1029673918,1092185308],\"type\":\"scatter\"},{\"mode\":\"lines\",\"name\":\"不動產、廠房及設備\",\"x\":[\"2019Q4\",\"2020Q1\",\"2020Q2\",\"2020Q3\",\"2020Q4\"],\"y\":[1352377405,1438215285,1493560950,1504438119,1555589120],\"type\":\"scatter\"},{\"mode\":\"lines\",\"name\":\"資產總計\",\"x\":[\"2019Q4\",\"2020Q1\",\"2020Q2\",\"2020Q3\",\"2020Q4\"],\"y\":[2264805032,2343295696,2448664522,2635572214,2760711405],\"type\":\"scatter\"},{\"mode\":\"lines\",\"name\":\"流動負債合計\",\"x\":[\"2019Q4\",\"2020Q1\",\"2020Q2\",\"2020Q3\",\"2020Q4\"],\"y\":[590735701,589468059,614795728,588241723,617151048],\"type\":\"scatter\"},{\"mode\":\"lines\",\"name\":\"負債總計\",\"x\":[\"2019Q4\",\"2020Q1\",\"2020Q2\",\"2020Q3\",\"2020Q4\"],\"y\":[642709606,666267165,727451140,847305839,910089406],\"type\":\"scatter\"},{\"mode\":\"lines\",\"name\":\"營業收入合計\",\"x\":[\"2019Q4\",\"2020Q1\",\"2020Q2\",\"2020Q3\",\"2020Q4\"],\"y\":[1069985448,310597183,310698367,356426204,1339254811],\"type\":\"scatter\"},{\"mode\":\"lines\",\"name\":\"本期淨利（淨損）\",\"x\":[\"2019Q4\",\"2020Q1\",\"2020Q2\",\"2020Q3\",\"2020Q4\"],\"y\":[345343809,117062893,120892514,137378151,518158082],\"type\":\"scatter\"},{\"mode\":\"lines\",\"name\":\"本期稅前淨利（淨損）\",\"x\":[\"2019Q4\",\"2020Q1\",\"2020Q2\",\"2020Q3\",\"2020Q4\"],\"y\":[389845336,132147178,268545816,423669819,584777180],\"type\":\"scatter\"},{\"mode\":\"lines\",\"name\":\"利息費用\",\"x\":[\"2019Q4\",\"2020Q1\",\"2020Q2\",\"2020Q3\",\"2020Q4\"],\"y\":[3250847,530564,939709,1312873,2081455],\"type\":\"scatter\"},{\"mode\":\"lines\",\"name\":\"營業活動之淨現金流入（流出）\",\"x\":[\"2019Q4\",\"2020Q1\",\"2020Q2\",\"2020Q3\",\"2020Q4\"],\"y\":[615138744,203029442,373364401,563535628,822666212],\"type\":\"scatter\"}],                        {\"font\":{\"color\":\"#34ec28\",\"family\":\"fantasy\",\"size\":30},\"paper_bgcolor\":\"#23bcff\",\"plot_bgcolor\":\"#000000\",\"showlegend\":true,\"template\":{\"data\":{\"barpolar\":[{\"marker\":{\"line\":{\"color\":\"#E5ECF6\",\"width\":0.5},\"pattern\":{\"fillmode\":\"overlay\",\"size\":10,\"solidity\":0.2}},\"type\":\"barpolar\"}],\"bar\":[{\"error_x\":{\"color\":\"#2a3f5f\"},\"error_y\":{\"color\":\"#2a3f5f\"},\"marker\":{\"line\":{\"color\":\"#E5ECF6\",\"width\":0.5},\"pattern\":{\"fillmode\":\"overlay\",\"size\":10,\"solidity\":0.2}},\"type\":\"bar\"}],\"carpet\":[{\"aaxis\":{\"endlinecolor\":\"#2a3f5f\",\"gridcolor\":\"white\",\"linecolor\":\"white\",\"minorgridcolor\":\"white\",\"startlinecolor\":\"#2a3f5f\"},\"baxis\":{\"endlinecolor\":\"#2a3f5f\",\"gridcolor\":\"white\",\"linecolor\":\"white\",\"minorgridcolor\":\"white\",\"startlinecolor\":\"#2a3f5f\"},\"type\":\"carpet\"}],\"choropleth\":[{\"colorbar\":{\"outlinewidth\":0,\"ticks\":\"\"},\"type\":\"choropleth\"}],\"contourcarpet\":[{\"colorbar\":{\"outlinewidth\":0,\"ticks\":\"\"},\"type\":\"contourcarpet\"}],\"contour\":[{\"colorbar\":{\"outlinewidth\":0,\"ticks\":\"\"},\"colorscale\":[[0.0,\"#0d0887\"],[0.1111111111111111,\"#46039f\"],[0.2222222222222222,\"#7201a8\"],[0.3333333333333333,\"#9c179e\"],[0.4444444444444444,\"#bd3786\"],[0.5555555555555556,\"#d8576b\"],[0.6666666666666666,\"#ed7953\"],[0.7777777777777778,\"#fb9f3a\"],[0.8888888888888888,\"#fdca26\"],[1.0,\"#f0f921\"]],\"type\":\"contour\"}],\"heatmapgl\":[{\"colorbar\":{\"outlinewidth\":0,\"ticks\":\"\"},\"colorscale\":[[0.0,\"#0d0887\"],[0.1111111111111111,\"#46039f\"],[0.2222222222222222,\"#7201a8\"],[0.3333333333333333,\"#9c179e\"],[0.4444444444444444,\"#bd3786\"],[0.5555555555555556,\"#d8576b\"],[0.6666666666666666,\"#ed7953\"],[0.7777777777777778,\"#fb9f3a\"],[0.8888888888888888,\"#fdca26\"],[1.0,\"#f0f921\"]],\"type\":\"heatmapgl\"}],\"heatmap\":[{\"colorbar\":{\"outlinewidth\":0,\"ticks\":\"\"},\"colorscale\":[[0.0,\"#0d0887\"],[0.1111111111111111,\"#46039f\"],[0.2222222222222222,\"#7201a8\"],[0.3333333333333333,\"#9c179e\"],[0.4444444444444444,\"#bd3786\"],[0.5555555555555556,\"#d8576b\"],[0.6666666666666666,\"#ed7953\"],[0.7777777777777778,\"#fb9f3a\"],[0.8888888888888888,\"#fdca26\"],[1.0,\"#f0f921\"]],\"type\":\"heatmap\"}],\"histogram2dcontour\":[{\"colorbar\":{\"outlinewidth\":0,\"ticks\":\"\"},\"colorscale\":[[0.0,\"#0d0887\"],[0.1111111111111111,\"#46039f\"],[0.2222222222222222,\"#7201a8\"],[0.3333333333333333,\"#9c179e\"],[0.4444444444444444,\"#bd3786\"],[0.5555555555555556,\"#d8576b\"],[0.6666666666666666,\"#ed7953\"],[0.7777777777777778,\"#fb9f3a\"],[0.8888888888888888,\"#fdca26\"],[1.0,\"#f0f921\"]],\"type\":\"histogram2dcontour\"}],\"histogram2d\":[{\"colorbar\":{\"outlinewidth\":0,\"ticks\":\"\"},\"colorscale\":[[0.0,\"#0d0887\"],[0.1111111111111111,\"#46039f\"],[0.2222222222222222,\"#7201a8\"],[0.3333333333333333,\"#9c179e\"],[0.4444444444444444,\"#bd3786\"],[0.5555555555555556,\"#d8576b\"],[0.6666666666666666,\"#ed7953\"],[0.7777777777777778,\"#fb9f3a\"],[0.8888888888888888,\"#fdca26\"],[1.0,\"#f0f921\"]],\"type\":\"histogram2d\"}],\"histogram\":[{\"marker\":{\"pattern\":{\"fillmode\":\"overlay\",\"size\":10,\"solidity\":0.2}},\"type\":\"histogram\"}],\"mesh3d\":[{\"colorbar\":{\"outlinewidth\":0,\"ticks\":\"\"},\"type\":\"mesh3d\"}],\"parcoords\":[{\"line\":{\"colorbar\":{\"outlinewidth\":0,\"ticks\":\"\"}},\"type\":\"parcoords\"}],\"pie\":[{\"automargin\":true,\"type\":\"pie\"}],\"scatter3d\":[{\"line\":{\"colorbar\":{\"outlinewidth\":0,\"ticks\":\"\"}},\"marker\":{\"colorbar\":{\"outlinewidth\":0,\"ticks\":\"\"}},\"type\":\"scatter3d\"}],\"scattercarpet\":[{\"marker\":{\"colorbar\":{\"outlinewidth\":0,\"ticks\":\"\"}},\"type\":\"scattercarpet\"}],\"scattergeo\":[{\"marker\":{\"colorbar\":{\"outlinewidth\":0,\"ticks\":\"\"}},\"type\":\"scattergeo\"}],\"scattergl\":[{\"marker\":{\"colorbar\":{\"outlinewidth\":0,\"ticks\":\"\"}},\"type\":\"scattergl\"}],\"scattermapbox\":[{\"marker\":{\"colorbar\":{\"outlinewidth\":0,\"ticks\":\"\"}},\"type\":\"scattermapbox\"}],\"scatterpolargl\":[{\"marker\":{\"colorbar\":{\"outlinewidth\":0,\"ticks\":\"\"}},\"type\":\"scatterpolargl\"}],\"scatterpolar\":[{\"marker\":{\"colorbar\":{\"outlinewidth\":0,\"ticks\":\"\"}},\"type\":\"scatterpolar\"}],\"scatter\":[{\"marker\":{\"colorbar\":{\"outlinewidth\":0,\"ticks\":\"\"}},\"type\":\"scatter\"}],\"scatterternary\":[{\"marker\":{\"colorbar\":{\"outlinewidth\":0,\"ticks\":\"\"}},\"type\":\"scatterternary\"}],\"surface\":[{\"colorbar\":{\"outlinewidth\":0,\"ticks\":\"\"},\"colorscale\":[[0.0,\"#0d0887\"],[0.1111111111111111,\"#46039f\"],[0.2222222222222222,\"#7201a8\"],[0.3333333333333333,\"#9c179e\"],[0.4444444444444444,\"#bd3786\"],[0.5555555555555556,\"#d8576b\"],[0.6666666666666666,\"#ed7953\"],[0.7777777777777778,\"#fb9f3a\"],[0.8888888888888888,\"#fdca26\"],[1.0,\"#f0f921\"]],\"type\":\"surface\"}],\"table\":[{\"cells\":{\"fill\":{\"color\":\"#EBF0F8\"},\"line\":{\"color\":\"white\"}},\"header\":{\"fill\":{\"color\":\"#C8D4E3\"},\"line\":{\"color\":\"white\"}},\"type\":\"table\"}]},\"layout\":{\"annotationdefaults\":{\"arrowcolor\":\"#2a3f5f\",\"arrowhead\":0,\"arrowwidth\":1},\"autotypenumbers\":\"strict\",\"coloraxis\":{\"colorbar\":{\"outlinewidth\":0,\"ticks\":\"\"}},\"colorscale\":{\"diverging\":[[0,\"#8e0152\"],[0.1,\"#c51b7d\"],[0.2,\"#de77ae\"],[0.3,\"#f1b6da\"],[0.4,\"#fde0ef\"],[0.5,\"#f7f7f7\"],[0.6,\"#e6f5d0\"],[0.7,\"#b8e186\"],[0.8,\"#7fbc41\"],[0.9,\"#4d9221\"],[1,\"#276419\"]],\"sequential\":[[0.0,\"#0d0887\"],[0.1111111111111111,\"#46039f\"],[0.2222222222222222,\"#7201a8\"],[0.3333333333333333,\"#9c179e\"],[0.4444444444444444,\"#bd3786\"],[0.5555555555555556,\"#d8576b\"],[0.6666666666666666,\"#ed7953\"],[0.7777777777777778,\"#fb9f3a\"],[0.8888888888888888,\"#fdca26\"],[1.0,\"#f0f921\"]],\"sequentialminus\":[[0.0,\"#0d0887\"],[0.1111111111111111,\"#46039f\"],[0.2222222222222222,\"#7201a8\"],[0.3333333333333333,\"#9c179e\"],[0.4444444444444444,\"#bd3786\"],[0.5555555555555556,\"#d8576b\"],[0.6666666666666666,\"#ed7953\"],[0.7777777777777778,\"#fb9f3a\"],[0.8888888888888888,\"#fdca26\"],[1.0,\"#f0f921\"]]},\"colorway\":[\"#636efa\",\"#EF553B\",\"#00cc96\",\"#ab63fa\",\"#FFA15A\",\"#19d3f3\",\"#FF6692\",\"#B6E880\",\"#FF97FF\",\"#FECB52\"],\"font\":{\"color\":\"#2a3f5f\"},\"geo\":{\"bgcolor\":\"white\",\"lakecolor\":\"white\",\"landcolor\":\"#E5ECF6\",\"showlakes\":true,\"showland\":true,\"subunitcolor\":\"white\"},\"hoverlabel\":{\"align\":\"left\"},\"hovermode\":\"closest\",\"mapbox\":{\"style\":\"light\"},\"paper_bgcolor\":\"white\",\"plot_bgcolor\":\"#E5ECF6\",\"polar\":{\"angularaxis\":{\"gridcolor\":\"white\",\"linecolor\":\"white\",\"ticks\":\"\"},\"bgcolor\":\"#E5ECF6\",\"radialaxis\":{\"gridcolor\":\"white\",\"linecolor\":\"white\",\"ticks\":\"\"}},\"scene\":{\"xaxis\":{\"backgroundcolor\":\"#E5ECF6\",\"gridcolor\":\"white\",\"gridwidth\":2,\"linecolor\":\"white\",\"showbackground\":true,\"ticks\":\"\",\"zerolinecolor\":\"white\"},\"yaxis\":{\"backgroundcolor\":\"#E5ECF6\",\"gridcolor\":\"white\",\"gridwidth\":2,\"linecolor\":\"white\",\"showbackground\":true,\"ticks\":\"\",\"zerolinecolor\":\"white\"},\"zaxis\":{\"backgroundcolor\":\"#E5ECF6\",\"gridcolor\":\"white\",\"gridwidth\":2,\"linecolor\":\"white\",\"showbackground\":true,\"ticks\":\"\",\"zerolinecolor\":\"white\"}},\"shapedefaults\":{\"line\":{\"color\":\"#2a3f5f\"}},\"ternary\":{\"aaxis\":{\"gridcolor\":\"white\",\"linecolor\":\"white\",\"ticks\":\"\"},\"baxis\":{\"gridcolor\":\"white\",\"linecolor\":\"white\",\"ticks\":\"\"},\"bgcolor\":\"#E5ECF6\",\"caxis\":{\"gridcolor\":\"white\",\"linecolor\":\"white\",\"ticks\":\"\"}},\"title\":{\"x\":0.05},\"xaxis\":{\"automargin\":true,\"gridcolor\":\"white\",\"linecolor\":\"white\",\"ticks\":\"\",\"title\":{\"standoff\":15},\"zerolinecolor\":\"white\",\"zerolinewidth\":2},\"yaxis\":{\"automargin\":true,\"gridcolor\":\"white\",\"linecolor\":\"white\",\"ticks\":\"\",\"title\":{\"standoff\":15},\"zerolinecolor\":\"white\",\"zerolinewidth\":2}}},\"title\":{\"text\":\"2330\"},\"xaxis\":{\"title\":{\"text\":\"Season\"}},\"yaxis\":{\"title\":{\"text\":\"Price\"}}},                        {\"showLink\": true, \"linkText\": \"Plotly Links\", \"plotlyServerURL\": \"https://plot.ly\", \"responsive\": true}                    ).then(function(){\n",
       "                            \n",
       "var gd = document.getElementById('b95ba204-6e44-4f9a-b88c-f184a55b5477');\n",
       "var x = new MutationObserver(function (mutations, observer) {{\n",
       "        var display = window.getComputedStyle(gd).display;\n",
       "        if (!display || display === 'none') {{\n",
       "            console.log([gd, 'removed!']);\n",
       "            Plotly.purge(gd);\n",
       "            observer.disconnect();\n",
       "        }}\n",
       "}});\n",
       "\n",
       "// Listen for the removal of the full notebook cells\n",
       "var notebookContainer = gd.closest('#notebook-container');\n",
       "if (notebookContainer) {{\n",
       "    x.observe(notebookContainer, {childList: true});\n",
       "}}\n",
       "\n",
       "// Listen for the clearing of the current output cell\n",
       "var outputEl = gd.closest('.output');\n",
       "if (outputEl) {{\n",
       "    x.observe(outputEl, {childList: true});\n",
       "}}\n",
       "\n",
       "                        })                };                });            </script>        </div>"
      ]
     },
     "metadata": {},
     "output_type": "display_data"
    }
   ],
   "source": [
    "data1 = go.Scatter(\n",
    "        x = df['季'],\n",
    "        y = df['存貨'],\n",
    "        mode = \"lines\",\n",
    "        name = \"存貨\"\n",
    "        )\n",
    "data2 = go.Scatter(\n",
    "        x = df['季'],\n",
    "        y = df['流動資產合計'],\n",
    "        mode = \"lines\",\n",
    "        name = \"流動資產合計\"\n",
    "        )\n",
    "data3 = go.Scatter(\n",
    "        x = df['季'],\n",
    "        y = df['不動產、廠房及設備'],\n",
    "        mode = \"lines\",\n",
    "        name = \"不動產、廠房及設備\"\n",
    "        )\n",
    "data4 = go.Scatter(\n",
    "        x = df['季'],\n",
    "        y = df['資產總計'],\n",
    "        mode = \"lines\",\n",
    "        name = \"資產總計\"\n",
    "        )\n",
    "data5 = go.Scatter(\n",
    "        x = df['季'],\n",
    "        y = df['流動負債合計'],\n",
    "        mode = \"lines\",\n",
    "        name = \"流動負債合計\"\n",
    "        )\n",
    "data6 = go.Scatter(\n",
    "        x = df['季'],\n",
    "        y = df['負債總計'],\n",
    "        mode = \"lines\",\n",
    "        name = \"負債總計\"\n",
    "        )\n",
    "data7 = go.Scatter(\n",
    "        x = df['季'],\n",
    "        y = df['營業收入合計'],\n",
    "        mode = \"lines\",\n",
    "        name = \"營業收入合計\"\n",
    "        )\n",
    "data8 = go.Scatter(\n",
    "        x = df['季'],\n",
    "        y = df['本期淨利（淨損）'],\n",
    "        mode = \"lines\",\n",
    "        name = \"本期淨利（淨損）\"\n",
    "        )\n",
    "data9 = go.Scatter(\n",
    "        x = df['季'],\n",
    "        y = df['本期稅前淨利（淨損）'],\n",
    "        mode = \"lines\",\n",
    "        name = \"本期稅前淨利（淨損）\"\n",
    "        )\n",
    "data10 = go.Scatter(\n",
    "        x = df['季'],\n",
    "        y = df['利息費用'],\n",
    "        mode = \"lines\",\n",
    "        name = \"利息費用\"\n",
    "        )\n",
    "data11 = go.Scatter(\n",
    "        x = df['季'],\n",
    "        y = df['營業活動之淨現金流入（流出）'],\n",
    "        mode = \"lines\",\n",
    "        name = \"營業活動之淨現金流入（流出）\"\n",
    "        )\n",
    "layout = go.Layout(\n",
    "        title = '2330',\n",
    "        xaxis = {'title': 'Season'},\n",
    "        yaxis = {'title': 'Price'},\n",
    "        showlegend = True,\n",
    "        plot_bgcolor = \"#000000\",\n",
    "        paper_bgcolor = \"#23bcff\",\n",
    "        font = {\n",
    "            'size':30,\n",
    "            'family':'fantasy',\n",
    "            'color':'#34ec28'\n",
    "        })\n",
    "figure = go.Figure(data = [data1, data2, data3, data4, data5, data6, data7, data8, data9, data10, data11],\n",
    "                          layout = layout)\n",
    "    \n",
    "pof.iplot(figure,filename = 'Plotly-Scatter', show_link = True, link_text = \"Plotly Links\", image_height = 800, image_width = 900)"
   ]
  },
  {
   "cell_type": "code",
   "execution_count": null,
   "id": "4a0a6819",
   "metadata": {},
   "outputs": [],
   "source": []
  }
 ],
 "metadata": {
  "kernelspec": {
   "display_name": "Python 3 (ipykernel)",
   "language": "python",
   "name": "python3"
  },
  "language_info": {
   "codemirror_mode": {
    "name": "ipython",
    "version": 3
   },
   "file_extension": ".py",
   "mimetype": "text/x-python",
   "name": "python",
   "nbconvert_exporter": "python",
   "pygments_lexer": "ipython3",
   "version": "3.8.12"
  }
 },
 "nbformat": 4,
 "nbformat_minor": 5
}
