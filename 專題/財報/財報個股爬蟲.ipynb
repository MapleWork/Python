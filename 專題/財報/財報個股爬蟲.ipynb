{
 "cells": [
  {
   "cell_type": "code",
   "execution_count": 5,
   "id": "910ba925",
   "metadata": {},
   "outputs": [
    {
     "name": "stdout",
     "output_type": "stream",
     "text": [
      "        0        1           2       3              4       5       6   \\\n",
      "0     0050   元大台灣50  12,135,597  12,872  1,709,846,643  141.30  141.45   \n",
      "1     0051  元大中型100       9,243      55        530,353   57.40   57.40   \n",
      "2     0052     富邦科技     597,525     247     75,854,565  127.50  127.50   \n",
      "3     0053     元大電子       6,014       7        404,054   67.50   67.55   \n",
      "4     0054   元大台商50          93       1          2,996      --      --   \n",
      "...    ...      ...         ...     ...            ...     ...     ...   \n",
      "1132  9944       新麗      75,290      49      1,578,696   20.90   21.15   \n",
      "1133  9945      潤泰新  15,825,279  10,075  1,331,629,389   82.70   85.00   \n",
      "1134  9946     三發地產     116,170      65      1,902,353   16.15   16.45   \n",
      "1135  9955       佳龍      57,410     104        967,010   17.00   17.00   \n",
      "1136  9958      世紀鋼   1,057,267     729    111,474,030  105.50  107.50   \n",
      "\n",
      "          7       8                            9     10      11   12      13  \\\n",
      "0     140.40  140.75  <p style= color:green>-</p>  0.85  140.75  147  140.80   \n",
      "1      57.00   57.40                     <p> </p>  0.00   57.20   35   57.40   \n",
      "2     126.55  126.55  <p style= color:green>-</p>  1.10  126.55   11  126.60   \n",
      "3      66.90   67.55                     <p> </p>  0.00   67.05    1   67.65   \n",
      "4         --      --                     <p> </p>  0.00   31.71    8   31.91   \n",
      "...      ...     ...                          ...   ...     ...  ...     ...   \n",
      "1132   20.90   21.10    <p style= color:red>+</p>  0.20   20.90    5   21.10   \n",
      "1133   82.60   84.60    <p style= color:red>+</p>  1.10   84.60   27   84.70   \n",
      "1134   16.15   16.40    <p style= color:red>+</p>  0.05   16.35    5   16.40   \n",
      "1135   16.80   16.85                     <p> </p>  0.00   16.80    2   16.90   \n",
      "1136  104.50  104.50  <p style= color:green>-</p>  0.50  104.50   36  105.00   \n",
      "\n",
      "       14     15  \n",
      "0     150   0.00  \n",
      "1      35   0.00  \n",
      "2      15   0.00  \n",
      "3       2   0.00  \n",
      "4       4   0.00  \n",
      "...   ...    ...  \n",
      "1132    3  23.19  \n",
      "1133   52   8.73  \n",
      "1134    8  74.55  \n",
      "1135    2   0.00  \n",
      "1136   10  18.97  \n",
      "\n",
      "[1137 rows x 16 columns]\n"
     ]
    }
   ],
   "source": [
    "import pandas\n",
    "import numpy\n",
    "import requests\n",
    "import json\n",
    "import random\n",
    "import datetime\n",
    "\n",
    "\n",
    "# 日期\n",
    "date = datetime.datetime(2021,9,15) # 抓取20210915日的資料\n",
    "date_f = date.strftime('%Y%m%d') # 格式化日期\n",
    "\n",
    "# 目標網址\n",
    "url = 'https://www.twse.com.tw/exchangeReport/MI_INDEX?response=json&date=' + date_f + '&type=ALLBUT0999&_=1620615911060'\n",
    "\n",
    "# 爬蟲\n",
    "Agent = random.choice([1,2,3,4,5,6,7,8,9])\n",
    "headers = {'User-Agent': 'Mozilla/' + str(Agent) + '.0'} # 要求的header\n",
    "\n",
    "# 請求資料\n",
    "re = requests.get(url, headers=headers)\n",
    "data = json.loads(re.text)\n",
    "\n",
    "# 取得目標資料\n",
    "df = pandas.DataFrame(data['data9'])\n",
    "print(df)"
   ]
  },
  {
   "cell_type": "code",
   "execution_count": null,
   "id": "fd8e8255",
   "metadata": {},
   "outputs": [],
   "source": []
  }
 ],
 "metadata": {
  "kernelspec": {
   "display_name": "Python 3 (ipykernel)",
   "language": "python",
   "name": "python3"
  },
  "language_info": {
   "codemirror_mode": {
    "name": "ipython",
    "version": 3
   },
   "file_extension": ".py",
   "mimetype": "text/x-python",
   "name": "python",
   "nbconvert_exporter": "python",
   "pygments_lexer": "ipython3",
   "version": "3.8.12"
  }
 },
 "nbformat": 4,
 "nbformat_minor": 5
}
