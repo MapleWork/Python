{
 "cells": [
  {
   "cell_type": "code",
   "execution_count": 56,
   "id": "cd7cfd00",
   "metadata": {},
   "outputs": [],
   "source": [
    "import numpy as np\n",
    "import pandas as pd\n",
    "import matplotlib.pyplot as plt\n",
    "import seaborn as sns\n",
    "%matplotlib inline"
   ]
  },
  {
   "cell_type": "code",
   "execution_count": 57,
   "id": "20f0d98e",
   "metadata": {},
   "outputs": [],
   "source": [
    "import warnings\n",
    "warnings.filterwarnings('ignore')"
   ]
  },
  {
   "cell_type": "code",
   "execution_count": 58,
   "id": "4d4afefe",
   "metadata": {},
   "outputs": [],
   "source": [
    "data = '1.csv'\n",
    "df = pd.read_csv(data)\n",
    "\n",
    "df = df[(df.正負樣本 == 1) | (df.正負樣本 == -1)]"
   ]
  },
  {
   "cell_type": "code",
   "execution_count": 59,
   "id": "3bc3d28b",
   "metadata": {},
   "outputs": [
    {
     "data": {
      "text/plain": [
       "(321, 16)"
      ]
     },
     "execution_count": 59,
     "metadata": {},
     "output_type": "execute_result"
    }
   ],
   "source": [
    "# 查看數據集的維度\n",
    "df.shape"
   ]
  },
  {
   "cell_type": "code",
   "execution_count": 60,
   "id": "614ca9ce",
   "metadata": {},
   "outputs": [
    {
     "data": {
      "text/html": [
       "<div>\n",
       "<style scoped>\n",
       "    .dataframe tbody tr th:only-of-type {\n",
       "        vertical-align: middle;\n",
       "    }\n",
       "\n",
       "    .dataframe tbody tr th {\n",
       "        vertical-align: top;\n",
       "    }\n",
       "\n",
       "    .dataframe thead th {\n",
       "        text-align: right;\n",
       "    }\n",
       "</style>\n",
       "<table border=\"1\" class=\"dataframe\">\n",
       "  <thead>\n",
       "    <tr style=\"text-align: right;\">\n",
       "      <th></th>\n",
       "      <th>代碼</th>\n",
       "      <th>股票</th>\n",
       "      <th>ROE_5Y</th>\n",
       "      <th>EPS_5Y</th>\n",
       "      <th>毛利率_5Y</th>\n",
       "      <th>現金殖利率</th>\n",
       "      <th>股價</th>\n",
       "      <th>董監持股</th>\n",
       "      <th>ROE_Test</th>\n",
       "      <th>EPS_Test</th>\n",
       "      <th>毛利率_Test</th>\n",
       "      <th>現金殖利率_Test</th>\n",
       "      <th>股價_Test</th>\n",
       "      <th>董監持股_Test</th>\n",
       "      <th>符合數量</th>\n",
       "      <th>正負樣本</th>\n",
       "    </tr>\n",
       "  </thead>\n",
       "  <tbody>\n",
       "    <tr>\n",
       "      <th>0</th>\n",
       "      <td>1101</td>\n",
       "      <td>台泥</td>\n",
       "      <td>11.00</td>\n",
       "      <td>3.69</td>\n",
       "      <td>26.64</td>\n",
       "      <td>5.87</td>\n",
       "      <td>39.85</td>\n",
       "      <td>8.38</td>\n",
       "      <td>1</td>\n",
       "      <td>1</td>\n",
       "      <td>1</td>\n",
       "      <td>1</td>\n",
       "      <td>1</td>\n",
       "      <td>0</td>\n",
       "      <td>5</td>\n",
       "      <td>1</td>\n",
       "    </tr>\n",
       "    <tr>\n",
       "      <th>1</th>\n",
       "      <td>1102</td>\n",
       "      <td>亞泥</td>\n",
       "      <td>9.81</td>\n",
       "      <td>4.05</td>\n",
       "      <td>24.67</td>\n",
       "      <td>6.29</td>\n",
       "      <td>44.05</td>\n",
       "      <td>27.37</td>\n",
       "      <td>0</td>\n",
       "      <td>1</td>\n",
       "      <td>1</td>\n",
       "      <td>1</td>\n",
       "      <td>1</td>\n",
       "      <td>1</td>\n",
       "      <td>5</td>\n",
       "      <td>1</td>\n",
       "    </tr>\n",
       "    <tr>\n",
       "      <th>5</th>\n",
       "      <td>1109</td>\n",
       "      <td>信大</td>\n",
       "      <td>14.89</td>\n",
       "      <td>2.40</td>\n",
       "      <td>30.69</td>\n",
       "      <td>5.75</td>\n",
       "      <td>17.40</td>\n",
       "      <td>36.22</td>\n",
       "      <td>1</td>\n",
       "      <td>1</td>\n",
       "      <td>1</td>\n",
       "      <td>1</td>\n",
       "      <td>1</td>\n",
       "      <td>1</td>\n",
       "      <td>6</td>\n",
       "      <td>1</td>\n",
       "    </tr>\n",
       "    <tr>\n",
       "      <th>7</th>\n",
       "      <td>1203</td>\n",
       "      <td>味王</td>\n",
       "      <td>12.00</td>\n",
       "      <td>1.86</td>\n",
       "      <td>32.54</td>\n",
       "      <td>3.41</td>\n",
       "      <td>32.30</td>\n",
       "      <td>28.84</td>\n",
       "      <td>1</td>\n",
       "      <td>1</td>\n",
       "      <td>1</td>\n",
       "      <td>0</td>\n",
       "      <td>1</td>\n",
       "      <td>1</td>\n",
       "      <td>5</td>\n",
       "      <td>1</td>\n",
       "    </tr>\n",
       "    <tr>\n",
       "      <th>9</th>\n",
       "      <td>1213</td>\n",
       "      <td>大飲</td>\n",
       "      <td>-9.02</td>\n",
       "      <td>-0.89</td>\n",
       "      <td>4.96</td>\n",
       "      <td>0.00</td>\n",
       "      <td>7.58</td>\n",
       "      <td>12.91</td>\n",
       "      <td>0</td>\n",
       "      <td>0</td>\n",
       "      <td>0</td>\n",
       "      <td>0</td>\n",
       "      <td>1</td>\n",
       "      <td>1</td>\n",
       "      <td>2</td>\n",
       "      <td>-1</td>\n",
       "    </tr>\n",
       "  </tbody>\n",
       "</table>\n",
       "</div>"
      ],
      "text/plain": [
       "     代碼  股票  ROE_5Y  EPS_5Y  毛利率_5Y  現金殖利率     股價   董監持股  ROE_Test  EPS_Test  \\\n",
       "0  1101  台泥   11.00    3.69   26.64   5.87  39.85   8.38         1         1   \n",
       "1  1102  亞泥    9.81    4.05   24.67   6.29  44.05  27.37         0         1   \n",
       "5  1109  信大   14.89    2.40   30.69   5.75  17.40  36.22         1         1   \n",
       "7  1203  味王   12.00    1.86   32.54   3.41  32.30  28.84         1         1   \n",
       "9  1213  大飲   -9.02   -0.89    4.96   0.00   7.58  12.91         0         0   \n",
       "\n",
       "   毛利率_Test  現金殖利率_Test  股價_Test  董監持股_Test  符合數量  正負樣本  \n",
       "0         1           1        1          0     5     1  \n",
       "1         1           1        1          1     5     1  \n",
       "5         1           1        1          1     6     1  \n",
       "7         1           0        1          1     5     1  \n",
       "9         0           0        1          1     2    -1  "
      ]
     },
     "execution_count": 60,
     "metadata": {},
     "output_type": "execute_result"
    }
   ],
   "source": [
    "# 讓我們預覽數據集\n",
    "df.head()"
   ]
  },
  {
   "cell_type": "code",
   "execution_count": 61,
   "id": "b67eca64",
   "metadata": {},
   "outputs": [
    {
     "data": {
      "text/plain": [
       "Index(['代碼', '股票', 'ROE_5Y', 'EPS_5Y', '毛利率_5Y', '現金殖利率', '股價', '董監持股',\n",
       "       'ROE_Test', 'EPS_Test', '毛利率_Test', '現金殖利率_Test', '股價_Test',\n",
       "       '董監持股_Test', '符合數量', '正負樣本'],\n",
       "      dtype='object')"
      ]
     },
     "execution_count": 61,
     "metadata": {},
     "output_type": "execute_result"
    }
   ],
   "source": [
    "# 讓我們預覽數據集\n",
    "col_names = df.columns\n",
    "col_names"
   ]
  },
  {
   "cell_type": "code",
   "execution_count": 62,
   "id": "2a7d6c0b",
   "metadata": {},
   "outputs": [
    {
     "data": {
      "text/plain": [
       "Index(['代碼', '股票', 'ROE_5Y', 'EPS_5Y', '毛利率_5Y', '現金殖利率', '股價', '董監持股',\n",
       "       'ROE_Test', 'EPS_Test', '毛利率_Test', '現金殖利率_Test', '股價_Test',\n",
       "       '董監持股_Test', '符合數量', '正負樣本'],\n",
       "      dtype='object')"
      ]
     },
     "execution_count": 62,
     "metadata": {},
     "output_type": "execute_result"
    }
   ],
   "source": [
    "# 從列名中刪除前導空格\n",
    "df.columns = df.columns.str.strip()\n",
    "df.columns"
   ]
  },
  {
   "cell_type": "code",
   "execution_count": 63,
   "id": "3eac4a3e",
   "metadata": {},
   "outputs": [
    {
     "data": {
      "text/plain": [
       " 1    181\n",
       "-1    140\n",
       "Name: 正負樣本, dtype: int64"
      ]
     },
     "execution_count": 63,
     "metadata": {},
     "output_type": "execute_result"
    }
   ],
   "source": [
    "# 檢查 All 列的分佈\n",
    "df['正負樣本'].value_counts()"
   ]
  },
  {
   "cell_type": "code",
   "execution_count": 64,
   "id": "85f0e09b",
   "metadata": {},
   "outputs": [
    {
     "data": {
      "text/plain": [
       " 1    0.563863\n",
       "-1    0.436137\n",
       "Name: 正負樣本, dtype: float64"
      ]
     },
     "execution_count": 64,
     "metadata": {},
     "output_type": "execute_result"
    }
   ],
   "source": [
    "# 查看 All 列的百分比分佈\n",
    "df['正負樣本'].value_counts()/np.float(len(df))"
   ]
  },
  {
   "cell_type": "code",
   "execution_count": 65,
   "id": "cb495f32",
   "metadata": {
    "scrolled": true
   },
   "outputs": [
    {
     "name": "stdout",
     "output_type": "stream",
     "text": [
      "<class 'pandas.core.frame.DataFrame'>\n",
      "Int64Index: 321 entries, 0 to 829\n",
      "Data columns (total 16 columns):\n",
      " #   Column      Non-Null Count  Dtype  \n",
      "---  ------      --------------  -----  \n",
      " 0   代碼          321 non-null    int64  \n",
      " 1   股票          321 non-null    object \n",
      " 2   ROE_5Y      321 non-null    float64\n",
      " 3   EPS_5Y      321 non-null    float64\n",
      " 4   毛利率_5Y      321 non-null    float64\n",
      " 5   現金殖利率       321 non-null    float64\n",
      " 6   股價          321 non-null    float64\n",
      " 7   董監持股        321 non-null    float64\n",
      " 8   ROE_Test    321 non-null    int64  \n",
      " 9   EPS_Test    321 non-null    int64  \n",
      " 10  毛利率_Test    321 non-null    int64  \n",
      " 11  現金殖利率_Test  321 non-null    int64  \n",
      " 12  股價_Test     321 non-null    int64  \n",
      " 13  董監持股_Test   321 non-null    int64  \n",
      " 14  符合數量        321 non-null    int64  \n",
      " 15  正負樣本        321 non-null    int64  \n",
      "dtypes: float64(6), int64(9), object(1)\n",
      "memory usage: 42.6+ KB\n"
     ]
    }
   ],
   "source": [
    "# 查看數據集摘要\n",
    "df.info()"
   ]
  },
  {
   "cell_type": "code",
   "execution_count": 66,
   "id": "965b5ad2",
   "metadata": {},
   "outputs": [
    {
     "data": {
      "text/plain": [
       "代碼            0\n",
       "股票            0\n",
       "ROE_5Y        0\n",
       "EPS_5Y        0\n",
       "毛利率_5Y        0\n",
       "現金殖利率         0\n",
       "股價            0\n",
       "董監持股          0\n",
       "ROE_Test      0\n",
       "EPS_Test      0\n",
       "毛利率_Test      0\n",
       "現金殖利率_Test    0\n",
       "股價_Test       0\n",
       "董監持股_Test     0\n",
       "符合數量          0\n",
       "正負樣本          0\n",
       "dtype: int64"
      ]
     },
     "execution_count": 66,
     "metadata": {},
     "output_type": "execute_result"
    }
   ],
   "source": [
    "# 檢查變量中的缺失值\n",
    "df.isnull().sum()"
   ]
  },
  {
   "cell_type": "code",
   "execution_count": 67,
   "id": "a505cb32",
   "metadata": {},
   "outputs": [
    {
     "data": {
      "text/html": [
       "<div>\n",
       "<style scoped>\n",
       "    .dataframe tbody tr th:only-of-type {\n",
       "        vertical-align: middle;\n",
       "    }\n",
       "\n",
       "    .dataframe tbody tr th {\n",
       "        vertical-align: top;\n",
       "    }\n",
       "\n",
       "    .dataframe thead th {\n",
       "        text-align: right;\n",
       "    }\n",
       "</style>\n",
       "<table border=\"1\" class=\"dataframe\">\n",
       "  <thead>\n",
       "    <tr style=\"text-align: right;\">\n",
       "      <th></th>\n",
       "      <th>代碼</th>\n",
       "      <th>ROE_5Y</th>\n",
       "      <th>EPS_5Y</th>\n",
       "      <th>毛利率_5Y</th>\n",
       "      <th>現金殖利率</th>\n",
       "      <th>股價</th>\n",
       "      <th>董監持股</th>\n",
       "      <th>ROE_Test</th>\n",
       "      <th>EPS_Test</th>\n",
       "      <th>毛利率_Test</th>\n",
       "      <th>現金殖利率_Test</th>\n",
       "      <th>股價_Test</th>\n",
       "      <th>董監持股_Test</th>\n",
       "      <th>符合數量</th>\n",
       "      <th>正負樣本</th>\n",
       "    </tr>\n",
       "  </thead>\n",
       "  <tbody>\n",
       "    <tr>\n",
       "      <th>count</th>\n",
       "      <td>321.00</td>\n",
       "      <td>321.00</td>\n",
       "      <td>321.00</td>\n",
       "      <td>321.00</td>\n",
       "      <td>321.00</td>\n",
       "      <td>321.00</td>\n",
       "      <td>321.00</td>\n",
       "      <td>321.00</td>\n",
       "      <td>321.00</td>\n",
       "      <td>321.0</td>\n",
       "      <td>321.00</td>\n",
       "      <td>321.0</td>\n",
       "      <td>321.00</td>\n",
       "      <td>321.00</td>\n",
       "      <td>321.00</td>\n",
       "    </tr>\n",
       "    <tr>\n",
       "      <th>mean</th>\n",
       "      <td>3887.74</td>\n",
       "      <td>4.90</td>\n",
       "      <td>2.48</td>\n",
       "      <td>20.36</td>\n",
       "      <td>4.40</td>\n",
       "      <td>43.09</td>\n",
       "      <td>21.46</td>\n",
       "      <td>0.51</td>\n",
       "      <td>0.70</td>\n",
       "      <td>0.5</td>\n",
       "      <td>0.46</td>\n",
       "      <td>0.9</td>\n",
       "      <td>0.72</td>\n",
       "      <td>3.80</td>\n",
       "      <td>0.13</td>\n",
       "    </tr>\n",
       "    <tr>\n",
       "      <th>std</th>\n",
       "      <td>2321.62</td>\n",
       "      <td>20.77</td>\n",
       "      <td>3.41</td>\n",
       "      <td>20.15</td>\n",
       "      <td>3.12</td>\n",
       "      <td>37.44</td>\n",
       "      <td>16.68</td>\n",
       "      <td>0.50</td>\n",
       "      <td>0.46</td>\n",
       "      <td>0.5</td>\n",
       "      <td>0.50</td>\n",
       "      <td>0.3</td>\n",
       "      <td>0.45</td>\n",
       "      <td>1.79</td>\n",
       "      <td>0.99</td>\n",
       "    </tr>\n",
       "    <tr>\n",
       "      <th>min</th>\n",
       "      <td>1101.00</td>\n",
       "      <td>-215.93</td>\n",
       "      <td>-5.66</td>\n",
       "      <td>-113.93</td>\n",
       "      <td>0.00</td>\n",
       "      <td>1.13</td>\n",
       "      <td>0.00</td>\n",
       "      <td>0.00</td>\n",
       "      <td>0.00</td>\n",
       "      <td>0.0</td>\n",
       "      <td>0.00</td>\n",
       "      <td>0.0</td>\n",
       "      <td>0.00</td>\n",
       "      <td>1.00</td>\n",
       "      <td>-1.00</td>\n",
       "    </tr>\n",
       "    <tr>\n",
       "      <th>25%</th>\n",
       "      <td>2345.00</td>\n",
       "      <td>-1.04</td>\n",
       "      <td>-0.11</td>\n",
       "      <td>10.41</td>\n",
       "      <td>2.04</td>\n",
       "      <td>18.35</td>\n",
       "      <td>9.29</td>\n",
       "      <td>0.00</td>\n",
       "      <td>0.00</td>\n",
       "      <td>0.0</td>\n",
       "      <td>0.00</td>\n",
       "      <td>1.0</td>\n",
       "      <td>0.00</td>\n",
       "      <td>2.00</td>\n",
       "      <td>-1.00</td>\n",
       "    </tr>\n",
       "    <tr>\n",
       "      <th>50%</th>\n",
       "      <td>3019.00</td>\n",
       "      <td>10.17</td>\n",
       "      <td>2.37</td>\n",
       "      <td>20.10</td>\n",
       "      <td>4.64</td>\n",
       "      <td>33.40</td>\n",
       "      <td>16.30</td>\n",
       "      <td>1.00</td>\n",
       "      <td>1.00</td>\n",
       "      <td>1.0</td>\n",
       "      <td>0.00</td>\n",
       "      <td>1.0</td>\n",
       "      <td>1.00</td>\n",
       "      <td>5.00</td>\n",
       "      <td>1.00</td>\n",
       "    </tr>\n",
       "    <tr>\n",
       "      <th>75%</th>\n",
       "      <td>5546.00</td>\n",
       "      <td>14.53</td>\n",
       "      <td>4.03</td>\n",
       "      <td>29.76</td>\n",
       "      <td>6.23</td>\n",
       "      <td>55.70</td>\n",
       "      <td>29.55</td>\n",
       "      <td>1.00</td>\n",
       "      <td>1.00</td>\n",
       "      <td>1.0</td>\n",
       "      <td>1.00</td>\n",
       "      <td>1.0</td>\n",
       "      <td>1.00</td>\n",
       "      <td>5.00</td>\n",
       "      <td>1.00</td>\n",
       "    </tr>\n",
       "    <tr>\n",
       "      <th>max</th>\n",
       "      <td>9958.00</td>\n",
       "      <td>35.13</td>\n",
       "      <td>20.67</td>\n",
       "      <td>83.16</td>\n",
       "      <td>26.23</td>\n",
       "      <td>270.50</td>\n",
       "      <td>80.32</td>\n",
       "      <td>1.00</td>\n",
       "      <td>1.00</td>\n",
       "      <td>1.0</td>\n",
       "      <td>1.00</td>\n",
       "      <td>1.0</td>\n",
       "      <td>1.00</td>\n",
       "      <td>6.00</td>\n",
       "      <td>1.00</td>\n",
       "    </tr>\n",
       "  </tbody>\n",
       "</table>\n",
       "</div>"
      ],
      "text/plain": [
       "            代碼  ROE_5Y  EPS_5Y  毛利率_5Y   現金殖利率      股價    董監持股  ROE_Test  \\\n",
       "count   321.00  321.00  321.00  321.00  321.00  321.00  321.00    321.00   \n",
       "mean   3887.74    4.90    2.48   20.36    4.40   43.09   21.46      0.51   \n",
       "std    2321.62   20.77    3.41   20.15    3.12   37.44   16.68      0.50   \n",
       "min    1101.00 -215.93   -5.66 -113.93    0.00    1.13    0.00      0.00   \n",
       "25%    2345.00   -1.04   -0.11   10.41    2.04   18.35    9.29      0.00   \n",
       "50%    3019.00   10.17    2.37   20.10    4.64   33.40   16.30      1.00   \n",
       "75%    5546.00   14.53    4.03   29.76    6.23   55.70   29.55      1.00   \n",
       "max    9958.00   35.13   20.67   83.16   26.23  270.50   80.32      1.00   \n",
       "\n",
       "       EPS_Test  毛利率_Test  現金殖利率_Test  股價_Test  董監持股_Test    符合數量    正負樣本  \n",
       "count    321.00     321.0      321.00    321.0     321.00  321.00  321.00  \n",
       "mean       0.70       0.5        0.46      0.9       0.72    3.80    0.13  \n",
       "std        0.46       0.5        0.50      0.3       0.45    1.79    0.99  \n",
       "min        0.00       0.0        0.00      0.0       0.00    1.00   -1.00  \n",
       "25%        0.00       0.0        0.00      1.0       0.00    2.00   -1.00  \n",
       "50%        1.00       1.0        0.00      1.0       1.00    5.00    1.00  \n",
       "75%        1.00       1.0        1.00      1.0       1.00    5.00    1.00  \n",
       "max        1.00       1.0        1.00      1.0       1.00    6.00    1.00  "
      ]
     },
     "execution_count": 67,
     "metadata": {},
     "output_type": "execute_result"
    }
   ],
   "source": [
    "# 查看數值變量中的匯總統計\n",
    "round(df.describe(),2)"
   ]
  },
  {
   "cell_type": "code",
   "execution_count": 68,
   "id": "e70d880e",
   "metadata": {
    "scrolled": true
   },
   "outputs": [
    {
     "data": {
      "text/plain": [
       "Text(0, 0.5, '董監持股')"
      ]
     },
     "execution_count": 68,
     "metadata": {},
     "output_type": "execute_result"
    },
    {
     "data": {
      "image/png": "[encoded data removed]",
      "text/plain": [
       "<Figure size 1728x1440 with 6 Axes>"
      ]
     },
     "metadata": {
      "needs_background": "light"
     },
     "output_type": "display_data"
    }
   ],
   "source": [
    "# 繪製箱線圖以可視化異常值\n",
    "plt.figure(figsize=(24,20))\n",
    "\n",
    "\n",
    "plt.subplot(4, 2, 1)\n",
    "fig = df.boxplot(column='ROE_5Y')\n",
    "fig.set_title('')\n",
    "fig.set_ylabel('ROE_5Y')\n",
    "\n",
    "plt.subplot(4, 2, 2)\n",
    "fig = df.boxplot(column='EPS_5Y')\n",
    "fig.set_title('')\n",
    "fig.set_ylabel('EPS_5Y')\n",
    "\n",
    "plt.subplot(4, 2, 3)\n",
    "fig = df.boxplot(column='毛利率_5Y')\n",
    "fig.set_title('')\n",
    "fig.set_ylabel('毛利率_5Y')\n",
    "\n",
    "plt.subplot(4, 2, 4)\n",
    "fig = df.boxplot(column='現金殖利率')\n",
    "fig.set_title('')\n",
    "fig.set_ylabel('現金殖利率')\n",
    "\n",
    "plt.subplot(4, 2, 5)\n",
    "fig = df.boxplot(column='股價')\n",
    "fig.set_title('')\n",
    "fig.set_ylabel('股價')\n",
    "\n",
    "plt.subplot(4, 2, 6)\n",
    "fig = df.boxplot(column='董監持股')\n",
    "fig.set_title('')\n",
    "fig.set_ylabel('董監持股')"
   ]
  },
  {
   "cell_type": "code",
   "execution_count": 69,
   "id": "d1360b8b",
   "metadata": {
    "scrolled": true
   },
   "outputs": [
    {
     "data": {
      "text/plain": [
       "Text(0, 0.5, 'Number of pulsar stars')"
      ]
     },
     "execution_count": 69,
     "metadata": {},
     "output_type": "execute_result"
    },
    {
     "data": {
      "image/png": "[encoded data removed]",
      "text/plain": [
       "<Figure size 1728x1440 with 6 Axes>"
      ]
     },
     "metadata": {
      "needs_background": "light"
     },
     "output_type": "display_data"
    }
   ],
   "source": [
    "# 繪製直方圖以檢查分佈\n",
    "plt.figure(figsize=(24,20))\n",
    "\n",
    "\n",
    "plt.subplot(4, 2, 1)\n",
    "fig = df['ROE_5Y'].hist(bins=20)\n",
    "fig.set_xlabel('ROE_5Y')\n",
    "fig.set_ylabel('Number of pulsar stars')\n",
    "\n",
    "plt.subplot(4, 2, 2)\n",
    "fig = df['EPS_5Y'].hist(bins=20)\n",
    "fig.set_xlabel('EPS_5Y')\n",
    "fig.set_ylabel('Number of pulsar stars')\n",
    "\n",
    "plt.subplot(4, 2, 3)\n",
    "fig = df['毛利率_5Y'].hist(bins=20)\n",
    "fig.set_xlabel('毛利率_5Y')\n",
    "fig.set_ylabel('Number of pulsar stars')\n",
    "\n",
    "plt.subplot(4, 2, 4)\n",
    "fig = df['現金殖利率'].hist(bins=20)\n",
    "fig.set_xlabel('現金殖利率')\n",
    "fig.set_ylabel('Number of pulsar stars')\n",
    "\n",
    "plt.subplot(4, 2, 5)\n",
    "fig = df['股價'].hist(bins=20)\n",
    "fig.set_xlabel('股價')\n",
    "fig.set_ylabel('Number of pulsar stars')\n",
    "\n",
    "plt.subplot(4, 2, 6)\n",
    "fig = df['董監持股'].hist(bins=20)\n",
    "fig.set_xlabel('董監持股')\n",
    "fig.set_ylabel('Number of pulsar stars')"
   ]
  },
  {
   "cell_type": "code",
   "execution_count": 70,
   "id": "9fcb6cc6",
   "metadata": {},
   "outputs": [],
   "source": [
    "X = df.drop(['代碼', '股票', 'ROE_Test', 'EPS_Test', '毛利率_Test', '現金殖利率_Test', '股價_Test', '董監持股_Test','符合數量','正負樣本'], axis=1)\n",
    "\n",
    "y = df['正負樣本']"
   ]
  },
  {
   "cell_type": "code",
   "execution_count": 71,
   "id": "ba5cbdcb",
   "metadata": {},
   "outputs": [],
   "source": [
    "# 將 X 和 y 拆分為訓練集和測試集\n",
    "from sklearn.model_selection import train_test_split\n",
    "\n",
    "X_train, X_test, y_train, y_test = train_test_split(X, y, test_size = 0.3, random_state = 0)"
   ]
  },
  {
   "cell_type": "code",
   "execution_count": 72,
   "id": "ee2d637b",
   "metadata": {},
   "outputs": [
    {
     "data": {
      "text/plain": [
       "((224, 6), (97, 6))"
      ]
     },
     "execution_count": 72,
     "metadata": {},
     "output_type": "execute_result"
    }
   ],
   "source": [
    "# 檢查 X_train 和 X_test 的形狀\n",
    "X_train.shape, X_test.shape"
   ]
  },
  {
   "cell_type": "code",
   "execution_count": 73,
   "id": "f01393ce",
   "metadata": {},
   "outputs": [],
   "source": [
    "cols = X_train.columns"
   ]
  },
  {
   "cell_type": "code",
   "execution_count": 74,
   "id": "fd8c5532",
   "metadata": {},
   "outputs": [],
   "source": [
    "from sklearn.preprocessing import StandardScaler\n",
    "\n",
    "scaler = StandardScaler()\n",
    "\n",
    "X_train = scaler.fit_transform(X_train)\n",
    "\n",
    "X_test = scaler.transform(X_test)"
   ]
  },
  {
   "cell_type": "code",
   "execution_count": 75,
   "id": "f4612713",
   "metadata": {},
   "outputs": [],
   "source": [
    "X_train = pd.DataFrame(X_train, columns=[cols])"
   ]
  },
  {
   "cell_type": "code",
   "execution_count": 76,
   "id": "8ba72a22",
   "metadata": {},
   "outputs": [],
   "source": [
    "X_test = pd.DataFrame(X_test, columns=[cols])"
   ]
  },
  {
   "cell_type": "code",
   "execution_count": 77,
   "id": "f3411711",
   "metadata": {},
   "outputs": [
    {
     "data": {
      "text/html": [
       "<div>\n",
       "<style scoped>\n",
       "    .dataframe tbody tr th:only-of-type {\n",
       "        vertical-align: middle;\n",
       "    }\n",
       "\n",
       "    .dataframe tbody tr th {\n",
       "        vertical-align: top;\n",
       "    }\n",
       "\n",
       "    .dataframe thead tr th {\n",
       "        text-align: left;\n",
       "    }\n",
       "</style>\n",
       "<table border=\"1\" class=\"dataframe\">\n",
       "  <thead>\n",
       "    <tr>\n",
       "      <th></th>\n",
       "      <th>ROE_5Y</th>\n",
       "      <th>EPS_5Y</th>\n",
       "      <th>毛利率_5Y</th>\n",
       "      <th>現金殖利率</th>\n",
       "      <th>股價</th>\n",
       "      <th>董監持股</th>\n",
       "    </tr>\n",
       "  </thead>\n",
       "  <tbody>\n",
       "    <tr>\n",
       "      <th>count</th>\n",
       "      <td>2.240000e+02</td>\n",
       "      <td>2.240000e+02</td>\n",
       "      <td>2.240000e+02</td>\n",
       "      <td>2.240000e+02</td>\n",
       "      <td>2.240000e+02</td>\n",
       "      <td>2.240000e+02</td>\n",
       "    </tr>\n",
       "    <tr>\n",
       "      <th>mean</th>\n",
       "      <td>4.956353e-17</td>\n",
       "      <td>-1.506731e-16</td>\n",
       "      <td>3.965082e-17</td>\n",
       "      <td>3.568574e-17</td>\n",
       "      <td>1.506731e-16</td>\n",
       "      <td>1.566207e-16</td>\n",
       "    </tr>\n",
       "    <tr>\n",
       "      <th>std</th>\n",
       "      <td>1.002240e+00</td>\n",
       "      <td>1.002240e+00</td>\n",
       "      <td>1.002240e+00</td>\n",
       "      <td>1.002240e+00</td>\n",
       "      <td>1.002240e+00</td>\n",
       "      <td>1.002240e+00</td>\n",
       "    </tr>\n",
       "    <tr>\n",
       "      <th>min</th>\n",
       "      <td>-1.087062e+01</td>\n",
       "      <td>-2.173304e+00</td>\n",
       "      <td>-7.065357e+00</td>\n",
       "      <td>-1.470576e+00</td>\n",
       "      <td>-1.063260e+00</td>\n",
       "      <td>-1.285962e+00</td>\n",
       "    </tr>\n",
       "    <tr>\n",
       "      <th>25%</th>\n",
       "      <td>-2.894753e-01</td>\n",
       "      <td>-7.628040e-01</td>\n",
       "      <td>-5.280568e-01</td>\n",
       "      <td>-7.694398e-01</td>\n",
       "      <td>-6.415291e-01</td>\n",
       "      <td>-7.410911e-01</td>\n",
       "    </tr>\n",
       "    <tr>\n",
       "      <th>50%</th>\n",
       "      <td>2.613798e-01</td>\n",
       "      <td>-5.006749e-02</td>\n",
       "      <td>-2.476088e-03</td>\n",
       "      <td>6.695833e-02</td>\n",
       "      <td>-2.465667e-01</td>\n",
       "      <td>-3.141093e-01</td>\n",
       "    </tr>\n",
       "    <tr>\n",
       "      <th>75%</th>\n",
       "      <td>4.561105e-01</td>\n",
       "      <td>4.305805e-01</td>\n",
       "      <td>4.975725e-01</td>\n",
       "      <td>5.917404e-01</td>\n",
       "      <td>3.094453e-01</td>\n",
       "      <td>5.329626e-01</td>\n",
       "    </tr>\n",
       "    <tr>\n",
       "      <th>max</th>\n",
       "      <td>1.482905e+00</td>\n",
       "      <td>5.457170e+00</td>\n",
       "      <td>3.047522e+00</td>\n",
       "      <td>7.001273e+00</td>\n",
       "      <td>5.675680e+00</td>\n",
       "      <td>3.424913e+00</td>\n",
       "    </tr>\n",
       "  </tbody>\n",
       "</table>\n",
       "</div>"
      ],
      "text/plain": [
       "             ROE_5Y        EPS_5Y        毛利率_5Y         現金殖利率            股價  \\\n",
       "count  2.240000e+02  2.240000e+02  2.240000e+02  2.240000e+02  2.240000e+02   \n",
       "mean   4.956353e-17 -1.506731e-16  3.965082e-17  3.568574e-17  1.506731e-16   \n",
       "std    1.002240e+00  1.002240e+00  1.002240e+00  1.002240e+00  1.002240e+00   \n",
       "min   -1.087062e+01 -2.173304e+00 -7.065357e+00 -1.470576e+00 -1.063260e+00   \n",
       "25%   -2.894753e-01 -7.628040e-01 -5.280568e-01 -7.694398e-01 -6.415291e-01   \n",
       "50%    2.613798e-01 -5.006749e-02 -2.476088e-03  6.695833e-02 -2.465667e-01   \n",
       "75%    4.561105e-01  4.305805e-01  4.975725e-01  5.917404e-01  3.094453e-01   \n",
       "max    1.482905e+00  5.457170e+00  3.047522e+00  7.001273e+00  5.675680e+00   \n",
       "\n",
       "               董監持股  \n",
       "count  2.240000e+02  \n",
       "mean   1.566207e-16  \n",
       "std    1.002240e+00  \n",
       "min   -1.285962e+00  \n",
       "25%   -7.410911e-01  \n",
       "50%   -3.141093e-01  \n",
       "75%    5.329626e-01  \n",
       "max    3.424913e+00  "
      ]
     },
     "execution_count": 77,
     "metadata": {},
     "output_type": "execute_result"
    }
   ],
   "source": [
    "X_train.describe()"
   ]
  },
  {
   "cell_type": "code",
   "execution_count": 78,
   "id": "5882b08b",
   "metadata": {},
   "outputs": [
    {
     "name": "stdout",
     "output_type": "stream",
     "text": [
      "Model accuracy score with default hyperparameters: 0.9691\n"
     ]
    }
   ],
   "source": [
    "# 導入 SVC 分類器\n",
    "from sklearn.svm import SVC\n",
    "\n",
    "\n",
    "# 導入指標以計算準確性\n",
    "from sklearn.metrics import accuracy_score\n",
    "\n",
    "\n",
    "# 使用默認超參數實例化分類器\n",
    "svc=SVC() \n",
    "\n",
    "\n",
    "# 將分類器擬合到訓練集\n",
    "svc.fit(X_train,y_train)\n",
    "\n",
    "\n",
    "# 對測試集進行預測\n",
    "y_pred=svc.predict(X_test)\n",
    "\n",
    "\n",
    "# 計算和打印準確度分數\n",
    "print('Model accuracy score with default hyperparameters: {0:0.4f}'. format(accuracy_score(y_test, y_pred)))"
   ]
  },
  {
   "cell_type": "code",
   "execution_count": 79,
   "id": "b1781438",
   "metadata": {},
   "outputs": [
    {
     "name": "stdout",
     "output_type": "stream",
     "text": [
      "Model accuracy score with rbf kernel and C=100.0 : 0.9691\n"
     ]
    }
   ],
   "source": [
    "# 使用 rbf 內核和 C=100 實例化分類器\n",
    "svc=SVC(C=100.0) \n",
    "\n",
    "\n",
    "# 將分類器擬合到訓練集\n",
    "svc.fit(X_train,y_train)\n",
    "\n",
    "\n",
    "# 對測試集進行預測\n",
    "y_pred=svc.predict(X_test)\n",
    "\n",
    "\n",
    "# 計算和打印準確度分數\n",
    "print('Model accuracy score with rbf kernel and C=100.0 : {0:0.4f}'. format(accuracy_score(y_test, y_pred)))"
   ]
  },
  {
   "cell_type": "code",
   "execution_count": 80,
   "id": "faf4d350",
   "metadata": {},
   "outputs": [
    {
     "name": "stdout",
     "output_type": "stream",
     "text": [
      "Model accuracy score with rbf kernel and C=1000.0 : 0.9691\n"
     ]
    }
   ],
   "source": [
    "# 使用 rbf 內核和 C=1000 實例化分類器\n",
    "svc=SVC(C=1000.0) \n",
    "\n",
    "\n",
    "# 將分類器擬合到訓練集\n",
    "svc.fit(X_train,y_train)\n",
    "\n",
    "\n",
    "# 對測試集進行預測\n",
    "y_pred=svc.predict(X_test)\n",
    "\n",
    "\n",
    "# 計算和打印準確度分數\n",
    "print('Model accuracy score with rbf kernel and C=1000.0 : {0:0.4f}'. format(accuracy_score(y_test, y_pred)))"
   ]
  },
  {
   "cell_type": "code",
   "execution_count": 81,
   "id": "3baf72d0",
   "metadata": {},
   "outputs": [
    {
     "name": "stdout",
     "output_type": "stream",
     "text": [
      "Model accuracy score with linear kernel and C=1.0 : 0.9278\n"
     ]
    }
   ],
   "source": [
    "# 使用線性核和 C=1.0 實例化分類器\n",
    "linear_svc=SVC(kernel='linear', C=1.0) \n",
    "\n",
    "\n",
    "# 將分類器擬合到訓練集\n",
    "linear_svc.fit(X_train,y_train)\n",
    "\n",
    "\n",
    "# 對測試集進行預測\n",
    "y_pred_test=linear_svc.predict(X_test)\n",
    "\n",
    "\n",
    "# 計算和打印準確度分數\n",
    "print('Model accuracy score with linear kernel and C=1.0 : {0:0.4f}'. format(accuracy_score(y_test, y_pred_test)))"
   ]
  },
  {
   "cell_type": "code",
   "execution_count": 82,
   "id": "919c6faf",
   "metadata": {},
   "outputs": [
    {
     "name": "stdout",
     "output_type": "stream",
     "text": [
      "Model accuracy score with linear kernel and C=100.0 : 0.9278\n"
     ]
    }
   ],
   "source": [
    "# 使用線性核和 C=100.0 實例化分類器\n",
    "linear_svc100=SVC(kernel='linear', C=100.0) \n",
    "\n",
    "\n",
    "# 將分類器擬合到訓練集\n",
    "linear_svc100.fit(X_train, y_train)\n",
    "\n",
    "\n",
    "# 對測試集進行預測\n",
    "y_pred=linear_svc100.predict(X_test)\n",
    "\n",
    "\n",
    "# 計算和打印準確度分數\n",
    "print('Model accuracy score with linear kernel and C=100.0 : {0:0.4f}'. format(accuracy_score(y_test, y_pred)))"
   ]
  },
  {
   "cell_type": "code",
   "execution_count": 83,
   "id": "3945fe69",
   "metadata": {},
   "outputs": [
    {
     "name": "stdout",
     "output_type": "stream",
     "text": [
      "Model accuracy score with linear kernel and C=1000.0 : 0.9381\n"
     ]
    }
   ],
   "source": [
    "# 用線性核和 C=1000.0 實例化分類器\n",
    "linear_svc1000=SVC(kernel='linear', C=1000.0) \n",
    "\n",
    "\n",
    "# 將分類器擬合到訓練集\n",
    "linear_svc1000.fit(X_train, y_train)\n",
    "\n",
    "\n",
    "# 對測試集進行預測\n",
    "y_pred=linear_svc1000.predict(X_test)\n",
    "\n",
    "\n",
    "# 計算和打印準確度分數\n",
    "print('Model accuracy score with linear kernel and C=1000.0 : {0:0.4f}'. format(accuracy_score(y_test, y_pred)))"
   ]
  },
  {
   "cell_type": "code",
   "execution_count": 84,
   "id": "b26808fa",
   "metadata": {},
   "outputs": [
    {
     "data": {
      "text/plain": [
       "array([ 1,  1,  1,  1, -1, -1, -1,  1,  1, -1,  1,  1,  1, -1, -1,  1,  1,\n",
       "       -1,  1,  1,  1, -1,  1, -1,  1,  1, -1,  1,  1, -1,  1, -1,  1,  1,\n",
       "        1,  1, -1,  1, -1,  1, -1, -1, -1,  1,  1, -1, -1,  1, -1,  1,  1,\n",
       "        1,  1,  1, -1, -1,  1, -1,  1, -1, -1, -1, -1,  1,  1,  1,  1,  1,\n",
       "        1,  1,  1, -1, -1,  1,  1, -1, -1, -1, -1, -1,  1,  1, -1, -1,  1,\n",
       "       -1, -1,  1, -1,  1,  1,  1, -1,  1, -1,  1,  1,  1, -1,  1,  1,  1,\n",
       "       -1, -1,  1, -1, -1,  1,  1, -1, -1,  1, -1, -1,  1,  1, -1,  1,  1,\n",
       "        1,  1, -1,  1,  1,  1,  1,  1, -1,  1,  1, -1,  1,  1, -1,  1,  1,\n",
       "       -1,  1, -1,  1,  1, -1, -1,  1,  1, -1,  1,  1, -1, -1,  1, -1,  1,\n",
       "       -1, -1, -1, -1,  1,  1,  1,  1, -1,  1, -1,  1,  1,  1, -1,  1, -1,\n",
       "       -1,  1,  1,  1, -1,  1,  1, -1,  1,  1,  1, -1,  1,  1, -1, -1, -1,\n",
       "       -1, -1,  1, -1, -1, -1,  1, -1, -1,  1, -1,  1,  1,  1, -1, -1, -1,\n",
       "        1,  1, -1, -1,  1,  1, -1,  1, -1, -1,  1,  1,  1,  1,  1,  1, -1,\n",
       "        1,  1, -1], dtype=int64)"
      ]
     },
     "execution_count": 84,
     "metadata": {},
     "output_type": "execute_result"
    }
   ],
   "source": [
    "y_pred_train = linear_svc.predict(X_train)\n",
    "\n",
    "y_pred_train"
   ]
  },
  {
   "cell_type": "code",
   "execution_count": 85,
   "id": "167d8fc5",
   "metadata": {},
   "outputs": [
    {
     "name": "stdout",
     "output_type": "stream",
     "text": [
      "Training-set accuracy score: 0.9911\n"
     ]
    }
   ],
   "source": [
    "print('Training-set accuracy score: {0:0.4f}'. format(accuracy_score(y_train, y_pred_train)))"
   ]
  },
  {
   "cell_type": "code",
   "execution_count": 86,
   "id": "25e770ae",
   "metadata": {},
   "outputs": [
    {
     "name": "stdout",
     "output_type": "stream",
     "text": [
      "Training set score: 0.9911\n",
      "Test set score: 0.9278\n"
     ]
    }
   ],
   "source": [
    "# 打印訓練和測試集的分數\n",
    "\n",
    "print('Training set score: {:.4f}'.format(linear_svc.score(X_train, y_train)))\n",
    "\n",
    "print('Test set score: {:.4f}'.format(linear_svc.score(X_test, y_test)))"
   ]
  },
  {
   "cell_type": "code",
   "execution_count": 87,
   "id": "43e041e8",
   "metadata": {},
   "outputs": [
    {
     "data": {
      "text/plain": [
       " 1    53\n",
       "-1    44\n",
       "Name: 正負樣本, dtype: int64"
      ]
     },
     "execution_count": 87,
     "metadata": {},
     "output_type": "execute_result"
    }
   ],
   "source": [
    "# 檢查測試集中的類分佈\n",
    "y_test.value_counts()"
   ]
  },
  {
   "cell_type": "code",
   "execution_count": 88,
   "id": "03558f6f",
   "metadata": {},
   "outputs": [
    {
     "name": "stdout",
     "output_type": "stream",
     "text": [
      "Null accuracy score: 0.5464\n"
     ]
    }
   ],
   "source": [
    "# 檢查空準確度分數\n",
    "\n",
    "null_accuracy = (53/(53+44))\n",
    "\n",
    "print('Null accuracy score: {0:0.4f}'. format(null_accuracy))"
   ]
  },
  {
   "cell_type": "code",
   "execution_count": 89,
   "id": "bf0353d2",
   "metadata": {},
   "outputs": [
    {
     "name": "stdout",
     "output_type": "stream",
     "text": [
      "Model accuracy score with polynomial kernel and C=1.0 : 0.9072\n"
     ]
    }
   ],
   "source": [
    "# 使用多項式內核和 C=1.0 實例化分類器\n",
    "poly_svc=SVC(kernel='poly', C=1.0) \n",
    "\n",
    "\n",
    "# 將分類器擬合到訓練集\n",
    "poly_svc.fit(X_train,y_train)\n",
    "\n",
    "\n",
    "# 對測試集進行預測\n",
    "y_pred=poly_svc.predict(X_test)\n",
    "\n",
    "\n",
    "# 計算和打印準確度分數\n",
    "print('Model accuracy score with polynomial kernel and C=1.0 : {0:0.4f}'. format(accuracy_score(y_test, y_pred)))"
   ]
  },
  {
   "cell_type": "code",
   "execution_count": 90,
   "id": "ed734a15",
   "metadata": {},
   "outputs": [
    {
     "name": "stdout",
     "output_type": "stream",
     "text": [
      "Model accuracy score with polynomial kernel and C=1.0 : 0.9691\n"
     ]
    }
   ],
   "source": [
    "# 使用多項式內核和 C=100.0 實例化分類器\n",
    "poly_svc100=SVC(kernel='poly', C=100.0) \n",
    "\n",
    "\n",
    "# 將分類器擬合到訓練集\n",
    "poly_svc100.fit(X_train, y_train)\n",
    "\n",
    "\n",
    "# 對測試集進行預測\n",
    "y_pred=poly_svc100.predict(X_test)\n",
    "\n",
    "\n",
    "# 計算和打印準確度分數\n",
    "print('Model accuracy score with polynomial kernel and C=1.0 : {0:0.4f}'. format(accuracy_score(y_test, y_pred)))"
   ]
  },
  {
   "cell_type": "code",
   "execution_count": 91,
   "id": "2a3db4a5",
   "metadata": {},
   "outputs": [
    {
     "name": "stdout",
     "output_type": "stream",
     "text": [
      "Model accuracy score with sigmoid kernel and C=1.0 : 0.9175\n"
     ]
    }
   ],
   "source": [
    "# 使用 sigmoid 內核和 C=1.0 實例化分類器\n",
    "sigmoid_svc=SVC(kernel='sigmoid', C=1.0) \n",
    "\n",
    "\n",
    "# 將分類器擬合到訓練集\n",
    "sigmoid_svc.fit(X_train,y_train)\n",
    "\n",
    "\n",
    "# 對測試集進行預測\n",
    "y_pred=sigmoid_svc.predict(X_test)\n",
    "\n",
    "\n",
    "# 計算和打印準確度分數\n",
    "print('Model accuracy score with sigmoid kernel and C=1.0 : {0:0.4f}'. format(accuracy_score(y_test, y_pred)))"
   ]
  },
  {
   "cell_type": "code",
   "execution_count": 92,
   "id": "7489191f",
   "metadata": {},
   "outputs": [
    {
     "name": "stdout",
     "output_type": "stream",
     "text": [
      "Model accuracy score with sigmoid kernel and C=100.0 : 0.9278\n"
     ]
    }
   ],
   "source": [
    "# 使用 sigmoid 內核和 C=100.0 實例化分類器\n",
    "sigmoid_svc100=SVC(kernel='sigmoid', C=100.0) \n",
    "\n",
    "\n",
    "# 將分類器擬合到訓練集\n",
    "sigmoid_svc100.fit(X_train,y_train)\n",
    "\n",
    "\n",
    "# 對測試集進行預測\n",
    "y_pred=sigmoid_svc100.predict(X_test)\n",
    "\n",
    "\n",
    "# 計算和打印準確度分數\n",
    "print('Model accuracy score with sigmoid kernel and C=100.0 : {0:0.4f}'. format(accuracy_score(y_test, y_pred)))"
   ]
  },
  {
   "cell_type": "code",
   "execution_count": 93,
   "id": "12296582",
   "metadata": {},
   "outputs": [
    {
     "name": "stdout",
     "output_type": "stream",
     "text": [
      "Confusion matrix\n",
      "\n",
      " [[37  7]\n",
      " [ 0 53]]\n",
      "\n",
      "True Positives(TP) =  37\n",
      "\n",
      "True Negatives(TN) =  53\n",
      "\n",
      "False Positives(FP) =  7\n",
      "\n",
      "False Negatives(FN) =  0\n"
     ]
    }
   ],
   "source": [
    "# 打印混淆矩陣並將其切成四塊\n",
    "\n",
    "from sklearn.metrics import confusion_matrix\n",
    "\n",
    "cm = confusion_matrix(y_test, y_pred_test)\n",
    "\n",
    "print('Confusion matrix\\n\\n', cm)\n",
    "\n",
    "print('\\nTrue Positives(TP) = ', cm[0,0])\n",
    "\n",
    "print('\\nTrue Negatives(TN) = ', cm[1,1])\n",
    "\n",
    "print('\\nFalse Positives(FP) = ', cm[0,1])\n",
    "\n",
    "print('\\nFalse Negatives(FN) = ', cm[1,0])"
   ]
  },
  {
   "cell_type": "code",
   "execution_count": 94,
   "id": "6457bf75",
   "metadata": {},
   "outputs": [
    {
     "data": {
      "text/plain": [
       "<AxesSubplot:>"
      ]
     },
     "execution_count": 94,
     "metadata": {},
     "output_type": "execute_result"
    },
    {
     "data": {
      "image/png": "[encoded data removed]",
      "text/plain": [
       "<Figure size 432x288 with 2 Axes>"
      ]
     },
     "metadata": {
      "needs_background": "light"
     },
     "output_type": "display_data"
    }
   ],
   "source": [
    "# 使用 seaborn 熱圖可視化混淆矩陣\n",
    "\n",
    "cm_matrix = pd.DataFrame(data=cm, columns=['Actual Positive:1', 'Actual Negative:0'], \n",
    "                                 index=['Predict Positive:1', 'Predict Negative:0'])\n",
    "\n",
    "sns.heatmap(cm_matrix, annot=True, fmt='d', cmap='YlGnBu')"
   ]
  },
  {
   "cell_type": "code",
   "execution_count": 95,
   "id": "184d7d7a",
   "metadata": {},
   "outputs": [
    {
     "name": "stdout",
     "output_type": "stream",
     "text": [
      "              precision    recall  f1-score   support\n",
      "\n",
      "          -1       1.00      0.84      0.91        44\n",
      "           1       0.88      1.00      0.94        53\n",
      "\n",
      "    accuracy                           0.93        97\n",
      "   macro avg       0.94      0.92      0.93        97\n",
      "weighted avg       0.94      0.93      0.93        97\n",
      "\n"
     ]
    }
   ],
   "source": [
    "from sklearn.metrics import classification_report\n",
    "\n",
    "print(classification_report(y_test, y_pred_test))"
   ]
  },
  {
   "cell_type": "code",
   "execution_count": 96,
   "id": "8b947e1f",
   "metadata": {},
   "outputs": [],
   "source": [
    "TP = cm[0,0]\n",
    "TN = cm[1,1]\n",
    "FP = cm[0,1]\n",
    "FN = cm[1,0]"
   ]
  },
  {
   "cell_type": "code",
   "execution_count": 97,
   "id": "8b35ec9f",
   "metadata": {},
   "outputs": [
    {
     "name": "stdout",
     "output_type": "stream",
     "text": [
      "Classification accuracy : 0.9278\n"
     ]
    }
   ],
   "source": [
    "# 打印分類精度\n",
    "\n",
    "classification_accuracy = (TP + TN) / float(TP + TN + FP + FN)\n",
    "\n",
    "print('Classification accuracy : {0:0.4f}'.format(classification_accuracy))"
   ]
  },
  {
   "cell_type": "code",
   "execution_count": 98,
   "id": "490af9b5",
   "metadata": {},
   "outputs": [
    {
     "name": "stdout",
     "output_type": "stream",
     "text": [
      "Classification error : 0.0722\n"
     ]
    }
   ],
   "source": [
    "# 打印分類錯誤\n",
    "\n",
    "classification_error = (FP + FN) / float(TP + TN + FP + FN)\n",
    "\n",
    "print('Classification error : {0:0.4f}'.format(classification_error))"
   ]
  },
  {
   "cell_type": "code",
   "execution_count": 99,
   "id": "98fb4fed",
   "metadata": {},
   "outputs": [
    {
     "name": "stdout",
     "output_type": "stream",
     "text": [
      "Precision : 0.8409\n"
     ]
    }
   ],
   "source": [
    "# 打印精度分數\n",
    "\n",
    "precision = TP / float(TP + FP)\n",
    "\n",
    "\n",
    "print('Precision : {0:0.4f}'.format(precision))"
   ]
  },
  {
   "cell_type": "code",
   "execution_count": 100,
   "id": "e0fb9fe3",
   "metadata": {},
   "outputs": [
    {
     "name": "stdout",
     "output_type": "stream",
     "text": [
      "Recall or Sensitivity : 1.0000\n"
     ]
    }
   ],
   "source": [
    "recall = TP / float(TP + FN)\n",
    "\n",
    "print('Recall or Sensitivity : {0:0.4f}'.format(recall))"
   ]
  },
  {
   "cell_type": "code",
   "execution_count": 101,
   "id": "0575d450",
   "metadata": {},
   "outputs": [
    {
     "name": "stdout",
     "output_type": "stream",
     "text": [
      "True Positive Rate : 1.0000\n"
     ]
    }
   ],
   "source": [
    "true_positive_rate = TP / float(TP + FN)\n",
    "\n",
    "print('True Positive Rate : {0:0.4f}'.format(true_positive_rate))"
   ]
  },
  {
   "cell_type": "code",
   "execution_count": 102,
   "id": "3b511a25",
   "metadata": {},
   "outputs": [
    {
     "name": "stdout",
     "output_type": "stream",
     "text": [
      "False Positive Rate : 0.1167\n"
     ]
    }
   ],
   "source": [
    "false_positive_rate = FP / float(FP + TN)\n",
    "\n",
    "print('False Positive Rate : {0:0.4f}'.format(false_positive_rate))"
   ]
  },
  {
   "cell_type": "code",
   "execution_count": 103,
   "id": "8fffdf39",
   "metadata": {},
   "outputs": [
    {
     "name": "stdout",
     "output_type": "stream",
     "text": [
      "Specificity : 0.8833\n"
     ]
    }
   ],
   "source": [
    "specificity = TN / (TN + FP)\n",
    "\n",
    "print('Specificity : {0:0.4f}'.format(specificity))"
   ]
  },
  {
   "cell_type": "code",
   "execution_count": 104,
   "id": "125613c2",
   "metadata": {},
   "outputs": [
    {
     "data": {
      "image/png": "[encoded data removed]",
      "text/plain": [
       "<Figure size 432x288 with 1 Axes>"
      ]
     },
     "metadata": {
      "needs_background": "light"
     },
     "output_type": "display_data"
    }
   ],
   "source": [
    "# 繪製 ROC 曲線\n",
    "\n",
    "from sklearn.metrics import roc_curve\n",
    "\n",
    "fpr, tpr, thresholds = roc_curve(y_test, y_pred_test)\n",
    "\n",
    "plt.figure(figsize=(6,4))\n",
    "\n",
    "plt.plot(fpr, tpr, linewidth=2)\n",
    "\n",
    "plt.plot([0,1], [0,1], 'k--' )\n",
    "\n",
    "plt.rcParams['font.size'] = 12\n",
    "\n",
    "plt.title('ROC curve for Predicting a Pulsar Star classifier')\n",
    "\n",
    "plt.xlabel('False Positive Rate (1 - Specificity)')\n",
    "\n",
    "plt.ylabel('True Positive Rate (Sensitivity)')\n",
    "\n",
    "plt.show()"
   ]
  },
  {
   "cell_type": "code",
   "execution_count": null,
   "id": "bf84ca8e",
   "metadata": {},
   "outputs": [],
   "source": []
  }
 ],
 "metadata": {
  "kernelspec": {
   "display_name": "Python 3",
   "language": "python",
   "name": "python3"
  },
  "language_info": {
   "codemirror_mode": {
    "name": "ipython",
    "version": 3
   },
   "file_extension": ".py",
   "mimetype": "text/x-python",
   "name": "python",
   "nbconvert_exporter": "python",
   "pygments_lexer": "ipython3",
   "version": "3.9.0"
  }
 },
 "nbformat": 4,
 "nbformat_minor": 5
}
