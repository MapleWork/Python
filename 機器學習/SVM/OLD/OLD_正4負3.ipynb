{
 "cells": [
  {
   "cell_type": "code",
   "execution_count": 1,
   "id": "2d9cae66",
   "metadata": {},
   "outputs": [],
   "source": [
    "import numpy as np\n",
    "import pandas as pd\n",
    "import matplotlib.pyplot as plt\n",
    "import seaborn as sns\n",
    "%matplotlib inline"
   ]
  },
  {
   "cell_type": "code",
   "execution_count": 2,
   "id": "a7947a9e",
   "metadata": {},
   "outputs": [],
   "source": [
    "import warnings\n",
    "warnings.filterwarnings('ignore')"
   ]
  },
  {
   "cell_type": "code",
   "execution_count": 3,
   "id": "be97a32f",
   "metadata": {},
   "outputs": [],
   "source": [
    "data = '2.csv'\n",
    "df = pd.read_csv(data)\n",
    "\n",
    "df = df[(df.正負樣本 == 1) | (df.正負樣本 == -1)]"
   ]
  },
  {
   "cell_type": "code",
   "execution_count": 4,
   "id": "95767d31",
   "metadata": {},
   "outputs": [
    {
     "data": {
      "text/plain": [
       "(830, 16)"
      ]
     },
     "execution_count": 4,
     "metadata": {},
     "output_type": "execute_result"
    }
   ],
   "source": [
    "# 查看數據集的維度\n",
    "df.shape"
   ]
  },
  {
   "cell_type": "code",
   "execution_count": 5,
   "id": "d4c31b5c",
   "metadata": {},
   "outputs": [
    {
     "data": {
      "text/html": [
       "<div>\n",
       "<style scoped>\n",
       "    .dataframe tbody tr th:only-of-type {\n",
       "        vertical-align: middle;\n",
       "    }\n",
       "\n",
       "    .dataframe tbody tr th {\n",
       "        vertical-align: top;\n",
       "    }\n",
       "\n",
       "    .dataframe thead th {\n",
       "        text-align: right;\n",
       "    }\n",
       "</style>\n",
       "<table border=\"1\" class=\"dataframe\">\n",
       "  <thead>\n",
       "    <tr style=\"text-align: right;\">\n",
       "      <th></th>\n",
       "      <th>代碼</th>\n",
       "      <th>股票</th>\n",
       "      <th>ROE_5Y</th>\n",
       "      <th>EPS_5Y</th>\n",
       "      <th>毛利率_5Y</th>\n",
       "      <th>現金殖利率</th>\n",
       "      <th>股價</th>\n",
       "      <th>董監持股</th>\n",
       "      <th>ROE_Test</th>\n",
       "      <th>EPS_Test</th>\n",
       "      <th>毛利率_Test</th>\n",
       "      <th>現金殖利率_Test</th>\n",
       "      <th>股價_Test</th>\n",
       "      <th>董監持股_Test</th>\n",
       "      <th>符合數量</th>\n",
       "      <th>正負樣本</th>\n",
       "    </tr>\n",
       "  </thead>\n",
       "  <tbody>\n",
       "    <tr>\n",
       "      <th>0</th>\n",
       "      <td>1101</td>\n",
       "      <td>台泥</td>\n",
       "      <td>11.00</td>\n",
       "      <td>3.69</td>\n",
       "      <td>26.64</td>\n",
       "      <td>5.87</td>\n",
       "      <td>39.85</td>\n",
       "      <td>8.38</td>\n",
       "      <td>1</td>\n",
       "      <td>1</td>\n",
       "      <td>1</td>\n",
       "      <td>1</td>\n",
       "      <td>1</td>\n",
       "      <td>0</td>\n",
       "      <td>5</td>\n",
       "      <td>1</td>\n",
       "    </tr>\n",
       "    <tr>\n",
       "      <th>1</th>\n",
       "      <td>1102</td>\n",
       "      <td>亞泥</td>\n",
       "      <td>9.81</td>\n",
       "      <td>4.05</td>\n",
       "      <td>24.67</td>\n",
       "      <td>6.29</td>\n",
       "      <td>44.05</td>\n",
       "      <td>27.37</td>\n",
       "      <td>0</td>\n",
       "      <td>1</td>\n",
       "      <td>1</td>\n",
       "      <td>1</td>\n",
       "      <td>1</td>\n",
       "      <td>1</td>\n",
       "      <td>5</td>\n",
       "      <td>1</td>\n",
       "    </tr>\n",
       "    <tr>\n",
       "      <th>2</th>\n",
       "      <td>1103</td>\n",
       "      <td>嘉泥</td>\n",
       "      <td>5.24</td>\n",
       "      <td>1.65</td>\n",
       "      <td>6.44</td>\n",
       "      <td>5.10</td>\n",
       "      <td>17.85</td>\n",
       "      <td>17.15</td>\n",
       "      <td>0</td>\n",
       "      <td>1</td>\n",
       "      <td>0</td>\n",
       "      <td>1</td>\n",
       "      <td>1</td>\n",
       "      <td>1</td>\n",
       "      <td>4</td>\n",
       "      <td>1</td>\n",
       "    </tr>\n",
       "    <tr>\n",
       "      <th>3</th>\n",
       "      <td>1104</td>\n",
       "      <td>環泥</td>\n",
       "      <td>6.66</td>\n",
       "      <td>1.82</td>\n",
       "      <td>14.24</td>\n",
       "      <td>4.79</td>\n",
       "      <td>21.70</td>\n",
       "      <td>24.16</td>\n",
       "      <td>0</td>\n",
       "      <td>1</td>\n",
       "      <td>0</td>\n",
       "      <td>0</td>\n",
       "      <td>1</td>\n",
       "      <td>1</td>\n",
       "      <td>3</td>\n",
       "      <td>-1</td>\n",
       "    </tr>\n",
       "    <tr>\n",
       "      <th>4</th>\n",
       "      <td>1108</td>\n",
       "      <td>幸福</td>\n",
       "      <td>1.71</td>\n",
       "      <td>0.21</td>\n",
       "      <td>8.77</td>\n",
       "      <td>5.47</td>\n",
       "      <td>10.60</td>\n",
       "      <td>3.95</td>\n",
       "      <td>0</td>\n",
       "      <td>1</td>\n",
       "      <td>0</td>\n",
       "      <td>1</td>\n",
       "      <td>1</td>\n",
       "      <td>0</td>\n",
       "      <td>3</td>\n",
       "      <td>-1</td>\n",
       "    </tr>\n",
       "  </tbody>\n",
       "</table>\n",
       "</div>"
      ],
      "text/plain": [
       "     代碼  股票  ROE_5Y  EPS_5Y  毛利率_5Y  現金殖利率     股價   董監持股  ROE_Test  EPS_Test  \\\n",
       "0  1101  台泥   11.00    3.69   26.64   5.87  39.85   8.38         1         1   \n",
       "1  1102  亞泥    9.81    4.05   24.67   6.29  44.05  27.37         0         1   \n",
       "2  1103  嘉泥    5.24    1.65    6.44   5.10  17.85  17.15         0         1   \n",
       "3  1104  環泥    6.66    1.82   14.24   4.79  21.70  24.16         0         1   \n",
       "4  1108  幸福    1.71    0.21    8.77   5.47  10.60   3.95         0         1   \n",
       "\n",
       "   毛利率_Test  現金殖利率_Test  股價_Test  董監持股_Test  符合數量  正負樣本  \n",
       "0         1           1        1          0     5     1  \n",
       "1         1           1        1          1     5     1  \n",
       "2         0           1        1          1     4     1  \n",
       "3         0           0        1          1     3    -1  \n",
       "4         0           1        1          0     3    -1  "
      ]
     },
     "execution_count": 5,
     "metadata": {},
     "output_type": "execute_result"
    }
   ],
   "source": [
    "# 讓我們預覽數據集\n",
    "df.head()"
   ]
  },
  {
   "cell_type": "code",
   "execution_count": 6,
   "id": "3455df07",
   "metadata": {},
   "outputs": [
    {
     "data": {
      "text/plain": [
       "Index(['代碼', '股票', 'ROE_5Y', 'EPS_5Y', '毛利率_5Y', '現金殖利率', '股價', '董監持股',\n",
       "       'ROE_Test', 'EPS_Test', '毛利率_Test', '現金殖利率_Test', '股價_Test',\n",
       "       '董監持股_Test', '符合數量', '正負樣本'],\n",
       "      dtype='object')"
      ]
     },
     "execution_count": 6,
     "metadata": {},
     "output_type": "execute_result"
    }
   ],
   "source": [
    "# 讓我們預覽數據集\n",
    "col_names = df.columns\n",
    "col_names"
   ]
  },
  {
   "cell_type": "code",
   "execution_count": 7,
   "id": "92c94aff",
   "metadata": {},
   "outputs": [
    {
     "data": {
      "text/plain": [
       "Index(['代碼', '股票', 'ROE_5Y', 'EPS_5Y', '毛利率_5Y', '現金殖利率', '股價', '董監持股',\n",
       "       'ROE_Test', 'EPS_Test', '毛利率_Test', '現金殖利率_Test', '股價_Test',\n",
       "       '董監持股_Test', '符合數量', '正負樣本'],\n",
       "      dtype='object')"
      ]
     },
     "execution_count": 7,
     "metadata": {},
     "output_type": "execute_result"
    }
   ],
   "source": [
    "# 從列名中刪除前導空格\n",
    "df.columns = df.columns.str.strip()\n",
    "df.columns"
   ]
  },
  {
   "cell_type": "code",
   "execution_count": 8,
   "id": "a3646507",
   "metadata": {},
   "outputs": [
    {
     "data": {
      "text/plain": [
       " 1    447\n",
       "-1    383\n",
       "Name: 正負樣本, dtype: int64"
      ]
     },
     "execution_count": 8,
     "metadata": {},
     "output_type": "execute_result"
    }
   ],
   "source": [
    "# 檢查 All 列的分佈\n",
    "df['正負樣本'].value_counts()"
   ]
  },
  {
   "cell_type": "code",
   "execution_count": 9,
   "id": "3a9fa60e",
   "metadata": {},
   "outputs": [
    {
     "data": {
      "text/plain": [
       " 1    0.538554\n",
       "-1    0.461446\n",
       "Name: 正負樣本, dtype: float64"
      ]
     },
     "execution_count": 9,
     "metadata": {},
     "output_type": "execute_result"
    }
   ],
   "source": [
    "# 查看 All 列的百分比分佈\n",
    "df['正負樣本'].value_counts()/np.float(len(df))"
   ]
  },
  {
   "cell_type": "code",
   "execution_count": 10,
   "id": "b092b40e",
   "metadata": {
    "scrolled": true
   },
   "outputs": [
    {
     "name": "stdout",
     "output_type": "stream",
     "text": [
      "<class 'pandas.core.frame.DataFrame'>\n",
      "Int64Index: 830 entries, 0 to 829\n",
      "Data columns (total 16 columns):\n",
      " #   Column      Non-Null Count  Dtype  \n",
      "---  ------      --------------  -----  \n",
      " 0   代碼          830 non-null    int64  \n",
      " 1   股票          830 non-null    object \n",
      " 2   ROE_5Y      830 non-null    float64\n",
      " 3   EPS_5Y      830 non-null    float64\n",
      " 4   毛利率_5Y      830 non-null    float64\n",
      " 5   現金殖利率       830 non-null    float64\n",
      " 6   股價          830 non-null    float64\n",
      " 7   董監持股        830 non-null    float64\n",
      " 8   ROE_Test    830 non-null    int64  \n",
      " 9   EPS_Test    830 non-null    int64  \n",
      " 10  毛利率_Test    830 non-null    int64  \n",
      " 11  現金殖利率_Test  830 non-null    int64  \n",
      " 12  股價_Test     830 non-null    int64  \n",
      " 13  董監持股_Test   830 non-null    int64  \n",
      " 14  符合數量        830 non-null    int64  \n",
      " 15  正負樣本        830 non-null    int64  \n",
      "dtypes: float64(6), int64(9), object(1)\n",
      "memory usage: 110.2+ KB\n"
     ]
    }
   ],
   "source": [
    "# 查看數據集摘要\n",
    "df.info()"
   ]
  },
  {
   "cell_type": "code",
   "execution_count": 11,
   "id": "388dd277",
   "metadata": {
    "scrolled": true
   },
   "outputs": [
    {
     "data": {
      "text/plain": [
       "代碼            0\n",
       "股票            0\n",
       "ROE_5Y        0\n",
       "EPS_5Y        0\n",
       "毛利率_5Y        0\n",
       "現金殖利率         0\n",
       "股價            0\n",
       "董監持股          0\n",
       "ROE_Test      0\n",
       "EPS_Test      0\n",
       "毛利率_Test      0\n",
       "現金殖利率_Test    0\n",
       "股價_Test       0\n",
       "董監持股_Test     0\n",
       "符合數量          0\n",
       "正負樣本          0\n",
       "dtype: int64"
      ]
     },
     "execution_count": 11,
     "metadata": {},
     "output_type": "execute_result"
    }
   ],
   "source": [
    "# 檢查變量中的缺失值\n",
    "df.isnull().sum()"
   ]
  },
  {
   "cell_type": "code",
   "execution_count": 12,
   "id": "5773e66f",
   "metadata": {},
   "outputs": [
    {
     "data": {
      "text/html": [
       "<div>\n",
       "<style scoped>\n",
       "    .dataframe tbody tr th:only-of-type {\n",
       "        vertical-align: middle;\n",
       "    }\n",
       "\n",
       "    .dataframe tbody tr th {\n",
       "        vertical-align: top;\n",
       "    }\n",
       "\n",
       "    .dataframe thead th {\n",
       "        text-align: right;\n",
       "    }\n",
       "</style>\n",
       "<table border=\"1\" class=\"dataframe\">\n",
       "  <thead>\n",
       "    <tr style=\"text-align: right;\">\n",
       "      <th></th>\n",
       "      <th>代碼</th>\n",
       "      <th>ROE_5Y</th>\n",
       "      <th>EPS_5Y</th>\n",
       "      <th>毛利率_5Y</th>\n",
       "      <th>現金殖利率</th>\n",
       "      <th>股價</th>\n",
       "      <th>董監持股</th>\n",
       "      <th>ROE_Test</th>\n",
       "      <th>EPS_Test</th>\n",
       "      <th>毛利率_Test</th>\n",
       "      <th>現金殖利率_Test</th>\n",
       "      <th>股價_Test</th>\n",
       "      <th>董監持股_Test</th>\n",
       "      <th>符合數量</th>\n",
       "      <th>正負樣本</th>\n",
       "    </tr>\n",
       "  </thead>\n",
       "  <tbody>\n",
       "    <tr>\n",
       "      <th>count</th>\n",
       "      <td>830.00</td>\n",
       "      <td>830.00</td>\n",
       "      <td>830.00</td>\n",
       "      <td>830.00</td>\n",
       "      <td>830.00</td>\n",
       "      <td>830.00</td>\n",
       "      <td>830.00</td>\n",
       "      <td>830.00</td>\n",
       "      <td>830.00</td>\n",
       "      <td>830.00</td>\n",
       "      <td>830.00</td>\n",
       "      <td>830.0</td>\n",
       "      <td>830.00</td>\n",
       "      <td>830.00</td>\n",
       "      <td>830.00</td>\n",
       "    </tr>\n",
       "    <tr>\n",
       "      <th>mean</th>\n",
       "      <td>3784.99</td>\n",
       "      <td>7.39</td>\n",
       "      <td>3.08</td>\n",
       "      <td>22.40</td>\n",
       "      <td>3.99</td>\n",
       "      <td>63.02</td>\n",
       "      <td>22.10</td>\n",
       "      <td>0.42</td>\n",
       "      <td>0.84</td>\n",
       "      <td>0.52</td>\n",
       "      <td>0.30</td>\n",
       "      <td>0.8</td>\n",
       "      <td>0.74</td>\n",
       "      <td>3.63</td>\n",
       "      <td>0.08</td>\n",
       "    </tr>\n",
       "    <tr>\n",
       "      <th>std</th>\n",
       "      <td>2338.99</td>\n",
       "      <td>14.95</td>\n",
       "      <td>4.46</td>\n",
       "      <td>17.68</td>\n",
       "      <td>2.76</td>\n",
       "      <td>106.78</td>\n",
       "      <td>16.58</td>\n",
       "      <td>0.49</td>\n",
       "      <td>0.36</td>\n",
       "      <td>0.50</td>\n",
       "      <td>0.46</td>\n",
       "      <td>0.4</td>\n",
       "      <td>0.44</td>\n",
       "      <td>1.19</td>\n",
       "      <td>1.00</td>\n",
       "    </tr>\n",
       "    <tr>\n",
       "      <th>min</th>\n",
       "      <td>1101.00</td>\n",
       "      <td>-215.93</td>\n",
       "      <td>-5.66</td>\n",
       "      <td>-113.93</td>\n",
       "      <td>0.00</td>\n",
       "      <td>1.13</td>\n",
       "      <td>0.00</td>\n",
       "      <td>0.00</td>\n",
       "      <td>0.00</td>\n",
       "      <td>0.00</td>\n",
       "      <td>0.00</td>\n",
       "      <td>0.0</td>\n",
       "      <td>0.00</td>\n",
       "      <td>1.00</td>\n",
       "      <td>-1.00</td>\n",
       "    </tr>\n",
       "    <tr>\n",
       "      <th>25%</th>\n",
       "      <td>2107.25</td>\n",
       "      <td>3.20</td>\n",
       "      <td>0.55</td>\n",
       "      <td>12.53</td>\n",
       "      <td>2.22</td>\n",
       "      <td>19.58</td>\n",
       "      <td>9.88</td>\n",
       "      <td>0.00</td>\n",
       "      <td>1.00</td>\n",
       "      <td>0.00</td>\n",
       "      <td>0.00</td>\n",
       "      <td>1.0</td>\n",
       "      <td>0.00</td>\n",
       "      <td>3.00</td>\n",
       "      <td>-1.00</td>\n",
       "    </tr>\n",
       "    <tr>\n",
       "      <th>50%</th>\n",
       "      <td>2910.50</td>\n",
       "      <td>8.37</td>\n",
       "      <td>1.84</td>\n",
       "      <td>20.74</td>\n",
       "      <td>3.69</td>\n",
       "      <td>33.22</td>\n",
       "      <td>17.41</td>\n",
       "      <td>0.00</td>\n",
       "      <td>1.00</td>\n",
       "      <td>1.00</td>\n",
       "      <td>0.00</td>\n",
       "      <td>1.0</td>\n",
       "      <td>1.00</td>\n",
       "      <td>4.00</td>\n",
       "      <td>1.00</td>\n",
       "    </tr>\n",
       "    <tr>\n",
       "      <th>75%</th>\n",
       "      <td>5266.25</td>\n",
       "      <td>14.12</td>\n",
       "      <td>4.24</td>\n",
       "      <td>30.44</td>\n",
       "      <td>5.40</td>\n",
       "      <td>67.95</td>\n",
       "      <td>30.13</td>\n",
       "      <td>1.00</td>\n",
       "      <td>1.00</td>\n",
       "      <td>1.00</td>\n",
       "      <td>1.00</td>\n",
       "      <td>1.0</td>\n",
       "      <td>1.00</td>\n",
       "      <td>4.00</td>\n",
       "      <td>1.00</td>\n",
       "    </tr>\n",
       "    <tr>\n",
       "      <th>max</th>\n",
       "      <td>9958.00</td>\n",
       "      <td>48.52</td>\n",
       "      <td>37.27</td>\n",
       "      <td>99.80</td>\n",
       "      <td>29.47</td>\n",
       "      <td>1650.00</td>\n",
       "      <td>90.70</td>\n",
       "      <td>1.00</td>\n",
       "      <td>1.00</td>\n",
       "      <td>1.00</td>\n",
       "      <td>1.00</td>\n",
       "      <td>1.0</td>\n",
       "      <td>1.00</td>\n",
       "      <td>6.00</td>\n",
       "      <td>1.00</td>\n",
       "    </tr>\n",
       "  </tbody>\n",
       "</table>\n",
       "</div>"
      ],
      "text/plain": [
       "            代碼  ROE_5Y  EPS_5Y  毛利率_5Y   現金殖利率       股價    董監持股  ROE_Test  \\\n",
       "count   830.00  830.00  830.00  830.00  830.00   830.00  830.00    830.00   \n",
       "mean   3784.99    7.39    3.08   22.40    3.99    63.02   22.10      0.42   \n",
       "std    2338.99   14.95    4.46   17.68    2.76   106.78   16.58      0.49   \n",
       "min    1101.00 -215.93   -5.66 -113.93    0.00     1.13    0.00      0.00   \n",
       "25%    2107.25    3.20    0.55   12.53    2.22    19.58    9.88      0.00   \n",
       "50%    2910.50    8.37    1.84   20.74    3.69    33.22   17.41      0.00   \n",
       "75%    5266.25   14.12    4.24   30.44    5.40    67.95   30.13      1.00   \n",
       "max    9958.00   48.52   37.27   99.80   29.47  1650.00   90.70      1.00   \n",
       "\n",
       "       EPS_Test  毛利率_Test  現金殖利率_Test  股價_Test  董監持股_Test    符合數量    正負樣本  \n",
       "count    830.00    830.00      830.00    830.0     830.00  830.00  830.00  \n",
       "mean       0.84      0.52        0.30      0.8       0.74    3.63    0.08  \n",
       "std        0.36      0.50        0.46      0.4       0.44    1.19    1.00  \n",
       "min        0.00      0.00        0.00      0.0       0.00    1.00   -1.00  \n",
       "25%        1.00      0.00        0.00      1.0       0.00    3.00   -1.00  \n",
       "50%        1.00      1.00        0.00      1.0       1.00    4.00    1.00  \n",
       "75%        1.00      1.00        1.00      1.0       1.00    4.00    1.00  \n",
       "max        1.00      1.00        1.00      1.0       1.00    6.00    1.00  "
      ]
     },
     "execution_count": 12,
     "metadata": {},
     "output_type": "execute_result"
    }
   ],
   "source": [
    "# 查看數值變量中的匯總統計\n",
    "round(df.describe(),2)"
   ]
  },
  {
   "cell_type": "code",
   "execution_count": 13,
   "id": "6ce824aa",
   "metadata": {},
   "outputs": [
    {
     "data": {
      "text/plain": [
       "Text(0, 0.5, '董監持股')"
      ]
     },
     "execution_count": 13,
     "metadata": {},
     "output_type": "execute_result"
    },
    {
     "data": {
      "image/png": "[encoded data removed]",
      "text/plain": [
       "<Figure size 1728x1440 with 6 Axes>"
      ]
     },
     "metadata": {
      "needs_background": "light"
     },
     "output_type": "display_data"
    }
   ],
   "source": [
    "# 繪製箱線圖以可視化異常值\n",
    "plt.figure(figsize=(24,20))\n",
    "\n",
    "\n",
    "plt.subplot(4, 2, 1)\n",
    "fig = df.boxplot(column='ROE_5Y')\n",
    "fig.set_title('')\n",
    "fig.set_ylabel('ROE_5Y')\n",
    "\n",
    "plt.subplot(4, 2, 2)\n",
    "fig = df.boxplot(column='EPS_5Y')\n",
    "fig.set_title('')\n",
    "fig.set_ylabel('EPS_5Y')\n",
    "\n",
    "plt.subplot(4, 2, 3)\n",
    "fig = df.boxplot(column='毛利率_5Y')\n",
    "fig.set_title('')\n",
    "fig.set_ylabel('毛利率_5Y')\n",
    "\n",
    "plt.subplot(4, 2, 4)\n",
    "fig = df.boxplot(column='現金殖利率')\n",
    "fig.set_title('')\n",
    "fig.set_ylabel('現金殖利率')\n",
    "\n",
    "plt.subplot(4, 2, 5)\n",
    "fig = df.boxplot(column='股價')\n",
    "fig.set_title('')\n",
    "fig.set_ylabel('股價')\n",
    "\n",
    "plt.subplot(4, 2, 6)\n",
    "fig = df.boxplot(column='董監持股')\n",
    "fig.set_title('')\n",
    "fig.set_ylabel('董監持股')"
   ]
  },
  {
   "cell_type": "code",
   "execution_count": 14,
   "id": "ad54b730",
   "metadata": {},
   "outputs": [
    {
     "data": {
      "text/plain": [
       "Text(0, 0.5, 'Number of pulsar stars')"
      ]
     },
     "execution_count": 14,
     "metadata": {},
     "output_type": "execute_result"
    },
    {
     "data": {
      "image/png": "[encoded data removed]",
      "text/plain": [
       "<Figure size 1728x1440 with 6 Axes>"
      ]
     },
     "metadata": {
      "needs_background": "light"
     },
     "output_type": "display_data"
    }
   ],
   "source": [
    "# 繪製直方圖以檢查分佈\n",
    "plt.figure(figsize=(24,20))\n",
    "\n",
    "\n",
    "plt.subplot(4, 2, 1)\n",
    "fig = df['ROE_5Y'].hist(bins=20)\n",
    "fig.set_xlabel('ROE_5Y')\n",
    "fig.set_ylabel('Number of pulsar stars')\n",
    "\n",
    "plt.subplot(4, 2, 2)\n",
    "fig = df['EPS_5Y'].hist(bins=20)\n",
    "fig.set_xlabel('EPS_5Y')\n",
    "fig.set_ylabel('Number of pulsar stars')\n",
    "\n",
    "plt.subplot(4, 2, 3)\n",
    "fig = df['毛利率_5Y'].hist(bins=20)\n",
    "fig.set_xlabel('毛利率_5Y')\n",
    "fig.set_ylabel('Number of pulsar stars')\n",
    "\n",
    "plt.subplot(4, 2, 4)\n",
    "fig = df['現金殖利率'].hist(bins=20)\n",
    "fig.set_xlabel('現金殖利率')\n",
    "fig.set_ylabel('Number of pulsar stars')\n",
    "\n",
    "plt.subplot(4, 2, 5)\n",
    "fig = df['股價'].hist(bins=20)\n",
    "fig.set_xlabel('股價')\n",
    "fig.set_ylabel('Number of pulsar stars')\n",
    "\n",
    "plt.subplot(4, 2, 6)\n",
    "fig = df['董監持股'].hist(bins=20)\n",
    "fig.set_xlabel('董監持股')\n",
    "fig.set_ylabel('Number of pulsar stars')"
   ]
  },
  {
   "cell_type": "code",
   "execution_count": 15,
   "id": "a594803a",
   "metadata": {},
   "outputs": [],
   "source": [
    "X = df.drop(['代碼', '股票', 'ROE_Test', 'EPS_Test', '毛利率_Test', '現金殖利率_Test', '股價_Test', '董監持股_Test','符合數量','正負樣本'], axis=1)\n",
    "\n",
    "y = df['正負樣本']"
   ]
  },
  {
   "cell_type": "code",
   "execution_count": 16,
   "id": "b7fb68d1",
   "metadata": {},
   "outputs": [],
   "source": [
    "# 將 X 和 y 拆分為訓練集和測試集\n",
    "from sklearn.model_selection import train_test_split\n",
    "\n",
    "X_train, X_test, y_train, y_test = train_test_split(X, y, test_size = 0.3, random_state = 0)"
   ]
  },
  {
   "cell_type": "code",
   "execution_count": 17,
   "id": "c2a2a13b",
   "metadata": {},
   "outputs": [
    {
     "data": {
      "text/plain": [
       "((581, 6), (249, 6))"
      ]
     },
     "execution_count": 17,
     "metadata": {},
     "output_type": "execute_result"
    }
   ],
   "source": [
    "# 檢查 X_train 和 X_test 的形狀\n",
    "X_train.shape, X_test.shape"
   ]
  },
  {
   "cell_type": "code",
   "execution_count": 18,
   "id": "aa89bd6e",
   "metadata": {},
   "outputs": [],
   "source": [
    "cols = X_train.columns"
   ]
  },
  {
   "cell_type": "code",
   "execution_count": 19,
   "id": "2959c78f",
   "metadata": {},
   "outputs": [],
   "source": [
    "from sklearn.preprocessing import StandardScaler\n",
    "\n",
    "scaler = StandardScaler()\n",
    "\n",
    "X_train = scaler.fit_transform(X_train)\n",
    "\n",
    "X_test = scaler.transform(X_test)"
   ]
  },
  {
   "cell_type": "code",
   "execution_count": 20,
   "id": "0947becb",
   "metadata": {},
   "outputs": [],
   "source": [
    "X_train = pd.DataFrame(X_train, columns=[cols])"
   ]
  },
  {
   "cell_type": "code",
   "execution_count": 21,
   "id": "b68f3b58",
   "metadata": {},
   "outputs": [],
   "source": [
    "X_test = pd.DataFrame(X_test, columns=[cols])"
   ]
  },
  {
   "cell_type": "code",
   "execution_count": 22,
   "id": "9422931e",
   "metadata": {},
   "outputs": [
    {
     "data": {
      "text/html": [
       "<div>\n",
       "<style scoped>\n",
       "    .dataframe tbody tr th:only-of-type {\n",
       "        vertical-align: middle;\n",
       "    }\n",
       "\n",
       "    .dataframe tbody tr th {\n",
       "        vertical-align: top;\n",
       "    }\n",
       "\n",
       "    .dataframe thead tr th {\n",
       "        text-align: left;\n",
       "    }\n",
       "</style>\n",
       "<table border=\"1\" class=\"dataframe\">\n",
       "  <thead>\n",
       "    <tr>\n",
       "      <th></th>\n",
       "      <th>ROE_5Y</th>\n",
       "      <th>EPS_5Y</th>\n",
       "      <th>毛利率_5Y</th>\n",
       "      <th>現金殖利率</th>\n",
       "      <th>股價</th>\n",
       "      <th>董監持股</th>\n",
       "    </tr>\n",
       "  </thead>\n",
       "  <tbody>\n",
       "    <tr>\n",
       "      <th>count</th>\n",
       "      <td>5.810000e+02</td>\n",
       "      <td>5.810000e+02</td>\n",
       "      <td>5.810000e+02</td>\n",
       "      <td>5.810000e+02</td>\n",
       "      <td>5.810000e+02</td>\n",
       "      <td>5.810000e+02</td>\n",
       "    </tr>\n",
       "    <tr>\n",
       "      <th>mean</th>\n",
       "      <td>4.280378e-17</td>\n",
       "      <td>8.255015e-17</td>\n",
       "      <td>1.528706e-16</td>\n",
       "      <td>-2.231911e-16</td>\n",
       "      <td>-1.070094e-17</td>\n",
       "      <td>1.681577e-17</td>\n",
       "    </tr>\n",
       "    <tr>\n",
       "      <th>std</th>\n",
       "      <td>1.000862e+00</td>\n",
       "      <td>1.000862e+00</td>\n",
       "      <td>1.000862e+00</td>\n",
       "      <td>1.000862e+00</td>\n",
       "      <td>1.000862e+00</td>\n",
       "      <td>1.000862e+00</td>\n",
       "    </tr>\n",
       "    <tr>\n",
       "      <th>min</th>\n",
       "      <td>-1.382815e+01</td>\n",
       "      <td>-2.076535e+00</td>\n",
       "      <td>-7.525208e+00</td>\n",
       "      <td>-1.383487e+00</td>\n",
       "      <td>-5.761591e-01</td>\n",
       "      <td>-1.352640e+00</td>\n",
       "    </tr>\n",
       "    <tr>\n",
       "      <th>25%</th>\n",
       "      <td>-2.194168e-01</td>\n",
       "      <td>-5.826392e-01</td>\n",
       "      <td>-5.203709e-01</td>\n",
       "      <td>-6.228167e-01</td>\n",
       "      <td>-3.963693e-01</td>\n",
       "      <td>-7.465099e-01</td>\n",
       "    </tr>\n",
       "    <tr>\n",
       "      <th>50%</th>\n",
       "      <td>7.401127e-02</td>\n",
       "      <td>-2.857753e-01</td>\n",
       "      <td>-6.029214e-02</td>\n",
       "      <td>-1.191294e-01</td>\n",
       "      <td>-2.599736e-01</td>\n",
       "      <td>-2.694746e-01</td>\n",
       "    </tr>\n",
       "    <tr>\n",
       "      <th>75%</th>\n",
       "      <td>4.456041e-01</td>\n",
       "      <td>3.342870e-01</td>\n",
       "      <td>4.424686e-01</td>\n",
       "      <td>4.702190e-01</td>\n",
       "      <td>7.300638e-02</td>\n",
       "      <td>4.866511e-01</td>\n",
       "    </tr>\n",
       "    <tr>\n",
       "      <th>max</th>\n",
       "      <td>2.118702e+00</td>\n",
       "      <td>8.201179e+00</td>\n",
       "      <td>3.541071e+00</td>\n",
       "      <td>8.714244e+00</td>\n",
       "      <td>1.543086e+01</td>\n",
       "      <td>4.223018e+00</td>\n",
       "    </tr>\n",
       "  </tbody>\n",
       "</table>\n",
       "</div>"
      ],
      "text/plain": [
       "             ROE_5Y        EPS_5Y        毛利率_5Y         現金殖利率            股價  \\\n",
       "count  5.810000e+02  5.810000e+02  5.810000e+02  5.810000e+02  5.810000e+02   \n",
       "mean   4.280378e-17  8.255015e-17  1.528706e-16 -2.231911e-16 -1.070094e-17   \n",
       "std    1.000862e+00  1.000862e+00  1.000862e+00  1.000862e+00  1.000862e+00   \n",
       "min   -1.382815e+01 -2.076535e+00 -7.525208e+00 -1.383487e+00 -5.761591e-01   \n",
       "25%   -2.194168e-01 -5.826392e-01 -5.203709e-01 -6.228167e-01 -3.963693e-01   \n",
       "50%    7.401127e-02 -2.857753e-01 -6.029214e-02 -1.191294e-01 -2.599736e-01   \n",
       "75%    4.456041e-01  3.342870e-01  4.424686e-01  4.702190e-01  7.300638e-02   \n",
       "max    2.118702e+00  8.201179e+00  3.541071e+00  8.714244e+00  1.543086e+01   \n",
       "\n",
       "               董監持股  \n",
       "count  5.810000e+02  \n",
       "mean   1.681577e-17  \n",
       "std    1.000862e+00  \n",
       "min   -1.352640e+00  \n",
       "25%   -7.465099e-01  \n",
       "50%   -2.694746e-01  \n",
       "75%    4.866511e-01  \n",
       "max    4.223018e+00  "
      ]
     },
     "execution_count": 22,
     "metadata": {},
     "output_type": "execute_result"
    }
   ],
   "source": [
    "X_train.describe()"
   ]
  },
  {
   "cell_type": "code",
   "execution_count": 23,
   "id": "04293083",
   "metadata": {},
   "outputs": [
    {
     "name": "stdout",
     "output_type": "stream",
     "text": [
      "Model accuracy score with default hyperparameters: 0.8675\n"
     ]
    }
   ],
   "source": [
    "# 導入 SVC 分類器\n",
    "from sklearn.svm import SVC\n",
    "\n",
    "\n",
    "# 導入指標以計算準確性\n",
    "from sklearn.metrics import accuracy_score\n",
    "\n",
    "\n",
    "# 使用默認超參數實例化分類器\n",
    "svc=SVC() \n",
    "\n",
    "\n",
    "# 將分類器擬合到訓練集\n",
    "svc.fit(X_train,y_train)\n",
    "\n",
    "\n",
    "# 對測試集進行預測\n",
    "y_pred=svc.predict(X_test)\n",
    "\n",
    "\n",
    "# 計算和打印準確度分數\n",
    "print('Model accuracy score with default hyperparameters: {0:0.4f}'. format(accuracy_score(y_test, y_pred)))"
   ]
  },
  {
   "cell_type": "code",
   "execution_count": 24,
   "id": "a18b64da",
   "metadata": {},
   "outputs": [
    {
     "name": "stdout",
     "output_type": "stream",
     "text": [
      "Model accuracy score with rbf kernel and C=100.0 : 0.8554\n"
     ]
    }
   ],
   "source": [
    "# 使用 rbf 內核和 C=100 實例化分類器\n",
    "svc=SVC(C=100.0) \n",
    "\n",
    "\n",
    "# 將分類器擬合到訓練集\n",
    "svc.fit(X_train,y_train)\n",
    "\n",
    "\n",
    "# 對測試集進行預測\n",
    "y_pred=svc.predict(X_test)\n",
    "\n",
    "\n",
    "# 計算和打印準確度分數\n",
    "print('Model accuracy score with rbf kernel and C=100.0 : {0:0.4f}'. format(accuracy_score(y_test, y_pred)))"
   ]
  },
  {
   "cell_type": "code",
   "execution_count": 25,
   "id": "04926d79",
   "metadata": {},
   "outputs": [
    {
     "name": "stdout",
     "output_type": "stream",
     "text": [
      "Model accuracy score with rbf kernel and C=1000.0 : 0.8273\n"
     ]
    }
   ],
   "source": [
    "# 使用 rbf 內核和 C=1000 實例化分類器\n",
    "svc=SVC(C=1000.0) \n",
    "\n",
    "\n",
    "# 將分類器擬合到訓練集\n",
    "svc.fit(X_train,y_train)\n",
    "\n",
    "\n",
    "# 對測試集進行預測\n",
    "y_pred=svc.predict(X_test)\n",
    "\n",
    "\n",
    "# 計算和打印準確度分數\n",
    "print('Model accuracy score with rbf kernel and C=1000.0 : {0:0.4f}'. format(accuracy_score(y_test, y_pred)))"
   ]
  },
  {
   "cell_type": "code",
   "execution_count": 26,
   "id": "4d8bb7eb",
   "metadata": {},
   "outputs": [
    {
     "name": "stdout",
     "output_type": "stream",
     "text": [
      "Model accuracy score with linear kernel and C=1.0 : 0.8474\n"
     ]
    }
   ],
   "source": [
    "# 使用線性核和 C=1.0 實例化分類器\n",
    "linear_svc=SVC(kernel='linear', C=1.0) \n",
    "\n",
    "\n",
    "# 將分類器擬合到訓練集\n",
    "linear_svc.fit(X_train,y_train)\n",
    "\n",
    "\n",
    "# 對測試集進行預測\n",
    "y_pred_test=linear_svc.predict(X_test)\n",
    "\n",
    "\n",
    "# 計算和打印準確度分數\n",
    "print('Model accuracy score with linear kernel and C=1.0 : {0:0.4f}'. format(accuracy_score(y_test, y_pred_test)))"
   ]
  },
  {
   "cell_type": "code",
   "execution_count": 27,
   "id": "dd821e66",
   "metadata": {},
   "outputs": [
    {
     "name": "stdout",
     "output_type": "stream",
     "text": [
      "Model accuracy score with linear kernel and C=100.0 : 0.8434\n"
     ]
    }
   ],
   "source": [
    "# 使用線性核和 C=100.0 實例化分類器\n",
    "linear_svc100=SVC(kernel='linear', C=100.0) \n",
    "\n",
    "\n",
    "# 將分類器擬合到訓練集\n",
    "linear_svc100.fit(X_train, y_train)\n",
    "\n",
    "\n",
    "# 對測試集進行預測\n",
    "y_pred=linear_svc100.predict(X_test)\n",
    "\n",
    "\n",
    "# 計算和打印準確度分數\n",
    "print('Model accuracy score with linear kernel and C=100.0 : {0:0.4f}'. format(accuracy_score(y_test, y_pred)))"
   ]
  },
  {
   "cell_type": "code",
   "execution_count": 28,
   "id": "b960d36f",
   "metadata": {},
   "outputs": [
    {
     "name": "stdout",
     "output_type": "stream",
     "text": [
      "Model accuracy score with linear kernel and C=1000.0 : 0.8434\n"
     ]
    }
   ],
   "source": [
    "# 用線性核和 C=1000.0 實例化分類器\n",
    "linear_svc1000=SVC(kernel='linear', C=1000.0) \n",
    "\n",
    "\n",
    "# 將分類器擬合到訓練集\n",
    "linear_svc1000.fit(X_train, y_train)\n",
    "\n",
    "\n",
    "# 對測試集進行預測\n",
    "y_pred=linear_svc1000.predict(X_test)\n",
    "\n",
    "\n",
    "# 計算和打印準確度分數\n",
    "print('Model accuracy score with linear kernel and C=1000.0 : {0:0.4f}'. format(accuracy_score(y_test, y_pred)))"
   ]
  },
  {
   "cell_type": "code",
   "execution_count": 29,
   "id": "82026e5b",
   "metadata": {},
   "outputs": [
    {
     "data": {
      "text/plain": [
       "array([ 1,  1, -1,  1,  1, -1,  1,  1,  1,  1,  1, -1, -1, -1,  1,  1, -1,\n",
       "        1,  1, -1, -1,  1,  1, -1,  1,  1,  1,  1, -1, -1, -1, -1, -1,  1,\n",
       "        1,  1, -1, -1,  1,  1,  1, -1,  1,  1,  1,  1,  1,  1,  1,  1,  1,\n",
       "        1,  1, -1, -1,  1, -1, -1, -1, -1,  1, -1, -1, -1, -1, -1,  1,  1,\n",
       "        1,  1,  1,  1, -1,  1, -1,  1,  1,  1,  1,  1, -1,  1,  1,  1,  1,\n",
       "        1, -1, -1, -1, -1, -1,  1, -1, -1, -1, -1, -1, -1, -1,  1,  1, -1,\n",
       "       -1, -1, -1, -1,  1, -1, -1,  1,  1,  1, -1,  1, -1, -1, -1,  1,  1,\n",
       "        1,  1,  1,  1, -1, -1,  1,  1,  1,  1,  1,  1,  1,  1,  1,  1, -1,\n",
       "        1,  1, -1,  1, -1,  1, -1,  1,  1,  1,  1, -1, -1,  1, -1, -1,  1,\n",
       "        1,  1,  1,  1,  1,  1,  1,  1, -1,  1,  1,  1, -1, -1,  1,  1, -1,\n",
       "        1,  1,  1, -1, -1,  1,  1, -1,  1, -1,  1,  1, -1,  1, -1, -1,  1,\n",
       "        1, -1, -1, -1,  1, -1,  1,  1,  1,  1, -1, -1,  1,  1, -1,  1, -1,\n",
       "        1,  1, -1,  1, -1,  1,  1,  1, -1, -1,  1, -1,  1, -1, -1,  1, -1,\n",
       "        1, -1, -1,  1, -1,  1, -1,  1,  1,  1,  1, -1,  1,  1,  1, -1, -1,\n",
       "       -1,  1,  1,  1, -1, -1, -1,  1, -1,  1, -1, -1, -1,  1, -1, -1, -1,\n",
       "       -1,  1,  1,  1,  1,  1, -1, -1, -1, -1,  1,  1,  1,  1, -1,  1, -1,\n",
       "        1, -1,  1, -1,  1, -1,  1, -1,  1, -1, -1,  1,  1,  1,  1,  1, -1,\n",
       "       -1,  1,  1,  1, -1,  1,  1, -1,  1, -1,  1, -1, -1,  1, -1,  1, -1,\n",
       "       -1,  1,  1,  1, -1, -1,  1, -1,  1,  1,  1,  1,  1,  1,  1, -1, -1,\n",
       "       -1,  1,  1, -1, -1, -1, -1, -1, -1, -1, -1,  1,  1,  1, -1,  1,  1,\n",
       "       -1, -1,  1,  1, -1, -1,  1, -1, -1,  1,  1, -1,  1, -1,  1, -1,  1,\n",
       "        1, -1,  1,  1,  1,  1,  1,  1,  1,  1,  1,  1, -1, -1,  1,  1,  1,\n",
       "        1,  1,  1,  1, -1, -1,  1,  1,  1,  1,  1, -1, -1, -1, -1,  1, -1,\n",
       "        1,  1,  1,  1,  1, -1, -1,  1, -1,  1,  1,  1, -1, -1, -1, -1, -1,\n",
       "        1,  1, -1, -1,  1,  1,  1,  1, -1, -1, -1,  1, -1,  1, -1, -1,  1,\n",
       "       -1,  1, -1,  1, -1,  1, -1, -1,  1,  1,  1, -1, -1,  1,  1,  1,  1,\n",
       "        1,  1, -1,  1,  1,  1,  1, -1, -1,  1, -1, -1,  1, -1,  1,  1, -1,\n",
       "       -1, -1,  1, -1,  1,  1, -1,  1, -1,  1,  1,  1, -1, -1, -1,  1,  1,\n",
       "        1,  1,  1,  1,  1, -1,  1,  1,  1, -1,  1, -1, -1, -1, -1,  1,  1,\n",
       "       -1,  1,  1, -1, -1,  1,  1, -1, -1, -1,  1,  1,  1,  1, -1,  1, -1,\n",
       "        1, -1, -1, -1, -1,  1,  1,  1,  1,  1,  1, -1,  1, -1, -1, -1, -1,\n",
       "        1,  1, -1, -1, -1,  1,  1,  1,  1, -1, -1,  1, -1, -1, -1, -1,  1,\n",
       "       -1,  1, -1,  1,  1, -1,  1,  1,  1,  1,  1, -1,  1, -1, -1, -1,  1,\n",
       "       -1,  1,  1,  1,  1,  1,  1, -1,  1, -1, -1,  1, -1,  1, -1,  1, -1,\n",
       "        1,  1, -1], dtype=int64)"
      ]
     },
     "execution_count": 29,
     "metadata": {},
     "output_type": "execute_result"
    }
   ],
   "source": [
    "y_pred_train = linear_svc.predict(X_train)\n",
    "\n",
    "y_pred_train"
   ]
  },
  {
   "cell_type": "code",
   "execution_count": 30,
   "id": "56ce3c7b",
   "metadata": {},
   "outputs": [
    {
     "name": "stdout",
     "output_type": "stream",
     "text": [
      "Training-set accuracy score: 0.8227\n"
     ]
    }
   ],
   "source": [
    "print('Training-set accuracy score: {0:0.4f}'. format(accuracy_score(y_train, y_pred_train)))S"
   ]
  },
  {
   "cell_type": "code",
   "execution_count": 31,
   "id": "e4e85141",
   "metadata": {},
   "outputs": [
    {
     "name": "stdout",
     "output_type": "stream",
     "text": [
      "Training set score: 0.8227\n",
      "Test set score: 0.8474\n"
     ]
    }
   ],
   "source": [
    "# 打印訓練和測試集的分數\n",
    "\n",
    "print('Training set score: {:.4f}'.format(linear_svc.score(X_train, y_train)))\n",
    "\n",
    "print('Test set score: {:.4f}'.format(linear_svc.score(X_test, y_test)))"
   ]
  },
  {
   "cell_type": "code",
   "execution_count": 32,
   "id": "63486871",
   "metadata": {},
   "outputs": [
    {
     "data": {
      "text/plain": [
       " 1    132\n",
       "-1    117\n",
       "Name: 正負樣本, dtype: int64"
      ]
     },
     "execution_count": 32,
     "metadata": {},
     "output_type": "execute_result"
    }
   ],
   "source": [
    "# 檢查測試集中的類分佈\n",
    "y_test.value_counts()"
   ]
  },
  {
   "cell_type": "code",
   "execution_count": 33,
   "id": "9ccd2807",
   "metadata": {},
   "outputs": [
    {
     "name": "stdout",
     "output_type": "stream",
     "text": [
      "Null accuracy score: 0.5301\n"
     ]
    }
   ],
   "source": [
    "# 檢查空準確度分數\n",
    "\n",
    "null_accuracy = (132/(132+117))\n",
    "\n",
    "print('Null accuracy score: {0:0.4f}'. format(null_accuracy))"
   ]
  },
  {
   "cell_type": "code",
   "execution_count": 34,
   "id": "1f559157",
   "metadata": {},
   "outputs": [
    {
     "name": "stdout",
     "output_type": "stream",
     "text": [
      "Model accuracy score with polynomial kernel and C=1.0 : 0.7590\n"
     ]
    }
   ],
   "source": [
    "# 使用多項式內核和 C=1.0 實例化分類器\n",
    "poly_svc=SVC(kernel='poly', C=1.0) \n",
    "\n",
    "\n",
    "# 將分類器擬合到訓練集\n",
    "poly_svc.fit(X_train,y_train)\n",
    "\n",
    "\n",
    "# 對測試集進行預測\n",
    "y_pred=poly_svc.predict(X_test)\n",
    "\n",
    "\n",
    "# 計算和打印準確度分數\n",
    "print('Model accuracy score with polynomial kernel and C=1.0 : {0:0.4f}'. format(accuracy_score(y_test, y_pred)))"
   ]
  },
  {
   "cell_type": "code",
   "execution_count": 35,
   "id": "8120063e",
   "metadata": {},
   "outputs": [
    {
     "name": "stdout",
     "output_type": "stream",
     "text": [
      "Model accuracy score with polynomial kernel and C=1.0 : 0.8514\n"
     ]
    }
   ],
   "source": [
    "# 使用多項式內核和 C=100.0 實例化分類器\n",
    "poly_svc100=SVC(kernel='poly', C=100.0) \n",
    "\n",
    "\n",
    "# 將分類器擬合到訓練集\n",
    "poly_svc100.fit(X_train, y_train)\n",
    "\n",
    "\n",
    "# 對測試集進行預測\n",
    "y_pred=poly_svc100.predict(X_test)\n",
    "\n",
    "\n",
    "# 計算和打印準確度分數\n",
    "print('Model accuracy score with polynomial kernel and C=1.0 : {0:0.4f}'. format(accuracy_score(y_test, y_pred)))"
   ]
  },
  {
   "cell_type": "code",
   "execution_count": 36,
   "id": "ba70676f",
   "metadata": {},
   "outputs": [
    {
     "name": "stdout",
     "output_type": "stream",
     "text": [
      "Model accuracy score with sigmoid kernel and C=1.0 : 0.7229\n"
     ]
    }
   ],
   "source": [
    "# 使用 sigmoid 內核和 C=1.0 實例化分類器\n",
    "sigmoid_svc=SVC(kernel='sigmoid', C=1.0) \n",
    "\n",
    "\n",
    "# 將分類器擬合到訓練集\n",
    "sigmoid_svc.fit(X_train,y_train)\n",
    "\n",
    "\n",
    "# 對測試集進行預測\n",
    "y_pred=sigmoid_svc.predict(X_test)\n",
    "\n",
    "\n",
    "# 計算和打印準確度分數\n",
    "print('Model accuracy score with sigmoid kernel and C=1.0 : {0:0.4f}'. format(accuracy_score(y_test, y_pred)))"
   ]
  },
  {
   "cell_type": "code",
   "execution_count": 37,
   "id": "e4956c31",
   "metadata": {},
   "outputs": [
    {
     "name": "stdout",
     "output_type": "stream",
     "text": [
      "Model accuracy score with sigmoid kernel and C=100.0 : 0.7349\n"
     ]
    }
   ],
   "source": [
    "# 使用 sigmoid 內核和 C=100.0 實例化分類器\n",
    "sigmoid_svc100=SVC(kernel='sigmoid', C=100.0) \n",
    "\n",
    "\n",
    "# 將分類器擬合到訓練集\n",
    "sigmoid_svc100.fit(X_train,y_train)\n",
    "\n",
    "\n",
    "# 對測試集進行預測\n",
    "y_pred=sigmoid_svc100.predict(X_test)\n",
    "\n",
    "\n",
    "# 計算和打印準確度分數\n",
    "print('Model accuracy score with sigmoid kernel and C=100.0 : {0:0.4f}'. format(accuracy_score(y_test, y_pred)))"
   ]
  },
  {
   "cell_type": "code",
   "execution_count": 38,
   "id": "d1dc25db",
   "metadata": {},
   "outputs": [
    {
     "name": "stdout",
     "output_type": "stream",
     "text": [
      "Confusion matrix\n",
      "\n",
      " [[ 93  24]\n",
      " [ 14 118]]\n",
      "\n",
      "True Positives(TP) =  93\n",
      "\n",
      "True Negatives(TN) =  118\n",
      "\n",
      "False Positives(FP) =  24\n",
      "\n",
      "False Negatives(FN) =  14\n"
     ]
    }
   ],
   "source": [
    "# 打印混淆矩陣並將其切成四塊\n",
    "\n",
    "from sklearn.metrics import confusion_matrix\n",
    "\n",
    "cm = confusion_matrix(y_test, y_pred_test)\n",
    "\n",
    "print('Confusion matrix\\n\\n', cm)\n",
    "\n",
    "print('\\nTrue Positives(TP) = ', cm[0,0])\n",
    "\n",
    "print('\\nTrue Negatives(TN) = ', cm[1,1])\n",
    "\n",
    "print('\\nFalse Positives(FP) = ', cm[0,1])\n",
    "\n",
    "print('\\nFalse Negatives(FN) = ', cm[1,0])"
   ]
  },
  {
   "cell_type": "code",
   "execution_count": 39,
   "id": "7877f915",
   "metadata": {},
   "outputs": [
    {
     "data": {
      "text/plain": [
       "<AxesSubplot:>"
      ]
     },
     "execution_count": 39,
     "metadata": {},
     "output_type": "execute_result"
    },
    {
     "data": {
      "image/png": "[encoded data removed]",
      "text/plain": [
       "<Figure size 432x288 with 2 Axes>"
      ]
     },
     "metadata": {
      "needs_background": "light"
     },
     "output_type": "display_data"
    }
   ],
   "source": [
    "# 使用 seaborn 熱圖可視化混淆矩陣\n",
    "\n",
    "cm_matrix = pd.DataFrame(data=cm, columns=['Actual Positive:1', 'Actual Negative:0'], \n",
    "                                 index=['Predict Positive:1', 'Predict Negative:0'])\n",
    "\n",
    "sns.heatmap(cm_matrix, annot=True, fmt='d', cmap='YlGnBu')"
   ]
  },
  {
   "cell_type": "code",
   "execution_count": 40,
   "id": "b20506e7",
   "metadata": {},
   "outputs": [
    {
     "name": "stdout",
     "output_type": "stream",
     "text": [
      "              precision    recall  f1-score   support\n",
      "\n",
      "          -1       0.87      0.79      0.83       117\n",
      "           1       0.83      0.89      0.86       132\n",
      "\n",
      "    accuracy                           0.85       249\n",
      "   macro avg       0.85      0.84      0.85       249\n",
      "weighted avg       0.85      0.85      0.85       249\n",
      "\n"
     ]
    }
   ],
   "source": [
    "from sklearn.metrics import classification_report\n",
    "\n",
    "print(classification_report(y_test, y_pred_test))"
   ]
  },
  {
   "cell_type": "code",
   "execution_count": 41,
   "id": "62cd89c8",
   "metadata": {},
   "outputs": [],
   "source": [
    "TP = cm[0,0]\n",
    "TN = cm[1,1]\n",
    "FP = cm[0,1]\n",
    "FN = cm[1,0]"
   ]
  },
  {
   "cell_type": "code",
   "execution_count": 42,
   "id": "6b4319d3",
   "metadata": {},
   "outputs": [
    {
     "name": "stdout",
     "output_type": "stream",
     "text": [
      "Classification accuracy : 0.8474\n"
     ]
    }
   ],
   "source": [
    "# 打印分類精度\n",
    "\n",
    "classification_accuracy = (TP + TN) / float(TP + TN + FP + FN)\n",
    "\n",
    "print('Classification accuracy : {0:0.4f}'.format(classification_accuracy))"
   ]
  },
  {
   "cell_type": "code",
   "execution_count": 43,
   "id": "aa1f5d42",
   "metadata": {},
   "outputs": [
    {
     "name": "stdout",
     "output_type": "stream",
     "text": [
      "Classification error : 0.1526\n"
     ]
    }
   ],
   "source": [
    "# 打印分類錯誤\n",
    "\n",
    "classification_error = (FP + FN) / float(TP + TN + FP + FN)\n",
    "\n",
    "print('Classification error : {0:0.4f}'.format(classification_error))"
   ]
  },
  {
   "cell_type": "code",
   "execution_count": 44,
   "id": "37bee42c",
   "metadata": {},
   "outputs": [
    {
     "name": "stdout",
     "output_type": "stream",
     "text": [
      "Precision : 0.7949\n"
     ]
    }
   ],
   "source": [
    "# 打印精度分數\n",
    "\n",
    "precision = TP / float(TP + FP)\n",
    "\n",
    "\n",
    "print('Precision : {0:0.4f}'.format(precision))"
   ]
  },
  {
   "cell_type": "code",
   "execution_count": 45,
   "id": "bcc19f42",
   "metadata": {},
   "outputs": [
    {
     "name": "stdout",
     "output_type": "stream",
     "text": [
      "Recall or Sensitivity : 0.8692\n"
     ]
    }
   ],
   "source": [
    "recall = TP / float(TP + FN)\n",
    "\n",
    "print('Recall or Sensitivity : {0:0.4f}'.format(recall))"
   ]
  },
  {
   "cell_type": "code",
   "execution_count": 46,
   "id": "41f0f675",
   "metadata": {},
   "outputs": [
    {
     "name": "stdout",
     "output_type": "stream",
     "text": [
      "True Positive Rate : 0.8692\n"
     ]
    }
   ],
   "source": [
    "true_positive_rate = TP / float(TP + FN)\n",
    "\n",
    "print('True Positive Rate : {0:0.4f}'.format(true_positive_rate))"
   ]
  },
  {
   "cell_type": "code",
   "execution_count": 47,
   "id": "7677ca0b",
   "metadata": {},
   "outputs": [
    {
     "name": "stdout",
     "output_type": "stream",
     "text": [
      "False Positive Rate : 0.1690\n"
     ]
    }
   ],
   "source": [
    "false_positive_rate = FP / float(FP + TN)\n",
    "\n",
    "print('False Positive Rate : {0:0.4f}'.format(false_positive_rate))"
   ]
  },
  {
   "cell_type": "code",
   "execution_count": 48,
   "id": "457ab32a",
   "metadata": {},
   "outputs": [
    {
     "name": "stdout",
     "output_type": "stream",
     "text": [
      "Specificity : 0.8310\n"
     ]
    }
   ],
   "source": [
    "specificity = TN / (TN + FP)\n",
    "\n",
    "print('Specificity : {0:0.4f}'.format(specificity))"
   ]
  },
  {
   "cell_type": "code",
   "execution_count": 49,
   "id": "ae7dfffd",
   "metadata": {},
   "outputs": [
    {
     "data": {
      "image/png": "[encoded data removed]",
      "text/plain": [
       "<Figure size 432x288 with 1 Axes>"
      ]
     },
     "metadata": {
      "needs_background": "light"
     },
     "output_type": "display_data"
    }
   ],
   "source": [
    "# 繪製 ROC 曲線\n",
    "\n",
    "from sklearn.metrics import roc_curve\n",
    "\n",
    "fpr, tpr, thresholds = roc_curve(y_test, y_pred_test)\n",
    "\n",
    "plt.figure(figsize=(6,4))\n",
    "\n",
    "plt.plot(fpr, tpr, linewidth=2)\n",
    "\n",
    "plt.plot([0,1], [0,1], 'k--' )\n",
    "\n",
    "plt.rcParams['font.size'] = 12\n",
    "\n",
    "plt.title('ROC curve for Predicting a Pulsar Star classifier')\n",
    "\n",
    "plt.xlabel('False Positive Rate (1 - Specificity)')\n",
    "\n",
    "plt.ylabel('True Positive Rate (Sensitivity)')\n",
    "\n",
    "plt.show()"
   ]
  },
  {
   "cell_type": "code",
   "execution_count": null,
   "id": "60594c07",
   "metadata": {},
   "outputs": [],
   "source": []
  }
 ],
 "metadata": {
  "kernelspec": {
   "display_name": "Python 3",
   "language": "python",
   "name": "python3"
  },
  "language_info": {
   "codemirror_mode": {
    "name": "ipython",
    "version": 3
   },
   "file_extension": ".py",
   "mimetype": "text/x-python",
   "name": "python",
   "nbconvert_exporter": "python",
   "pygments_lexer": "ipython3",
   "version": "3.9.0"
  }
 },
 "nbformat": 4,
 "nbformat_minor": 5
}
