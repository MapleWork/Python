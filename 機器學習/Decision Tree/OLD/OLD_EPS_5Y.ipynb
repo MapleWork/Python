{
 "cells": [
  {
   "cell_type": "code",
   "execution_count": 1,
   "id": "4975563f",
   "metadata": {},
   "outputs": [],
   "source": [
    "import numpy as np\n",
    "import pandas as pd\n",
    "import matplotlib.pyplot as plt\n",
    "import seaborn as sns\n",
    "%matplotlib inline"
   ]
  },
  {
   "cell_type": "code",
   "execution_count": 2,
   "id": "db1a0edc",
   "metadata": {},
   "outputs": [],
   "source": [
    "import warnings\n",
    "\n",
    "warnings.filterwarnings(\"ignore\")"
   ]
  },
  {
   "cell_type": "code",
   "execution_count": 3,
   "id": "75d1724e",
   "metadata": {},
   "outputs": [],
   "source": [
    "data = 'Test.csv'\n",
    "\n",
    "df = pd.read_csv(data)"
   ]
  },
  {
   "cell_type": "code",
   "execution_count": 4,
   "id": "ae6ce281",
   "metadata": {},
   "outputs": [
    {
     "data": {
      "text/plain": [
       "(939, 12)"
      ]
     },
     "execution_count": 4,
     "metadata": {},
     "output_type": "execute_result"
    }
   ],
   "source": [
    "# 查看數據集的維度\n",
    "df.shape"
   ]
  },
  {
   "cell_type": "code",
   "execution_count": 5,
   "id": "71db6723",
   "metadata": {},
   "outputs": [
    {
     "data": {
      "text/html": [
       "<div>\n",
       "<style scoped>\n",
       "    .dataframe tbody tr th:only-of-type {\n",
       "        vertical-align: middle;\n",
       "    }\n",
       "\n",
       "    .dataframe tbody tr th {\n",
       "        vertical-align: top;\n",
       "    }\n",
       "\n",
       "    .dataframe thead th {\n",
       "        text-align: right;\n",
       "    }\n",
       "</style>\n",
       "<table border=\"1\" class=\"dataframe\">\n",
       "  <thead>\n",
       "    <tr style=\"text-align: right;\">\n",
       "      <th></th>\n",
       "      <th>代碼</th>\n",
       "      <th>股票</th>\n",
       "      <th>ROE_5Y</th>\n",
       "      <th>EPS_5Y</th>\n",
       "      <th>毛利率_5Y</th>\n",
       "      <th>現金殖利率</th>\n",
       "      <th>現金股利</th>\n",
       "      <th>股價</th>\n",
       "      <th>董監持股(%)</th>\n",
       "      <th>ROE_Test</th>\n",
       "      <th>EPS_Test</th>\n",
       "      <th>毛利率_Test</th>\n",
       "    </tr>\n",
       "  </thead>\n",
       "  <tbody>\n",
       "    <tr>\n",
       "      <th>0</th>\n",
       "      <td>1101</td>\n",
       "      <td>台泥</td>\n",
       "      <td>11.00</td>\n",
       "      <td>3.69</td>\n",
       "      <td>26.64</td>\n",
       "      <td>5.87</td>\n",
       "      <td>2.34</td>\n",
       "      <td>39.85</td>\n",
       "      <td>8.38</td>\n",
       "      <td>1</td>\n",
       "      <td>1</td>\n",
       "      <td>1</td>\n",
       "    </tr>\n",
       "    <tr>\n",
       "      <th>1</th>\n",
       "      <td>1102</td>\n",
       "      <td>亞泥</td>\n",
       "      <td>9.81</td>\n",
       "      <td>4.05</td>\n",
       "      <td>24.67</td>\n",
       "      <td>6.29</td>\n",
       "      <td>2.77</td>\n",
       "      <td>44.05</td>\n",
       "      <td>27.37</td>\n",
       "      <td>0</td>\n",
       "      <td>1</td>\n",
       "      <td>1</td>\n",
       "    </tr>\n",
       "    <tr>\n",
       "      <th>2</th>\n",
       "      <td>1103</td>\n",
       "      <td>嘉泥</td>\n",
       "      <td>5.24</td>\n",
       "      <td>1.65</td>\n",
       "      <td>6.44</td>\n",
       "      <td>5.10</td>\n",
       "      <td>0.91</td>\n",
       "      <td>17.85</td>\n",
       "      <td>17.15</td>\n",
       "      <td>0</td>\n",
       "      <td>1</td>\n",
       "      <td>0</td>\n",
       "    </tr>\n",
       "    <tr>\n",
       "      <th>3</th>\n",
       "      <td>1104</td>\n",
       "      <td>環泥</td>\n",
       "      <td>6.66</td>\n",
       "      <td>1.82</td>\n",
       "      <td>14.24</td>\n",
       "      <td>4.79</td>\n",
       "      <td>1.04</td>\n",
       "      <td>21.70</td>\n",
       "      <td>24.16</td>\n",
       "      <td>0</td>\n",
       "      <td>1</td>\n",
       "      <td>0</td>\n",
       "    </tr>\n",
       "    <tr>\n",
       "      <th>4</th>\n",
       "      <td>1108</td>\n",
       "      <td>幸福</td>\n",
       "      <td>1.71</td>\n",
       "      <td>0.21</td>\n",
       "      <td>8.77</td>\n",
       "      <td>5.47</td>\n",
       "      <td>0.58</td>\n",
       "      <td>10.60</td>\n",
       "      <td>3.95</td>\n",
       "      <td>0</td>\n",
       "      <td>1</td>\n",
       "      <td>0</td>\n",
       "    </tr>\n",
       "  </tbody>\n",
       "</table>\n",
       "</div>"
      ],
      "text/plain": [
       "     代碼  股票  ROE_5Y  EPS_5Y  毛利率_5Y  現金殖利率  現金股利     股價  董監持股(%)  ROE_Test  \\\n",
       "0  1101  台泥   11.00    3.69   26.64   5.87  2.34  39.85     8.38         1   \n",
       "1  1102  亞泥    9.81    4.05   24.67   6.29  2.77  44.05    27.37         0   \n",
       "2  1103  嘉泥    5.24    1.65    6.44   5.10  0.91  17.85    17.15         0   \n",
       "3  1104  環泥    6.66    1.82   14.24   4.79  1.04  21.70    24.16         0   \n",
       "4  1108  幸福    1.71    0.21    8.77   5.47  0.58  10.60     3.95         0   \n",
       "\n",
       "   EPS_Test  毛利率_Test  \n",
       "0         1         1  \n",
       "1         1         1  \n",
       "2         1         0  \n",
       "3         1         0  \n",
       "4         1         0  "
      ]
     },
     "execution_count": 5,
     "metadata": {},
     "output_type": "execute_result"
    }
   ],
   "source": [
    "# 預覽數據集\n",
    "df.head()"
   ]
  },
  {
   "cell_type": "code",
   "execution_count": 6,
   "id": "da70c7df",
   "metadata": {
    "scrolled": true
   },
   "outputs": [
    {
     "name": "stdout",
     "output_type": "stream",
     "text": [
      "<class 'pandas.core.frame.DataFrame'>\n",
      "RangeIndex: 939 entries, 0 to 938\n",
      "Data columns (total 12 columns):\n",
      " #   Column    Non-Null Count  Dtype  \n",
      "---  ------    --------------  -----  \n",
      " 0   代碼        939 non-null    int64  \n",
      " 1   股票        939 non-null    object \n",
      " 2   ROE_5Y    939 non-null    float64\n",
      " 3   EPS_5Y    939 non-null    float64\n",
      " 4   毛利率_5Y    939 non-null    float64\n",
      " 5   現金殖利率     939 non-null    float64\n",
      " 6   現金股利      939 non-null    float64\n",
      " 7   股價        939 non-null    float64\n",
      " 8   董監持股(%)   939 non-null    float64\n",
      " 9   ROE_Test  939 non-null    int64  \n",
      " 10  EPS_Test  939 non-null    int64  \n",
      " 11  毛利率_Test  939 non-null    int64  \n",
      "dtypes: float64(7), int64(4), object(1)\n",
      "memory usage: 88.2+ KB\n"
     ]
    }
   ],
   "source": [
    "# 查看數據集摘要\n",
    "df.info()"
   ]
  },
  {
   "cell_type": "code",
   "execution_count": 7,
   "id": "db2e1153",
   "metadata": {},
   "outputs": [],
   "source": [
    "# 變量中值的頻率分佈\n",
    "# 現在，我將檢查分類變量的頻率計數。"
   ]
  },
  {
   "cell_type": "code",
   "execution_count": 10,
   "id": "ed731ce0",
   "metadata": {},
   "outputs": [
    {
     "name": "stdout",
     "output_type": "stream",
     "text": [
      " 0.00     11\n",
      " 19.07     4\n",
      " 9.51      3\n",
      " 14.37     3\n",
      " 5.93      3\n",
      "          ..\n",
      " 31.97     1\n",
      "-16.37     1\n",
      " 17.74     1\n",
      " 7.62      1\n",
      " 8.58      1\n",
      "Name: ROE_5Y, Length: 819, dtype: int64\n",
      "1.75    8\n",
      "0.66    8\n",
      "0.62    5\n",
      "0.55    5\n",
      "0.33    5\n",
      "       ..\n",
      "4.52    1\n",
      "3.17    1\n",
      "0.82    1\n",
      "4.32    1\n",
      "7.47    1\n",
      "Name: EPS_5Y, Length: 607, dtype: int64\n",
      "0.00     34\n",
      "18.67     3\n",
      "20.74     3\n",
      "22.37     3\n",
      "30.69     3\n",
      "         ..\n",
      "12.95     1\n",
      "44.10     1\n",
      "9.32      1\n",
      "17.08     1\n",
      "16.63     1\n",
      "Name: 毛利率_5Y, Length: 810, dtype: int64\n",
      "0.00    49\n",
      "4.89     5\n",
      "3.76     5\n",
      "4.41     5\n",
      "2.61     5\n",
      "        ..\n",
      "9.20     1\n",
      "3.24     1\n",
      "7.38     1\n",
      "3.40     1\n",
      "3.83     1\n",
      "Name: 現金殖利率, Length: 527, dtype: int64\n",
      "0.00     8\n",
      "14.20    5\n",
      "15.00    4\n",
      "16.55    4\n",
      "83.20    4\n",
      "        ..\n",
      "11.60    1\n",
      "29.70    1\n",
      "47.60    1\n",
      "57.60    1\n",
      "20.50    1\n",
      "Name: 股價, Length: 720, dtype: int64\n",
      "0.00     78\n",
      "17.13     4\n",
      "10.44     3\n",
      "21.78     3\n",
      "20.88     3\n",
      "         ..\n",
      "33.29     1\n",
      "10.91     1\n",
      "90.70     1\n",
      "22.71     1\n",
      "39.16     1\n",
      "Name: 董監持股(%), Length: 781, dtype: int64\n",
      "1    476\n",
      "0    463\n",
      "Name: 毛利率_Test, dtype: int64\n"
     ]
    }
   ],
   "source": [
    "col_names = ['ROE_5Y', 'EPS_5Y', '毛利率_5Y', '現金殖利率', '股價', '董監持股(%)','毛利率_Test']\n",
    "\n",
    "for col in col_names:\n",
    "    \n",
    "    print(df[col].value_counts())"
   ]
  },
  {
   "cell_type": "code",
   "execution_count": 11,
   "id": "fbda6738",
   "metadata": {},
   "outputs": [
    {
     "data": {
      "text/plain": [
       "1    476\n",
       "0    463\n",
       "Name: 毛利率_Test, dtype: int64"
      ]
     },
     "execution_count": 11,
     "metadata": {},
     "output_type": "execute_result"
    }
   ],
   "source": [
    "df['毛利率_Test'].value_counts()"
   ]
  },
  {
   "cell_type": "code",
   "execution_count": 12,
   "id": "9c1b953e",
   "metadata": {},
   "outputs": [
    {
     "data": {
      "text/plain": [
       "代碼          0\n",
       "股票          0\n",
       "ROE_5Y      0\n",
       "EPS_5Y      0\n",
       "毛利率_5Y      0\n",
       "現金殖利率       0\n",
       "現金股利        0\n",
       "股價          0\n",
       "董監持股(%)     0\n",
       "ROE_Test    0\n",
       "EPS_Test    0\n",
       "毛利率_Test    0\n",
       "dtype: int64"
      ]
     },
     "execution_count": 12,
     "metadata": {},
     "output_type": "execute_result"
    }
   ],
   "source": [
    "df.isnull().sum()"
   ]
  },
  {
   "cell_type": "code",
   "execution_count": 13,
   "id": "0f045a1e",
   "metadata": {},
   "outputs": [],
   "source": [
    "X = df.drop(['代碼', '股票', 'ROE_Test', 'EPS_Test', '毛利率_Test'], axis=1)\n",
    "\n",
    "y = df['毛利率_Test']"
   ]
  },
  {
   "cell_type": "code",
   "execution_count": 14,
   "id": "0d29298e",
   "metadata": {},
   "outputs": [],
   "source": [
    "from sklearn.model_selection import train_test_split\n",
    "\n",
    "X_train, X_test, y_train, y_test = train_test_split(X, y, test_size = 0.33, random_state = 42)"
   ]
  },
  {
   "cell_type": "code",
   "execution_count": 15,
   "id": "5794cb80",
   "metadata": {},
   "outputs": [
    {
     "data": {
      "text/plain": [
       "((629, 7), (310, 7))"
      ]
     },
     "execution_count": 15,
     "metadata": {},
     "output_type": "execute_result"
    }
   ],
   "source": [
    "X_train.shape, X_test.shape"
   ]
  },
  {
   "cell_type": "code",
   "execution_count": 16,
   "id": "ad2ffc25",
   "metadata": {},
   "outputs": [
    {
     "data": {
      "text/plain": [
       "ROE_5Y     float64\n",
       "EPS_5Y     float64\n",
       "毛利率_5Y     float64\n",
       "現金殖利率      float64\n",
       "現金股利       float64\n",
       "股價         float64\n",
       "董監持股(%)    float64\n",
       "dtype: object"
      ]
     },
     "execution_count": 16,
     "metadata": {},
     "output_type": "execute_result"
    }
   ],
   "source": [
    "X_train.dtypes"
   ]
  },
  {
   "cell_type": "code",
   "execution_count": 17,
   "id": "247ec9ae",
   "metadata": {},
   "outputs": [
    {
     "data": {
      "text/html": [
       "<div>\n",
       "<style scoped>\n",
       "    .dataframe tbody tr th:only-of-type {\n",
       "        vertical-align: middle;\n",
       "    }\n",
       "\n",
       "    .dataframe tbody tr th {\n",
       "        vertical-align: top;\n",
       "    }\n",
       "\n",
       "    .dataframe thead th {\n",
       "        text-align: right;\n",
       "    }\n",
       "</style>\n",
       "<table border=\"1\" class=\"dataframe\">\n",
       "  <thead>\n",
       "    <tr style=\"text-align: right;\">\n",
       "      <th></th>\n",
       "      <th>ROE_5Y</th>\n",
       "      <th>EPS_5Y</th>\n",
       "      <th>毛利率_5Y</th>\n",
       "      <th>現金殖利率</th>\n",
       "      <th>現金股利</th>\n",
       "      <th>股價</th>\n",
       "      <th>董監持股(%)</th>\n",
       "    </tr>\n",
       "  </thead>\n",
       "  <tbody>\n",
       "    <tr>\n",
       "      <th>144</th>\n",
       "      <td>12.62</td>\n",
       "      <td>2.37</td>\n",
       "      <td>9.30</td>\n",
       "      <td>6.73</td>\n",
       "      <td>1.06</td>\n",
       "      <td>15.75</td>\n",
       "      <td>12.41</td>\n",
       "    </tr>\n",
       "    <tr>\n",
       "      <th>135</th>\n",
       "      <td>20.70</td>\n",
       "      <td>21.36</td>\n",
       "      <td>49.00</td>\n",
       "      <td>1.02</td>\n",
       "      <td>7.88</td>\n",
       "      <td>772.00</td>\n",
       "      <td>4.05</td>\n",
       "    </tr>\n",
       "    <tr>\n",
       "      <th>164</th>\n",
       "      <td>4.47</td>\n",
       "      <td>0.48</td>\n",
       "      <td>7.34</td>\n",
       "      <td>1.66</td>\n",
       "      <td>0.28</td>\n",
       "      <td>16.85</td>\n",
       "      <td>9.36</td>\n",
       "    </tr>\n",
       "    <tr>\n",
       "      <th>28</th>\n",
       "      <td>10.47</td>\n",
       "      <td>1.97</td>\n",
       "      <td>15.90</td>\n",
       "      <td>3.76</td>\n",
       "      <td>0.86</td>\n",
       "      <td>22.85</td>\n",
       "      <td>24.42</td>\n",
       "    </tr>\n",
       "    <tr>\n",
       "      <th>525</th>\n",
       "      <td>12.77</td>\n",
       "      <td>2.19</td>\n",
       "      <td>5.99</td>\n",
       "      <td>5.53</td>\n",
       "      <td>1.45</td>\n",
       "      <td>26.20</td>\n",
       "      <td>10.83</td>\n",
       "    </tr>\n",
       "  </tbody>\n",
       "</table>\n",
       "</div>"
      ],
      "text/plain": [
       "     ROE_5Y  EPS_5Y  毛利率_5Y  現金殖利率  現金股利      股價  董監持股(%)\n",
       "144   12.62    2.37    9.30   6.73  1.06   15.75    12.41\n",
       "135   20.70   21.36   49.00   1.02  7.88  772.00     4.05\n",
       "164    4.47    0.48    7.34   1.66  0.28   16.85     9.36\n",
       "28    10.47    1.97   15.90   3.76  0.86   22.85    24.42\n",
       "525   12.77    2.19    5.99   5.53  1.45   26.20    10.83"
      ]
     },
     "execution_count": 17,
     "metadata": {},
     "output_type": "execute_result"
    }
   ],
   "source": [
    "X_train.head()"
   ]
  },
  {
   "cell_type": "code",
   "execution_count": 18,
   "id": "1968e851",
   "metadata": {},
   "outputs": [],
   "source": [
    "import category_encoders as ce"
   ]
  },
  {
   "cell_type": "code",
   "execution_count": 19,
   "id": "d643ad93",
   "metadata": {},
   "outputs": [],
   "source": [
    "encoder = ce.OrdinalEncoder(cols=['ROE_5Y', 'EPS_5Y', '毛利率_5Y', '現金殖利率', '股價', '董監持股(%)'])\n",
    "\n",
    "\n",
    "X_train = encoder.fit_transform(X_train)\n",
    "\n",
    "X_test = encoder.transform(X_test)"
   ]
  },
  {
   "cell_type": "code",
   "execution_count": 20,
   "id": "fbc49e95",
   "metadata": {},
   "outputs": [
    {
     "data": {
      "text/html": [
       "<div>\n",
       "<style scoped>\n",
       "    .dataframe tbody tr th:only-of-type {\n",
       "        vertical-align: middle;\n",
       "    }\n",
       "\n",
       "    .dataframe tbody tr th {\n",
       "        vertical-align: top;\n",
       "    }\n",
       "\n",
       "    .dataframe thead th {\n",
       "        text-align: right;\n",
       "    }\n",
       "</style>\n",
       "<table border=\"1\" class=\"dataframe\">\n",
       "  <thead>\n",
       "    <tr style=\"text-align: right;\">\n",
       "      <th></th>\n",
       "      <th>ROE_5Y</th>\n",
       "      <th>EPS_5Y</th>\n",
       "      <th>毛利率_5Y</th>\n",
       "      <th>現金殖利率</th>\n",
       "      <th>現金股利</th>\n",
       "      <th>股價</th>\n",
       "      <th>董監持股(%)</th>\n",
       "    </tr>\n",
       "  </thead>\n",
       "  <tbody>\n",
       "    <tr>\n",
       "      <th>144</th>\n",
       "      <td>1</td>\n",
       "      <td>1</td>\n",
       "      <td>1</td>\n",
       "      <td>1</td>\n",
       "      <td>1.06</td>\n",
       "      <td>1</td>\n",
       "      <td>1</td>\n",
       "    </tr>\n",
       "    <tr>\n",
       "      <th>135</th>\n",
       "      <td>2</td>\n",
       "      <td>2</td>\n",
       "      <td>2</td>\n",
       "      <td>2</td>\n",
       "      <td>7.88</td>\n",
       "      <td>2</td>\n",
       "      <td>2</td>\n",
       "    </tr>\n",
       "    <tr>\n",
       "      <th>164</th>\n",
       "      <td>3</td>\n",
       "      <td>3</td>\n",
       "      <td>3</td>\n",
       "      <td>3</td>\n",
       "      <td>0.28</td>\n",
       "      <td>3</td>\n",
       "      <td>3</td>\n",
       "    </tr>\n",
       "    <tr>\n",
       "      <th>28</th>\n",
       "      <td>4</td>\n",
       "      <td>4</td>\n",
       "      <td>4</td>\n",
       "      <td>4</td>\n",
       "      <td>0.86</td>\n",
       "      <td>4</td>\n",
       "      <td>4</td>\n",
       "    </tr>\n",
       "    <tr>\n",
       "      <th>525</th>\n",
       "      <td>5</td>\n",
       "      <td>5</td>\n",
       "      <td>5</td>\n",
       "      <td>5</td>\n",
       "      <td>1.45</td>\n",
       "      <td>5</td>\n",
       "      <td>5</td>\n",
       "    </tr>\n",
       "  </tbody>\n",
       "</table>\n",
       "</div>"
      ],
      "text/plain": [
       "     ROE_5Y  EPS_5Y  毛利率_5Y  現金殖利率  現金股利  股價  董監持股(%)\n",
       "144       1       1       1      1  1.06   1        1\n",
       "135       2       2       2      2  7.88   2        2\n",
       "164       3       3       3      3  0.28   3        3\n",
       "28        4       4       4      4  0.86   4        4\n",
       "525       5       5       5      5  1.45   5        5"
      ]
     },
     "execution_count": 20,
     "metadata": {},
     "output_type": "execute_result"
    }
   ],
   "source": [
    "X_train.head()"
   ]
  },
  {
   "cell_type": "code",
   "execution_count": 21,
   "id": "5ae6b9d6",
   "metadata": {},
   "outputs": [
    {
     "data": {
      "text/html": [
       "<div>\n",
       "<style scoped>\n",
       "    .dataframe tbody tr th:only-of-type {\n",
       "        vertical-align: middle;\n",
       "    }\n",
       "\n",
       "    .dataframe tbody tr th {\n",
       "        vertical-align: top;\n",
       "    }\n",
       "\n",
       "    .dataframe thead th {\n",
       "        text-align: right;\n",
       "    }\n",
       "</style>\n",
       "<table border=\"1\" class=\"dataframe\">\n",
       "  <thead>\n",
       "    <tr style=\"text-align: right;\">\n",
       "      <th></th>\n",
       "      <th>ROE_5Y</th>\n",
       "      <th>EPS_5Y</th>\n",
       "      <th>毛利率_5Y</th>\n",
       "      <th>現金殖利率</th>\n",
       "      <th>現金股利</th>\n",
       "      <th>股價</th>\n",
       "      <th>董監持股(%)</th>\n",
       "    </tr>\n",
       "  </thead>\n",
       "  <tbody>\n",
       "    <tr>\n",
       "      <th>299</th>\n",
       "      <td>-1.0</td>\n",
       "      <td>449.0</td>\n",
       "      <td>-1.0</td>\n",
       "      <td>25.0</td>\n",
       "      <td>0.00</td>\n",
       "      <td>419.0</td>\n",
       "      <td>269.0</td>\n",
       "    </tr>\n",
       "    <tr>\n",
       "      <th>63</th>\n",
       "      <td>-1.0</td>\n",
       "      <td>-1.0</td>\n",
       "      <td>-1.0</td>\n",
       "      <td>-1.0</td>\n",
       "      <td>2.63</td>\n",
       "      <td>219.0</td>\n",
       "      <td>11.0</td>\n",
       "    </tr>\n",
       "    <tr>\n",
       "      <th>136</th>\n",
       "      <td>292.0</td>\n",
       "      <td>-1.0</td>\n",
       "      <td>-1.0</td>\n",
       "      <td>375.0</td>\n",
       "      <td>1.20</td>\n",
       "      <td>-1.0</td>\n",
       "      <td>-1.0</td>\n",
       "    </tr>\n",
       "    <tr>\n",
       "      <th>597</th>\n",
       "      <td>-1.0</td>\n",
       "      <td>-1.0</td>\n",
       "      <td>-1.0</td>\n",
       "      <td>-1.0</td>\n",
       "      <td>0.60</td>\n",
       "      <td>-1.0</td>\n",
       "      <td>11.0</td>\n",
       "    </tr>\n",
       "    <tr>\n",
       "      <th>261</th>\n",
       "      <td>-1.0</td>\n",
       "      <td>277.0</td>\n",
       "      <td>-1.0</td>\n",
       "      <td>-1.0</td>\n",
       "      <td>0.10</td>\n",
       "      <td>-1.0</td>\n",
       "      <td>-1.0</td>\n",
       "    </tr>\n",
       "  </tbody>\n",
       "</table>\n",
       "</div>"
      ],
      "text/plain": [
       "     ROE_5Y  EPS_5Y  毛利率_5Y  現金殖利率  現金股利     股價  董監持股(%)\n",
       "299    -1.0   449.0    -1.0   25.0  0.00  419.0    269.0\n",
       "63     -1.0    -1.0    -1.0   -1.0  2.63  219.0     11.0\n",
       "136   292.0    -1.0    -1.0  375.0  1.20   -1.0     -1.0\n",
       "597    -1.0    -1.0    -1.0   -1.0  0.60   -1.0     11.0\n",
       "261    -1.0   277.0    -1.0   -1.0  0.10   -1.0     -1.0"
      ]
     },
     "execution_count": 21,
     "metadata": {},
     "output_type": "execute_result"
    }
   ],
   "source": [
    "X_test.head()"
   ]
  },
  {
   "cell_type": "code",
   "execution_count": 22,
   "id": "1d902bbb",
   "metadata": {},
   "outputs": [],
   "source": [
    "from sklearn.tree import DecisionTreeClassifier"
   ]
  },
  {
   "cell_type": "code",
   "execution_count": 23,
   "id": "717e7c65",
   "metadata": {},
   "outputs": [
    {
     "data": {
      "text/html": [
       "<style>#sk-container-id-1 {color: black;background-color: white;}#sk-container-id-1 pre{padding: 0;}#sk-container-id-1 div.sk-toggleable {background-color: white;}#sk-container-id-1 label.sk-toggleable__label {cursor: pointer;display: block;width: 100%;margin-bottom: 0;padding: 0.3em;box-sizing: border-box;text-align: center;}#sk-container-id-1 label.sk-toggleable__label-arrow:before {content: \"▸\";float: left;margin-right: 0.25em;color: #696969;}#sk-container-id-1 label.sk-toggleable__label-arrow:hover:before {color: black;}#sk-container-id-1 div.sk-estimator:hover label.sk-toggleable__label-arrow:before {color: black;}#sk-container-id-1 div.sk-toggleable__content {max-height: 0;max-width: 0;overflow: hidden;text-align: left;background-color: #f0f8ff;}#sk-container-id-1 div.sk-toggleable__content pre {margin: 0.2em;color: black;border-radius: 0.25em;background-color: #f0f8ff;}#sk-container-id-1 input.sk-toggleable__control:checked~div.sk-toggleable__content {max-height: 200px;max-width: 100%;overflow: auto;}#sk-container-id-1 input.sk-toggleable__control:checked~label.sk-toggleable__label-arrow:before {content: \"▾\";}#sk-container-id-1 div.sk-estimator input.sk-toggleable__control:checked~label.sk-toggleable__label {background-color: #d4ebff;}#sk-container-id-1 div.sk-label input.sk-toggleable__control:checked~label.sk-toggleable__label {background-color: #d4ebff;}#sk-container-id-1 input.sk-hidden--visually {border: 0;clip: rect(1px 1px 1px 1px);clip: rect(1px, 1px, 1px, 1px);height: 1px;margin: -1px;overflow: hidden;padding: 0;position: absolute;width: 1px;}#sk-container-id-1 div.sk-estimator {font-family: monospace;background-color: #f0f8ff;border: 1px dotted black;border-radius: 0.25em;box-sizing: border-box;margin-bottom: 0.5em;}#sk-container-id-1 div.sk-estimator:hover {background-color: #d4ebff;}#sk-container-id-1 div.sk-parallel-item::after {content: \"\";width: 100%;border-bottom: 1px solid gray;flex-grow: 1;}#sk-container-id-1 div.sk-label:hover label.sk-toggleable__label {background-color: #d4ebff;}#sk-container-id-1 div.sk-serial::before {content: \"\";position: absolute;border-left: 1px solid gray;box-sizing: border-box;top: 0;bottom: 0;left: 50%;z-index: 0;}#sk-container-id-1 div.sk-serial {display: flex;flex-direction: column;align-items: center;background-color: white;padding-right: 0.2em;padding-left: 0.2em;position: relative;}#sk-container-id-1 div.sk-item {position: relative;z-index: 1;}#sk-container-id-1 div.sk-parallel {display: flex;align-items: stretch;justify-content: center;background-color: white;position: relative;}#sk-container-id-1 div.sk-item::before, #sk-container-id-1 div.sk-parallel-item::before {content: \"\";position: absolute;border-left: 1px solid gray;box-sizing: border-box;top: 0;bottom: 0;left: 50%;z-index: -1;}#sk-container-id-1 div.sk-parallel-item {display: flex;flex-direction: column;z-index: 1;position: relative;background-color: white;}#sk-container-id-1 div.sk-parallel-item:first-child::after {align-self: flex-end;width: 50%;}#sk-container-id-1 div.sk-parallel-item:last-child::after {align-self: flex-start;width: 50%;}#sk-container-id-1 div.sk-parallel-item:only-child::after {width: 0;}#sk-container-id-1 div.sk-dashed-wrapped {border: 1px dashed gray;margin: 0 0.4em 0.5em 0.4em;box-sizing: border-box;padding-bottom: 0.4em;background-color: white;}#sk-container-id-1 div.sk-label label {font-family: monospace;font-weight: bold;display: inline-block;line-height: 1.2em;}#sk-container-id-1 div.sk-label-container {text-align: center;}#sk-container-id-1 div.sk-container {/* jupyter's `normalize.less` sets `[hidden] { display: none; }` but bootstrap.min.css set `[hidden] { display: none !important; }` so we also need the `!important` here to be able to override the default hidden behavior on the sphinx rendered scikit-learn.org. See: https://github.com/scikit-learn/scikit-learn/issues/21755 */display: inline-block !important;position: relative;}#sk-container-id-1 div.sk-text-repr-fallback {display: none;}</style><div id=\"sk-container-id-1\" class=\"sk-top-container\"><div class=\"sk-text-repr-fallback\"><pre>DecisionTreeClassifier(max_depth=3, random_state=0)</pre><b>In a Jupyter environment, please rerun this cell to show the HTML representation or trust the notebook. <br />On GitHub, the HTML representation is unable to render, please try loading this page with nbviewer.org.</b></div><div class=\"sk-container\" hidden><div class=\"sk-item\"><div class=\"sk-estimator sk-toggleable\"><input class=\"sk-toggleable__control sk-hidden--visually\" id=\"sk-estimator-id-1\" type=\"checkbox\" checked><label for=\"sk-estimator-id-1\" class=\"sk-toggleable__label sk-toggleable__label-arrow\">DecisionTreeClassifier</label><div class=\"sk-toggleable__content\"><pre>DecisionTreeClassifier(max_depth=3, random_state=0)</pre></div></div></div></div></div>"
      ],
      "text/plain": [
       "DecisionTreeClassifier(max_depth=3, random_state=0)"
      ]
     },
     "execution_count": 23,
     "metadata": {},
     "output_type": "execute_result"
    }
   ],
   "source": [
    "clf_gini = DecisionTreeClassifier(criterion='gini', max_depth=3, random_state=0)\n",
    "\n",
    "\n",
    "# fit the model\n",
    "clf_gini.fit(X_train, y_train)"
   ]
  },
  {
   "cell_type": "code",
   "execution_count": 24,
   "id": "44df8818",
   "metadata": {},
   "outputs": [],
   "source": [
    "y_pred_gini = clf_gini.predict(X_test)"
   ]
  },
  {
   "cell_type": "code",
   "execution_count": 25,
   "id": "0017a96e",
   "metadata": {},
   "outputs": [
    {
     "name": "stdout",
     "output_type": "stream",
     "text": [
      "Model accuracy score with criterion gini index: 0.6032\n"
     ]
    }
   ],
   "source": [
    "from sklearn.metrics import accuracy_score\n",
    "\n",
    "print('Model accuracy score with criterion gini index: {0:0.4f}'. format(accuracy_score(y_test, y_pred_gini)))"
   ]
  },
  {
   "cell_type": "code",
   "execution_count": 26,
   "id": "ae0e75ba",
   "metadata": {},
   "outputs": [
    {
     "data": {
      "text/plain": [
       "array([0, 1, 0, 0, 1, 1, 0, 1, 0, 1, 0, 1, 0, 1, 0, 0, 1, 1, 1, 0, 0, 0,\n",
       "       1, 1, 0, 1, 0, 0, 0, 1, 0, 0, 1, 0, 0, 0, 1, 0, 0, 1, 0, 1, 0, 1,\n",
       "       0, 1, 0, 0, 1, 0, 1, 1, 1, 1, 1, 0, 1, 0, 1, 1, 1, 0, 1, 0, 0, 0,\n",
       "       0, 1, 1, 1, 1, 1, 0, 0, 1, 1, 1, 1, 1, 1, 1, 1, 1, 1, 1, 1, 1, 1,\n",
       "       1, 1, 1, 1, 1, 1, 1, 1, 1, 1, 1, 1, 1, 1, 1, 1, 1, 0, 1, 1, 1, 1,\n",
       "       1, 1, 1, 1, 1, 1, 1, 1, 1, 1, 1, 1, 1, 1, 1, 1, 1, 1, 1, 1, 1, 1,\n",
       "       0, 1, 1, 1, 1, 1, 1, 1, 1, 1, 0, 1, 1, 1, 1, 1, 1, 1, 1, 1, 1, 1,\n",
       "       1, 1, 1, 1, 1, 1, 1, 1, 1, 1, 1, 1, 1, 1, 1, 1, 1, 1, 1, 1, 1, 1,\n",
       "       1, 1, 1, 1, 1, 0, 1, 1, 1, 1, 1, 1, 1, 1, 1, 1, 1, 1, 1, 1, 1, 1,\n",
       "       0, 1, 1, 1, 1, 1, 0, 0, 1, 0, 0, 1, 1, 0, 1, 1, 0, 0, 0, 0, 1, 0,\n",
       "       0, 1, 1, 1, 1, 0, 0, 0, 0, 1, 0, 1, 0, 0, 0, 0, 0, 1, 1, 1, 0, 1,\n",
       "       1, 0, 1, 0, 1, 0, 1, 0, 0, 1, 0, 1, 1, 0, 0, 0, 1, 1, 1, 1, 0, 0,\n",
       "       0, 0, 1, 1, 1, 1, 1, 1, 0, 1, 0, 1, 1, 1, 0, 0, 0, 0, 0, 1, 0, 0,\n",
       "       0, 1, 1, 0, 1, 0, 1, 0, 0, 1, 0, 0, 1, 0, 1, 1, 1, 1, 1, 1, 0, 1,\n",
       "       1, 1, 1, 1, 1, 1, 1, 1, 1, 1, 1, 1, 1, 1, 1, 1, 1, 1, 0, 0, 1, 1,\n",
       "       0, 0, 1, 1, 1, 1, 0, 0, 0, 1, 0, 1, 1, 1, 0, 0, 1, 1, 1, 1, 0, 0,\n",
       "       1, 0, 0, 1, 1, 1, 0, 1, 1, 1, 1, 1, 1, 1, 0, 0, 1, 0, 1, 1, 0, 0,\n",
       "       1, 1, 0, 1, 1, 0, 1, 0, 1, 0, 1, 0, 0, 1, 0, 1, 0, 0, 0, 1, 1, 1,\n",
       "       1, 0, 1, 1, 0, 1, 1, 1, 1, 1, 0, 1, 1, 0, 0, 1, 1, 1, 0, 0, 0, 0,\n",
       "       1, 0, 1, 0, 0, 1, 1, 0, 0, 1, 1, 0, 0, 0, 0, 0, 1, 0, 1, 1, 1, 0,\n",
       "       1, 1, 0, 0, 1, 0, 0, 0, 1, 0, 1, 1, 1, 1, 0, 0, 1, 0, 1, 0, 1, 1,\n",
       "       0, 0, 1, 1, 0, 0, 0, 0, 0, 0, 1, 1, 0, 1, 1, 1, 1, 0, 1, 1, 1, 1,\n",
       "       1, 1, 1, 0, 1, 0, 0, 0, 1, 0, 0, 1, 0, 1, 0, 1, 1, 0, 0, 0, 1, 1,\n",
       "       1, 1, 1, 1, 1, 1, 0, 0, 0, 0, 1, 0, 1, 1, 0, 0, 0, 0, 0, 0, 0, 1,\n",
       "       1, 1, 0, 0, 1, 1, 1, 0, 0, 1, 0, 1, 1, 0, 0, 1, 1, 0, 1, 1, 0, 1,\n",
       "       0, 0, 0, 1, 1, 1, 1, 0, 0, 0, 1, 0, 1, 1, 0, 1, 1, 0, 1, 1, 1, 1,\n",
       "       1, 0, 1, 0, 1, 1, 1, 0, 1, 0, 1, 0, 0, 0, 1, 0, 1, 0, 0, 1, 1, 0,\n",
       "       0, 1, 1, 0, 0, 0, 0, 1, 0, 0, 1, 0, 1, 1, 1, 1, 1, 0, 1, 0, 0, 0,\n",
       "       0, 0, 1, 1, 0, 1, 0, 0, 0, 1, 0, 0, 0], dtype=int64)"
      ]
     },
     "execution_count": 26,
     "metadata": {},
     "output_type": "execute_result"
    }
   ],
   "source": [
    "y_pred_train_gini = clf_gini.predict(X_train)\n",
    "\n",
    "y_pred_train_gini"
   ]
  },
  {
   "cell_type": "code",
   "execution_count": 27,
   "id": "7b117791",
   "metadata": {},
   "outputs": [
    {
     "name": "stdout",
     "output_type": "stream",
     "text": [
      "Training-set accuracy score: 0.6661\n"
     ]
    }
   ],
   "source": [
    "print('Training-set accuracy score: {0:0.4f}'. format(accuracy_score(y_train, y_pred_train_gini)))"
   ]
  },
  {
   "cell_type": "code",
   "execution_count": 28,
   "id": "2b27f3bc",
   "metadata": {},
   "outputs": [
    {
     "name": "stdout",
     "output_type": "stream",
     "text": [
      "Training set score: 0.6661\n",
      "Test set score: 0.6032\n"
     ]
    }
   ],
   "source": [
    "print('Training set score: {:.4f}'.format(clf_gini.score(X_train, y_train)))\n",
    "\n",
    "print('Test set score: {:.4f}'.format(clf_gini.score(X_test, y_test)))"
   ]
  },
  {
   "cell_type": "code",
   "execution_count": 29,
   "id": "60dac0e3",
   "metadata": {},
   "outputs": [
    {
     "data": {
      "text/plain": [
       "[Text(0.5, 0.875, 'X[4] <= 1.165\\ngini = 0.5\\nsamples = 629\\nvalue = [312, 317]'),\n",
       " Text(0.25, 0.625, 'X[2] <= 74.0\\ngini = 0.47\\nsamples = 304\\nvalue = [189, 115]'),\n",
       " Text(0.125, 0.375, 'X[6] <= 61.5\\ngini = 0.331\\nsamples = 62\\nvalue = [49, 13]'),\n",
       " Text(0.0625, 0.125, 'gini = 0.461\\nsamples = 36\\nvalue = [23, 13]'),\n",
       " Text(0.1875, 0.125, 'gini = 0.0\\nsamples = 26\\nvalue = [26, 0]'),\n",
       " Text(0.375, 0.375, 'X[6] <= 294.5\\ngini = 0.488\\nsamples = 242\\nvalue = [140, 102]'),\n",
       " Text(0.3125, 0.125, 'gini = 0.499\\nsamples = 135\\nvalue = [65, 70]'),\n",
       " Text(0.4375, 0.125, 'gini = 0.419\\nsamples = 107\\nvalue = [75, 32]'),\n",
       " Text(0.75, 0.625, 'X[5] <= 196.0\\ngini = 0.47\\nsamples = 325\\nvalue = [123, 202]'),\n",
       " Text(0.625, 0.375, 'X[4] <= 3.98\\ngini = 0.389\\nsamples = 121\\nvalue = [32, 89]'),\n",
       " Text(0.5625, 0.125, 'gini = 0.442\\nsamples = 88\\nvalue = [29, 59]'),\n",
       " Text(0.6875, 0.125, 'gini = 0.165\\nsamples = 33\\nvalue = [3, 30]'),\n",
       " Text(0.875, 0.375, 'X[1] <= 258.5\\ngini = 0.494\\nsamples = 204\\nvalue = [91, 113]'),\n",
       " Text(0.8125, 0.125, 'gini = 0.448\\nsamples = 71\\nvalue = [47, 24]'),\n",
       " Text(0.9375, 0.125, 'gini = 0.443\\nsamples = 133\\nvalue = [44, 89]')]"
      ]
     },
     "execution_count": 29,
     "metadata": {},
     "output_type": "execute_result"
    },
    {
     "data": {
      "image/png": "[encoded data removed]",
      "text/plain": [
       "<Figure size 864x576 with 1 Axes>"
      ]
     },
     "metadata": {
      "needs_background": "light"
     },
     "output_type": "display_data"
    }
   ],
   "source": [
    "plt.figure(figsize=(12,8))\n",
    "\n",
    "from sklearn import tree\n",
    "\n",
    "tree.plot_tree(clf_gini.fit(X_train, y_train)) "
   ]
  },
  {
   "cell_type": "code",
   "execution_count": null,
   "id": "6397b25b",
   "metadata": {},
   "outputs": [],
   "source": []
  }
 ],
 "metadata": {
  "kernelspec": {
   "display_name": "Python 3",
   "language": "python",
   "name": "python3"
  },
  "language_info": {
   "codemirror_mode": {
    "name": "ipython",
    "version": 3
   },
   "file_extension": ".py",
   "mimetype": "text/x-python",
   "name": "python",
   "nbconvert_exporter": "python",
   "pygments_lexer": "ipython3",
   "version": "3.9.0"
  }
 },
 "nbformat": 4,
 "nbformat_minor": 5
}
